{
 "cells": [
  {
   "cell_type": "markdown",
   "metadata": {},
   "source": [
    "### A very simple example of call to *GISCO* web-services..."
   ]
  },
  {
   "cell_type": "markdown",
   "metadata": {},
   "source": [
    "Let us run a very simple example using the `happyGISCO` module. One can refer anytime to the documentation available at this address:  http://happygisco.readthedocs.io."
   ]
  },
  {
   "cell_type": "code",
   "execution_count": 1,
   "metadata": {},
   "outputs": [
    {
     "name": "stdout",
     "output_type": "stream",
     "text": [
      "GOOGLEMAPS help: https://github.com/googlemaps/google-maps-services-python\n",
      "! GOOGLEPLACES package (https://github.com/slimkrazy/python-google-places) not loaded !\n",
      "GEOPY help: http://geopy.readthedocs.io/en/latest/\n",
      "! missing SIMPLEJSON package (https://pypi.python.org/pypi/simplejson/) <class 'ImportWarning'> !\n"
     ]
    }
   ],
   "source": [
    "import happygisco\n",
    "from happygisco import services"
   ]
  },
  {
   "cell_type": "markdown",
   "metadata": {},
   "source": [
    "We first create a instance of a `GISCO`-based service."
   ]
  },
  {
   "cell_type": "code",
   "execution_count": 2,
   "metadata": {
    "collapsed": true
   },
   "outputs": [],
   "source": [
    "serv=services.GISCOService()"
   ]
  },
  {
   "cell_type": "markdown",
   "metadata": {},
   "source": [
    "In the following, we will use this instance to perform various operations, calling everytim *GISCO* web-services. \n",
    "\n",
    "Let us simply define a geolocation by its common name:"
   ]
  },
  {
   "cell_type": "code",
   "execution_count": 3,
   "metadata": {},
   "outputs": [],
   "source": [
    "whereamI = 'Luxembourg'"
   ]
  },
  {
   "cell_type": "markdown",
   "metadata": {},
   "source": [
    "We could also have chosen to actually use: `wheramI = \"Luxembourg, Luxembourg\"`. That is up to us actually...and to the service capability to resolve toponame ambibuity.\n",
    "\n",
    "One can already simply run the service to retrieve the geographical coordinates of the considered location, since the method `place2coord` can be used for that purpose:"
   ]
  },
  {
   "cell_type": "code",
   "execution_count": 4,
   "metadata": {},
   "outputs": [
    {
     "data": {
      "text/plain": [
       "[[49.8158683, 6.1296751],\n",
       " [49.6047585, 6.142580146666669],\n",
       " [48.3777152, 4.2576617],\n",
       " [49.6112768, 6.129799]]"
      ]
     },
     "execution_count": 4,
     "metadata": {},
     "output_type": "execute_result"
    }
   ],
   "source": [
    "serv.place2coord(whereamI)"
   ]
  },
  {
   "cell_type": "markdown",
   "metadata": {},
   "source": [
    "Hence, we got this way all the geolocations that *\"potentially\"* correspond to the name `whereamI`. We can actually decide to retrieve one location instead of all of them, *e.g.* the first one in the list (rather arbitrarly):"
   ]
  },
  {
   "cell_type": "code",
   "execution_count": 5,
   "metadata": {},
   "outputs": [],
   "source": [
    "coord = serv.place2coord(whereamI, unique=True)"
   ]
  },
  {
   "cell_type": "markdown",
   "metadata": {},
   "source": [
    "What if we *\"revert\"* the geocoding service to try to identify the name of the location:"
   ]
  },
  {
   "cell_type": "code",
   "execution_count": 6,
   "metadata": {},
   "outputs": [
    {
     "data": {
      "text/plain": [
       "'Schieren, 7421, Luxembourg'"
      ]
     },
     "execution_count": 6,
     "metadata": {},
     "output_type": "execute_result"
    }
   ],
   "source": [
    "serv.coord2place(coord)"
   ]
  },
  {
   "cell_type": "markdown",
   "metadata": {},
   "source": [
    "Hence, it does not exactly correspond to the input location name... not so surprising. What if we run the same service on the whole collection of all retrieved geographical coordinates:"
   ]
  },
  {
   "cell_type": "code",
   "execution_count": 7,
   "metadata": {},
   "outputs": [
    {
     "data": {
      "text/plain": [
       "['Schieren, 7421, Luxembourg',\n",
       " \"Rue d'Itzig, Luxembourg, 1118, Luxembourg\",\n",
       " \"Rue de l'Église, Bouy-Luxembourg, (Grand Est), 10220, France\",\n",
       " 'Luxembourg, 2525, Luxembourg']"
      ]
     },
     "execution_count": 7,
     "metadata": {},
     "output_type": "execute_result"
    }
   ],
   "source": [
    "serv.coord2place(serv.place2coord(whereamI))"
   ]
  },
  {
   "cell_type": "markdown",
   "metadata": {},
   "source": [
    "Note that any time, we actually call the *GISCO* geoservice... there is **no caching** of the data fetched through the service!\n",
    "\n",
    "We can further use this service to retrieve the *geometry* associated to the location:"
   ]
  },
  {
   "cell_type": "code",
   "execution_count": 8,
   "metadata": {},
   "outputs": [
    {
     "data": {
      "text/plain": [
       "[{'geometry': {'coordinates': [6.1296751, 49.8158683], 'type': 'Point'},\n",
       "  'properties': {'country': 'Luxembourg',\n",
       "   'extent': [5.7357006, 50.1827724, 6.5312481, 49.4478539],\n",
       "   'name': 'Luxembourg',\n",
       "   'osm_id': 2171347,\n",
       "   'osm_key': 'place',\n",
       "   'osm_type': 'R',\n",
       "   'osm_value': 'country'},\n",
       "  'type': 'Feature'},\n",
       " {'geometry': {'coordinates': [5.439918625407589, 49.963667], 'type': 'Point'},\n",
       "  'properties': {'country': 'Belgium',\n",
       "   'extent': [4.9684415, 50.430377, 6.0344254, 49.4969821],\n",
       "   'name': 'Luxembourg',\n",
       "   'osm_id': 1412581,\n",
       "   'osm_key': 'boundary',\n",
       "   'osm_type': 'R',\n",
       "   'osm_value': 'administrative',\n",
       "   'state': 'Wallonia'},\n",
       "  'type': 'Feature'},\n",
       " {'geometry': {'coordinates': [6.142580146666669, 49.6047585],\n",
       "   'type': 'Point'},\n",
       "  'properties': {'country': 'Luxembourg',\n",
       "   'extent': [5.998434, 49.692307, 6.3096867, 49.516975],\n",
       "   'name': 'Canton Luxembourg',\n",
       "   'osm_id': 407824,\n",
       "   'osm_key': 'place',\n",
       "   'osm_type': 'R',\n",
       "   'osm_value': 'county'},\n",
       "  'type': 'Feature'},\n",
       " {'geometry': {'coordinates': [4.2576617, 48.3777152], 'type': 'Point'},\n",
       "  'properties': {'country': 'France',\n",
       "   'extent': [4.209766, 48.3980548, 4.276576, 48.35692],\n",
       "   'name': 'Bouy-Luxembourg',\n",
       "   'osm_id': 2996989,\n",
       "   'osm_key': 'place',\n",
       "   'osm_type': 'R',\n",
       "   'osm_value': 'village',\n",
       "   'postcode': '10220',\n",
       "   'state': 'Grand Est'},\n",
       "  'type': 'Feature'},\n",
       " {'geometry': {'coordinates': [6.129799, 49.6112768], 'type': 'Point'},\n",
       "  'properties': {'country': 'Luxembourg',\n",
       "   'extent': [6.06917, 49.65487, 6.2036457, 49.560986],\n",
       "   'name': 'Luxembourg',\n",
       "   'osm_id': 407489,\n",
       "   'osm_key': 'place',\n",
       "   'osm_type': 'R',\n",
       "   'osm_value': 'city'},\n",
       "  'type': 'Feature'},\n",
       " {'geometry': {'coordinates': [6.1342493, 49.5999681], 'type': 'Point'},\n",
       "  'properties': {'city': 'Luxembourg',\n",
       "   'country': 'Luxembourg',\n",
       "   'housenumber': '13',\n",
       "   'name': 'Luxembourg Central Station',\n",
       "   'osm_id': 3964570119,\n",
       "   'osm_key': 'railway',\n",
       "   'osm_type': 'N',\n",
       "   'osm_value': 'station',\n",
       "   'postcode': '1118',\n",
       "   'street': 'Parvis de la Gare'},\n",
       "  'type': 'Feature'},\n",
       " {'geometry': {'coordinates': [6.209392715990956, 49.62637155],\n",
       "   'type': 'Point'},\n",
       "  'properties': {'city': 'Sandweiler',\n",
       "   'country': 'Luxembourg',\n",
       "   'extent': [6.1810013, 49.6386542, 6.2418142, 49.6141208],\n",
       "   'name': 'Luxembourg Airport',\n",
       "   'osm_id': 389958279,\n",
       "   'osm_key': 'aeroway',\n",
       "   'osm_type': 'W',\n",
       "   'osm_value': 'aerodrome',\n",
       "   'postcode': '2632',\n",
       "   'street': 'Périmètre'},\n",
       "  'type': 'Feature'},\n",
       " {'geometry': {'coordinates': [6.2166985870777385, 49.634411150000005],\n",
       "   'type': 'Point'},\n",
       "  'properties': {'city': 'Niederanven',\n",
       "   'country': 'Luxembourg',\n",
       "   'extent': [6.2154528, 49.6351458, 6.2178197, 49.6336171],\n",
       "   'name': 'Luxembourg Airport',\n",
       "   'osm_id': 87845533,\n",
       "   'osm_key': 'aeroway',\n",
       "   'osm_type': 'W',\n",
       "   'osm_value': 'terminal',\n",
       "   'postcode': '2016',\n",
       "   'street': 'Route de Trèves'},\n",
       "  'type': 'Feature'},\n",
       " {'geometry': {'coordinates': [6.106976945353978, 49.6021683],\n",
       "   'type': 'Point'},\n",
       "  'properties': {'city': 'Luxembourg',\n",
       "   'country': 'Luxembourg',\n",
       "   'extent': [6.1061359, 49.6028234, 6.1077042, 49.6015296],\n",
       "   'housenumber': '33',\n",
       "   'name': 'Conservatoire de Luxembourg',\n",
       "   'osm_id': 37826860,\n",
       "   'osm_key': 'building',\n",
       "   'osm_type': 'W',\n",
       "   'osm_value': 'yes',\n",
       "   'postcode': '2134',\n",
       "   'street': 'Rue Charles Martel'},\n",
       "  'type': 'Feature'},\n",
       " {'geometry': {'coordinates': [2.3368362795441913, 48.848558100000005],\n",
       "   'type': 'Point'},\n",
       "  'properties': {'city': 'Paris',\n",
       "   'country': 'France',\n",
       "   'extent': [2.3363295, 48.8492399, 2.3379549, 48.8478664],\n",
       "   'name': 'Palais du Luxembourg',\n",
       "   'osm_id': 975955,\n",
       "   'osm_key': 'historic',\n",
       "   'osm_type': 'R',\n",
       "   'osm_value': 'castle',\n",
       "   'postcode': '75006',\n",
       "   'state': 'Ile-de-France',\n",
       "   'street': 'Cour de Jonction'},\n",
       "  'type': 'Feature'},\n",
       " {'geometry': {'coordinates': [2.3368362795441913, 48.848558100000005],\n",
       "   'type': 'Point'},\n",
       "  'properties': {'city': 'Paris',\n",
       "   'country': 'France',\n",
       "   'extent': [2.3363295, 48.8492399, 2.3379549, 48.8478664],\n",
       "   'name': 'Palais du Luxembourg',\n",
       "   'osm_id': 975955,\n",
       "   'osm_key': 'amenity',\n",
       "   'osm_type': 'R',\n",
       "   'osm_value': 'public_building',\n",
       "   'postcode': '75006',\n",
       "   'state': 'Ile-de-France',\n",
       "   'street': 'Cour de Jonction'},\n",
       "  'type': 'Feature'},\n",
       " {'geometry': {'coordinates': [2.3364130302022517, 48.846722850000006],\n",
       "   'type': 'Point'},\n",
       "  'properties': {'city': 'Paris',\n",
       "   'country': 'France',\n",
       "   'extent': [2.3324598, 48.8490677, 2.34027, 48.8443604],\n",
       "   'name': 'Jardin du Luxembourg',\n",
       "   'osm_id': 128206209,\n",
       "   'osm_key': 'leisure',\n",
       "   'osm_type': 'W',\n",
       "   'osm_value': 'park',\n",
       "   'postcode': '75006',\n",
       "   'state': 'Ile-de-France'},\n",
       "  'type': 'Feature'},\n",
       " {'geometry': {'coordinates': [2.3364130302022517, 48.846722850000006],\n",
       "   'type': 'Point'},\n",
       "  'properties': {'city': 'Paris',\n",
       "   'country': 'France',\n",
       "   'extent': [2.3324598, 48.8490677, 2.34027, 48.8443604],\n",
       "   'name': 'Jardin du Luxembourg',\n",
       "   'osm_id': 128206209,\n",
       "   'osm_key': 'tourism',\n",
       "   'osm_type': 'W',\n",
       "   'osm_value': 'attraction',\n",
       "   'postcode': '75006',\n",
       "   'state': 'Ile-de-France',\n",
       "   'street': 'Cour de Jonction'},\n",
       "  'type': 'Feature'},\n",
       " {'geometry': {'coordinates': [2.3402917, 48.8463852], 'type': 'Point'},\n",
       "  'properties': {'city': 'Paris',\n",
       "   'country': 'France',\n",
       "   'name': 'Luxembourg',\n",
       "   'osm_id': 327432589,\n",
       "   'osm_key': 'railway',\n",
       "   'osm_type': 'N',\n",
       "   'osm_value': 'station',\n",
       "   'postcode': '75006',\n",
       "   'state': 'Ile-de-France',\n",
       "   'street': 'Boulevard Saint-Michel'},\n",
       "  'type': 'Feature'},\n",
       " {'geometry': {'coordinates': [6.1858803660816735, 49.6116947],\n",
       "   'type': 'Point'},\n",
       "  'properties': {'city': 'Luxembourg',\n",
       "   'country': 'Luxembourg',\n",
       "   'extent': [6.182987, 49.6129326, 6.1885075, 49.6105058],\n",
       "   'name': 'Luxembourg American Cemetery and Memorial',\n",
       "   'osm_id': 9387630,\n",
       "   'osm_key': 'landuse',\n",
       "   'osm_type': 'W',\n",
       "   'osm_value': 'cemetery',\n",
       "   'postcode': '1718'},\n",
       "  'type': 'Feature'}]"
      ]
     },
     "execution_count": 8,
     "metadata": {},
     "output_type": "execute_result"
    }
   ],
   "source": [
    "serv.place2area(whereamI)"
   ]
  },
  {
   "cell_type": "markdown",
   "metadata": {},
   "source": [
    "or we are lazy:"
   ]
  },
  {
   "cell_type": "code",
   "execution_count": 9,
   "metadata": {},
   "outputs": [
    {
     "data": {
      "text/plain": [
       "{'geometry': {'coordinates': [6.1296751, 49.8158683], 'type': 'Point'},\n",
       " 'properties': {'country': 'Luxembourg',\n",
       "  'extent': [5.7357006, 50.1827724, 6.5312481, 49.4478539],\n",
       "  'name': 'Luxembourg',\n",
       "  'osm_id': 2171347,\n",
       "  'osm_key': 'place',\n",
       "  'osm_type': 'R',\n",
       "  'osm_value': 'country'},\n",
       " 'type': 'Feature'}"
      ]
     },
     "execution_count": 9,
     "metadata": {},
     "output_type": "execute_result"
    }
   ],
   "source": [
    "serv.place2area(whereamI, unique=True)"
   ]
  },
  {
   "cell_type": "markdown",
   "metadata": {},
   "source": [
    "We are more interested in retrieving/identifying the NUTS value, say at level 2, associated to the geolocation. We can use the method `findnuts` for that purpose:"
   ]
  },
  {
   "cell_type": "code",
   "execution_count": 10,
   "metadata": {},
   "outputs": [
    {
     "data": {
      "text/plain": [
       "{'attributes': {'CNTR_CODE': 'LU',\n",
       "  'LEVL_CODE': '2',\n",
       "  'NAME_LATN': 'Luxembourg',\n",
       "  'NUTS_ID': 'LU00',\n",
       "  'NUTS_NAME': 'Luxembourg',\n",
       "  'OBJECTID': '333',\n",
       "  'SHRT_ENGL': 'Luxembourg'},\n",
       " 'displayFieldName': 'NUTS_ID',\n",
       " 'layerId': 2,\n",
       " 'layerName': 'NUTS_2013',\n",
       " 'value': 'LU00'}"
      ]
     },
     "execution_count": 10,
     "metadata": {},
     "output_type": "execute_result"
    }
   ],
   "source": [
    "serv.place2nuts(whereamI, level=2)"
   ]
  },
  {
   "cell_type": "markdown",
   "metadata": {},
   "source": [
    "or if we are actually interested in retrieving all the NUTS levels (from 0 to 3):"
   ]
  },
  {
   "cell_type": "code",
   "execution_count": 11,
   "metadata": {},
   "outputs": [
    {
     "data": {
      "text/plain": [
       "[{'attributes': {'CNTR_CODE': 'LU',\n",
       "   'LEVL_CODE': '0',\n",
       "   'NAME_LATN': 'LUXEMBOURG',\n",
       "   'NUTS_ID': 'LU',\n",
       "   'NUTS_NAME': 'LUXEMBOURG',\n",
       "   'OBJECTID': '20',\n",
       "   'SHRT_ENGL': 'Luxembourg'},\n",
       "  'displayFieldName': 'NUTS_ID',\n",
       "  'layerId': 2,\n",
       "  'layerName': 'NUTS_2013',\n",
       "  'value': 'LU'},\n",
       " {'attributes': {'CNTR_CODE': 'LU',\n",
       "   'LEVL_CODE': '1',\n",
       "   'NAME_LATN': 'LUXEMBOURG',\n",
       "   'NUTS_ID': 'LU0',\n",
       "   'NUTS_NAME': 'LUXEMBOURG',\n",
       "   'OBJECTID': '97',\n",
       "   'SHRT_ENGL': 'Luxembourg'},\n",
       "  'displayFieldName': 'NUTS_ID',\n",
       "  'layerId': 2,\n",
       "  'layerName': 'NUTS_2013',\n",
       "  'value': 'LU0'},\n",
       " {'attributes': {'CNTR_CODE': 'LU',\n",
       "   'LEVL_CODE': '2',\n",
       "   'NAME_LATN': 'Luxembourg',\n",
       "   'NUTS_ID': 'LU00',\n",
       "   'NUTS_NAME': 'Luxembourg',\n",
       "   'OBJECTID': '333',\n",
       "   'SHRT_ENGL': 'Luxembourg'},\n",
       "  'displayFieldName': 'NUTS_ID',\n",
       "  'layerId': 2,\n",
       "  'layerName': 'NUTS_2013',\n",
       "  'value': 'LU00'},\n",
       " {'attributes': {'CNTR_CODE': 'LU',\n",
       "   'LEVL_CODE': '3',\n",
       "   'NAME_LATN': 'Luxembourg',\n",
       "   'NUTS_ID': 'LU000',\n",
       "   'NUTS_NAME': 'Luxembourg',\n",
       "   'OBJECTID': '1067',\n",
       "   'SHRT_ENGL': 'Luxembourg'},\n",
       "  'displayFieldName': 'NUTS_ID',\n",
       "  'layerId': 2,\n",
       "  'layerName': 'NUTS_2013',\n",
       "  'value': 'LU000'}]"
      ]
     },
     "execution_count": 11,
     "metadata": {},
     "output_type": "execute_result"
    }
   ],
   "source": [
    "serv.place2nuts(whereamI)"
   ]
  },
  {
   "cell_type": "markdown",
   "metadata": {},
   "source": [
    "Similarly, we could have run the service on the already computed geographical coordinates:"
   ]
  },
  {
   "cell_type": "code",
   "execution_count": 12,
   "metadata": {},
   "outputs": [
    {
     "data": {
      "text/plain": [
       "{'attributes': {'CNTR_CODE': 'LU',\n",
       "  'LEVL_CODE': '2',\n",
       "  'NAME_LATN': 'Luxembourg',\n",
       "  'NUTS_ID': 'LU00',\n",
       "  'NUTS_NAME': 'Luxembourg',\n",
       "  'OBJECTID': '333',\n",
       "  'SHRT_ENGL': 'Luxembourg'},\n",
       " 'displayFieldName': 'NUTS_ID',\n",
       " 'layerId': 2,\n",
       " 'layerName': 'NUTS_2013',\n",
       " 'value': 'LU00'}"
      ]
     },
     "execution_count": 12,
     "metadata": {},
     "output_type": "execute_result"
    }
   ],
   "source": [
    "serv.coord2nuts(coord, level=2)"
   ]
  },
  {
   "cell_type": "markdown",
   "metadata": {},
   "source": [
    "That's is folks!"
   ]
  }
 ],
 "metadata": {
  "kernelspec": {
   "display_name": "Python 3",
   "language": "python",
   "name": "python3"
  },
  "language_info": {
   "codemirror_mode": {
    "name": "ipython",
    "version": 3
   },
   "file_extension": ".py",
   "mimetype": "text/x-python",
   "name": "python",
   "nbconvert_exporter": "python",
   "pygments_lexer": "ipython3",
   "version": "3.6.3"
  }
 },
 "nbformat": 4,
 "nbformat_minor": 2
}
