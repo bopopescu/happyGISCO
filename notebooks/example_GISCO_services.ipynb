{
 "cells": [
  {
   "cell_type": "markdown",
   "metadata": {},
   "source": [
    "### A very simple example of call/use of *GISCO* web-services..."
   ]
  },
  {
   "cell_type": "markdown",
   "metadata": {},
   "source": [
    "Let us run a very simple example using the `happyGISCO` module. One can refer anytime to the documentation available at this address:  http://happygisco.readthedocs.io."
   ]
  },
  {
   "cell_type": "code",
   "execution_count": 1,
   "metadata": {},
   "outputs": [
    {
     "name": "stdout",
     "output_type": "stream",
     "text": [
      "! missing FASTENERS package (https://pypi.org/project/fasteners/) <class 'ImportWarning'> !\n",
      "! missing SIMPLEJSON package (https://pypi.python.org/pypi/simplejson/) <class 'ImportWarning'> !\n",
      "! missing GOOGLEPLACES package (https://github.com/slimkrazy/python-google-places) !\n"
     ]
    }
   ],
   "source": [
    "import happygisco\n",
    "from happygisco import services"
   ]
  },
  {
   "cell_type": "markdown",
   "metadata": {},
   "source": [
    "We first create an instance of a `GISCO`-based service."
   ]
  },
  {
   "cell_type": "code",
   "execution_count": 2,
   "metadata": {
    "collapsed": true
   },
   "outputs": [],
   "source": [
    "serv=services.GISCOService()"
   ]
  },
  {
   "cell_type": "markdown",
   "metadata": {},
   "source": [
    "In the following, we will use this instance to perform various operations, calling everytim *GISCO* web-services. \n",
    "\n",
    "Let us simply define a geolocation by its common name:"
   ]
  },
  {
   "cell_type": "code",
   "execution_count": 3,
   "metadata": {
    "collapsed": true
   },
   "outputs": [],
   "source": [
    "whereamI = 'Luxembourg'"
   ]
  },
  {
   "cell_type": "markdown",
   "metadata": {},
   "source": [
    "We could also have chosen to actually use: `wheramI = \"Luxembourg, Luxembourg\"`. That is up to us actually...and to the service capability to resolve toponame ambibuity.\n",
    "\n",
    "One can already simply run the service to retrieve the geographical coordinates of the considered location, since the method `place2coord` can be used for that purpose:"
   ]
  },
  {
   "cell_type": "code",
   "execution_count": 4,
   "metadata": {},
   "outputs": [
    {
     "data": {
      "text/plain": [
       "[[49.8158683, 6.1296751],\n",
       " [49.6047585, 6.142580146666669],\n",
       " [48.3777152, 4.2576617],\n",
       " [49.6112768, 6.129799]]"
      ]
     },
     "execution_count": 4,
     "metadata": {},
     "output_type": "execute_result"
    }
   ],
   "source": [
    "coords = serv.place2coord(whereamI)\n",
    "coords"
   ]
  },
  {
   "cell_type": "markdown",
   "metadata": {},
   "source": [
    "Hence, we got this way all the geolocations that *\"potentially\"* correspond to the name `whereamI`. We can actually decide to retrieve one location instead of all of them, *e.g.* the first one in the list (rather arbitrarly):"
   ]
  },
  {
   "cell_type": "code",
   "execution_count": 5,
   "metadata": {},
   "outputs": [
    {
     "data": {
      "text/plain": [
       "[49.8158683, 6.1296751]"
      ]
     },
     "execution_count": 5,
     "metadata": {},
     "output_type": "execute_result"
    }
   ],
   "source": [
    "coord = serv.place2coord(whereamI, unique=True)\n",
    "coord"
   ]
  },
  {
   "cell_type": "markdown",
   "metadata": {},
   "source": [
    "Note that any time, we actually call the *GISCO* geoservice... there is **no caching** of the data fetched through the service!\n",
    "\n",
    "What if we *\"revert\"* the geocoding service to try to identify the name of the location:"
   ]
  },
  {
   "cell_type": "code",
   "execution_count": 6,
   "metadata": {},
   "outputs": [
    {
     "data": {
      "text/plain": [
       "'Schieren, 7421, Luxembourg'"
      ]
     },
     "execution_count": 6,
     "metadata": {},
     "output_type": "execute_result"
    }
   ],
   "source": [
    "serv.coord2place(coord)"
   ]
  },
  {
   "cell_type": "markdown",
   "metadata": {},
   "source": [
    "Hence, it does not exactly correspond to the input location name... not so surprising. What if we run the same service on the whole collection of all retrieved geographical coordinates:"
   ]
  },
  {
   "cell_type": "code",
   "execution_count": 7,
   "metadata": {},
   "outputs": [
    {
     "data": {
      "text/plain": [
       "['Schieren, 7421, Luxembourg',\n",
       " \"Rue d'Itzig, Luxembourg, 1118, Luxembourg\",\n",
       " \"Rue de l'Église, Bouy-Luxembourg, (Grand Est), 10220, France\",\n",
       " 'Luxembourg, 2525, Luxembourg']"
      ]
     },
     "execution_count": 7,
     "metadata": {},
     "output_type": "execute_result"
    }
   ],
   "source": [
    "names = serv.coord2place(coords)\n",
    "names"
   ]
  },
  {
   "cell_type": "markdown",
   "metadata": {},
   "source": [
    "Hum... note that one of the places retrieved is actually...in France. That's the ambiguity related to the toponame. Note that this issue is actually not solved when passing the country as well (but that is specific to...Luxembourg):"
   ]
  },
  {
   "cell_type": "code",
   "execution_count": 8,
   "metadata": {},
   "outputs": [
    {
     "data": {
      "text/plain": [
       "['Schieren, 7421, Luxembourg',\n",
       " \"Rue d'Itzig, Luxembourg, 1118, Luxembourg\",\n",
       " \"Rue de l'Église, Bouy-Luxembourg, (Grand Est), 10220, France\",\n",
       " 'Luxembourg, 2525, Luxembourg']"
      ]
     },
     "execution_count": 8,
     "metadata": {},
     "output_type": "execute_result"
    }
   ],
   "source": [
    "serv.coord2place(serv.place2coord('Luxembourg, Luxembourg'))"
   ]
  },
  {
   "cell_type": "markdown",
   "metadata": {},
   "source": [
    "We can exploit the outputs of the *GISCO* service, `names` and `coords` data, for visualisation. For that purpose, we will use the module [`folium`](https://github.com/python-visualization/folium) that builds ontop of [`Leaflet.js`](https://leafletjs.com). In addition, we will provides the link to the *\"blue marble\"* tiles served by GISCO as background to render this simple map in the notebook. "
   ]
  },
  {
   "cell_type": "code",
   "execution_count": 9,
   "metadata": {
    "scrolled": true
   },
   "outputs": [
    {
     "data": {
      "text/html": [
       "<div style=\"width:100%;\"><div style=\"position:relative;width:100%;height:0;padding-bottom:60%;\"><iframe src=\"data:text/html;charset=utf-8;base64,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\" style=\"position:absolute;width:100%;height:100%;left:0;top:0;border:none !important;\" allowfullscreen webkitallowfullscreen mozallowfullscreen></iframe></div></div>"
      ],
      "text/plain": [
       "<folium.folium.Map at 0x11516b048>"
      ]
     },
     "execution_count": 9,
     "metadata": {},
     "output_type": "execute_result"
    }
   ],
   "source": [
    "import folium\n",
    "m = folium.Map(location=coord, \n",
    "               tiles='http://europa.eu/webtools/maps/tiles/bmarble/3857/{z}/{y}/{x}', \n",
    "               attr=\"(C) NASA's Earth Observatory -- GISCO blue marble tiles\",\n",
    "               zoom_start=6)\n",
    "[folium.Marker(coords[i], popup=folium.Popup('%s' % names[i], parse_html=True)).add_to(m) for i in range(len(names))]\n",
    "m"
   ]
  },
  {
   "cell_type": "markdown",
   "metadata": {},
   "source": [
    "Now you can zoom in/out on the map, check the location designatd by the marker....\n",
    "\n",
    "We can further use the *GISCO* service to retrieve the *geometry* associated to the location:"
   ]
  },
  {
   "cell_type": "code",
   "execution_count": 10,
   "metadata": {},
   "outputs": [
    {
     "data": {
      "text/plain": [
       "[{'geometry': {'coordinates': [6.1296751, 49.8158683], 'type': 'Point'},\n",
       "  'properties': {'country': 'Luxembourg',\n",
       "   'extent': [5.7357006, 50.1827724, 6.5312481, 49.4478539],\n",
       "   'name': 'Luxembourg',\n",
       "   'osm_id': 2171347,\n",
       "   'osm_key': 'place',\n",
       "   'osm_type': 'R',\n",
       "   'osm_value': 'country'},\n",
       "  'type': 'Feature'},\n",
       " {'geometry': {'coordinates': [5.439918625407589, 49.963667], 'type': 'Point'},\n",
       "  'properties': {'country': 'Belgium',\n",
       "   'extent': [4.9684415, 50.430377, 6.0344254, 49.4969821],\n",
       "   'name': 'Luxembourg',\n",
       "   'osm_id': 1412581,\n",
       "   'osm_key': 'boundary',\n",
       "   'osm_type': 'R',\n",
       "   'osm_value': 'administrative',\n",
       "   'state': 'Wallonia'},\n",
       "  'type': 'Feature'},\n",
       " {'geometry': {'coordinates': [6.142580146666669, 49.6047585],\n",
       "   'type': 'Point'},\n",
       "  'properties': {'country': 'Luxembourg',\n",
       "   'extent': [5.998434, 49.692307, 6.3096867, 49.516975],\n",
       "   'name': 'Canton Luxembourg',\n",
       "   'osm_id': 407824,\n",
       "   'osm_key': 'place',\n",
       "   'osm_type': 'R',\n",
       "   'osm_value': 'county'},\n",
       "  'type': 'Feature'},\n",
       " {'geometry': {'coordinates': [4.2576617, 48.3777152], 'type': 'Point'},\n",
       "  'properties': {'country': 'France',\n",
       "   'extent': [4.209766, 48.3980548, 4.276576, 48.35692],\n",
       "   'name': 'Bouy-Luxembourg',\n",
       "   'osm_id': 2996989,\n",
       "   'osm_key': 'place',\n",
       "   'osm_type': 'R',\n",
       "   'osm_value': 'village',\n",
       "   'postcode': '10220',\n",
       "   'state': 'Grand Est'},\n",
       "  'type': 'Feature'},\n",
       " {'geometry': {'coordinates': [6.129799, 49.6112768], 'type': 'Point'},\n",
       "  'properties': {'country': 'Luxembourg',\n",
       "   'extent': [6.06917, 49.65487, 6.2036457, 49.560986],\n",
       "   'name': 'Luxembourg',\n",
       "   'osm_id': 407489,\n",
       "   'osm_key': 'place',\n",
       "   'osm_type': 'R',\n",
       "   'osm_value': 'city'},\n",
       "  'type': 'Feature'},\n",
       " {'geometry': {'coordinates': [6.1342493, 49.5999681], 'type': 'Point'},\n",
       "  'properties': {'city': 'Luxembourg',\n",
       "   'country': 'Luxembourg',\n",
       "   'housenumber': '13',\n",
       "   'name': 'Luxembourg Central Station',\n",
       "   'osm_id': 3964570119,\n",
       "   'osm_key': 'railway',\n",
       "   'osm_type': 'N',\n",
       "   'osm_value': 'station',\n",
       "   'postcode': '1118',\n",
       "   'street': 'Parvis de la Gare'},\n",
       "  'type': 'Feature'},\n",
       " {'geometry': {'coordinates': [6.209392715990956, 49.62637155],\n",
       "   'type': 'Point'},\n",
       "  'properties': {'city': 'Sandweiler',\n",
       "   'country': 'Luxembourg',\n",
       "   'extent': [6.1810013, 49.6386542, 6.2418142, 49.6141208],\n",
       "   'name': 'Luxembourg Airport',\n",
       "   'osm_id': 389958279,\n",
       "   'osm_key': 'aeroway',\n",
       "   'osm_type': 'W',\n",
       "   'osm_value': 'aerodrome',\n",
       "   'postcode': '2632',\n",
       "   'street': 'Périmètre'},\n",
       "  'type': 'Feature'},\n",
       " {'geometry': {'coordinates': [6.2166985870777385, 49.634411150000005],\n",
       "   'type': 'Point'},\n",
       "  'properties': {'city': 'Niederanven',\n",
       "   'country': 'Luxembourg',\n",
       "   'extent': [6.2154528, 49.6351458, 6.2178197, 49.6336171],\n",
       "   'name': 'Luxembourg Airport',\n",
       "   'osm_id': 87845533,\n",
       "   'osm_key': 'aeroway',\n",
       "   'osm_type': 'W',\n",
       "   'osm_value': 'terminal',\n",
       "   'postcode': '2016',\n",
       "   'street': 'Route de Trèves'},\n",
       "  'type': 'Feature'},\n",
       " {'geometry': {'coordinates': [6.106976945353978, 49.6021683],\n",
       "   'type': 'Point'},\n",
       "  'properties': {'city': 'Luxembourg',\n",
       "   'country': 'Luxembourg',\n",
       "   'extent': [6.1061359, 49.6028234, 6.1077042, 49.6015296],\n",
       "   'housenumber': '33',\n",
       "   'name': 'Conservatoire de Luxembourg',\n",
       "   'osm_id': 37826860,\n",
       "   'osm_key': 'building',\n",
       "   'osm_type': 'W',\n",
       "   'osm_value': 'yes',\n",
       "   'postcode': '2134',\n",
       "   'street': 'Rue Charles Martel'},\n",
       "  'type': 'Feature'},\n",
       " {'geometry': {'coordinates': [2.3368362795441913, 48.848558100000005],\n",
       "   'type': 'Point'},\n",
       "  'properties': {'city': 'Paris',\n",
       "   'country': 'France',\n",
       "   'extent': [2.3363295, 48.8492399, 2.3379549, 48.8478664],\n",
       "   'name': 'Palais du Luxembourg',\n",
       "   'osm_id': 975955,\n",
       "   'osm_key': 'historic',\n",
       "   'osm_type': 'R',\n",
       "   'osm_value': 'castle',\n",
       "   'postcode': '75006',\n",
       "   'state': 'Ile-de-France',\n",
       "   'street': 'Cour de Jonction'},\n",
       "  'type': 'Feature'},\n",
       " {'geometry': {'coordinates': [2.3368362795441913, 48.848558100000005],\n",
       "   'type': 'Point'},\n",
       "  'properties': {'city': 'Paris',\n",
       "   'country': 'France',\n",
       "   'extent': [2.3363295, 48.8492399, 2.3379549, 48.8478664],\n",
       "   'name': 'Palais du Luxembourg',\n",
       "   'osm_id': 975955,\n",
       "   'osm_key': 'amenity',\n",
       "   'osm_type': 'R',\n",
       "   'osm_value': 'public_building',\n",
       "   'postcode': '75006',\n",
       "   'state': 'Ile-de-France',\n",
       "   'street': 'Cour de Jonction'},\n",
       "  'type': 'Feature'},\n",
       " {'geometry': {'coordinates': [2.3364130302022517, 48.846722850000006],\n",
       "   'type': 'Point'},\n",
       "  'properties': {'city': 'Paris',\n",
       "   'country': 'France',\n",
       "   'extent': [2.3324598, 48.8490677, 2.34027, 48.8443604],\n",
       "   'name': 'Jardin du Luxembourg',\n",
       "   'osm_id': 128206209,\n",
       "   'osm_key': 'leisure',\n",
       "   'osm_type': 'W',\n",
       "   'osm_value': 'park',\n",
       "   'postcode': '75006',\n",
       "   'state': 'Ile-de-France'},\n",
       "  'type': 'Feature'},\n",
       " {'geometry': {'coordinates': [2.3364130302022517, 48.846722850000006],\n",
       "   'type': 'Point'},\n",
       "  'properties': {'city': 'Paris',\n",
       "   'country': 'France',\n",
       "   'extent': [2.3324598, 48.8490677, 2.34027, 48.8443604],\n",
       "   'name': 'Jardin du Luxembourg',\n",
       "   'osm_id': 128206209,\n",
       "   'osm_key': 'tourism',\n",
       "   'osm_type': 'W',\n",
       "   'osm_value': 'attraction',\n",
       "   'postcode': '75006',\n",
       "   'state': 'Ile-de-France',\n",
       "   'street': 'Cour de Jonction'},\n",
       "  'type': 'Feature'},\n",
       " {'geometry': {'coordinates': [2.3402917, 48.8463852], 'type': 'Point'},\n",
       "  'properties': {'city': 'Paris',\n",
       "   'country': 'France',\n",
       "   'name': 'Luxembourg',\n",
       "   'osm_id': 327432589,\n",
       "   'osm_key': 'railway',\n",
       "   'osm_type': 'N',\n",
       "   'osm_value': 'station',\n",
       "   'postcode': '75006',\n",
       "   'state': 'Ile-de-France',\n",
       "   'street': 'Boulevard Saint-Michel'},\n",
       "  'type': 'Feature'},\n",
       " {'geometry': {'coordinates': [6.1858803660816735, 49.6116947],\n",
       "   'type': 'Point'},\n",
       "  'properties': {'city': 'Luxembourg',\n",
       "   'country': 'Luxembourg',\n",
       "   'extent': [6.182987, 49.6129326, 6.1885075, 49.6105058],\n",
       "   'name': 'Luxembourg American Cemetery and Memorial',\n",
       "   'osm_id': 9387630,\n",
       "   'osm_key': 'landuse',\n",
       "   'osm_type': 'W',\n",
       "   'osm_value': 'cemetery',\n",
       "   'postcode': '1718'},\n",
       "  'type': 'Feature'}]"
      ]
     },
     "execution_count": 10,
     "metadata": {},
     "output_type": "execute_result"
    }
   ],
   "source": [
    "serv.place2geom(whereamI)"
   ]
  },
  {
   "cell_type": "markdown",
   "metadata": {},
   "source": [
    "or we are lazy:"
   ]
  },
  {
   "cell_type": "code",
   "execution_count": 11,
   "metadata": {},
   "outputs": [
    {
     "data": {
      "text/plain": [
       "{'geometry': {'coordinates': [6.1296751, 49.8158683], 'type': 'Point'},\n",
       " 'properties': {'country': 'Luxembourg',\n",
       "  'extent': [5.7357006, 50.1827724, 6.5312481, 49.4478539],\n",
       "  'name': 'Luxembourg',\n",
       "  'osm_id': 2171347,\n",
       "  'osm_key': 'place',\n",
       "  'osm_type': 'R',\n",
       "  'osm_value': 'country'},\n",
       " 'type': 'Feature'}"
      ]
     },
     "execution_count": 11,
     "metadata": {},
     "output_type": "execute_result"
    }
   ],
   "source": [
    "area = serv.place2geom(whereamI, unique=True)\n",
    "area"
   ]
  },
  {
   "cell_type": "markdown",
   "metadata": {},
   "source": [
    "We are more interested in retrieving/identifying the NUTS value, say at level 2, associated to the geolocation. We can use the method `findnuts` for that purpose:"
   ]
  },
  {
   "cell_type": "code",
   "execution_count": 12,
   "metadata": {},
   "outputs": [
    {
     "data": {
      "text/plain": [
       "{'attributes': {'CNTR_CODE': 'LU',\n",
       "  'LEVL_CODE': '2',\n",
       "  'NAME_LATN': 'Luxembourg',\n",
       "  'NUTS_ID': 'LU00',\n",
       "  'NUTS_NAME': 'Luxembourg',\n",
       "  'OBJECTID': '333',\n",
       "  'SHRT_ENGL': 'Luxembourg'},\n",
       " 'displayFieldName': 'NUTS_ID',\n",
       " 'layerId': 2,\n",
       " 'layerName': 'NUTS_2013',\n",
       " 'value': 'LU00'}"
      ]
     },
     "execution_count": 12,
     "metadata": {},
     "output_type": "execute_result"
    }
   ],
   "source": [
    "serv.place2nuts(whereamI, level=2)"
   ]
  },
  {
   "cell_type": "markdown",
   "metadata": {},
   "source": [
    "or if we are actually interested in retrieving all the NUTS levels (from 0 to 3):"
   ]
  },
  {
   "cell_type": "code",
   "execution_count": 13,
   "metadata": {},
   "outputs": [
    {
     "data": {
      "text/plain": [
       "[{'attributes': {'CNTR_CODE': 'LU',\n",
       "   'LEVL_CODE': '0',\n",
       "   'NAME_LATN': 'LUXEMBOURG',\n",
       "   'NUTS_ID': 'LU',\n",
       "   'NUTS_NAME': 'LUXEMBOURG',\n",
       "   'OBJECTID': '20',\n",
       "   'SHRT_ENGL': 'Luxembourg'},\n",
       "  'displayFieldName': 'NUTS_ID',\n",
       "  'layerId': 2,\n",
       "  'layerName': 'NUTS_2013',\n",
       "  'value': 'LU'},\n",
       " {'attributes': {'CNTR_CODE': 'LU',\n",
       "   'LEVL_CODE': '1',\n",
       "   'NAME_LATN': 'LUXEMBOURG',\n",
       "   'NUTS_ID': 'LU0',\n",
       "   'NUTS_NAME': 'LUXEMBOURG',\n",
       "   'OBJECTID': '97',\n",
       "   'SHRT_ENGL': 'Luxembourg'},\n",
       "  'displayFieldName': 'NUTS_ID',\n",
       "  'layerId': 2,\n",
       "  'layerName': 'NUTS_2013',\n",
       "  'value': 'LU0'},\n",
       " {'attributes': {'CNTR_CODE': 'LU',\n",
       "   'LEVL_CODE': '2',\n",
       "   'NAME_LATN': 'Luxembourg',\n",
       "   'NUTS_ID': 'LU00',\n",
       "   'NUTS_NAME': 'Luxembourg',\n",
       "   'OBJECTID': '333',\n",
       "   'SHRT_ENGL': 'Luxembourg'},\n",
       "  'displayFieldName': 'NUTS_ID',\n",
       "  'layerId': 2,\n",
       "  'layerName': 'NUTS_2013',\n",
       "  'value': 'LU00'},\n",
       " {'attributes': {'CNTR_CODE': 'LU',\n",
       "   'LEVL_CODE': '3',\n",
       "   'NAME_LATN': 'Luxembourg',\n",
       "   'NUTS_ID': 'LU000',\n",
       "   'NUTS_NAME': 'Luxembourg',\n",
       "   'OBJECTID': '1067',\n",
       "   'SHRT_ENGL': 'Luxembourg'},\n",
       "  'displayFieldName': 'NUTS_ID',\n",
       "  'layerId': 2,\n",
       "  'layerName': 'NUTS_2013',\n",
       "  'value': 'LU000'}]"
      ]
     },
     "execution_count": 13,
     "metadata": {},
     "output_type": "execute_result"
    }
   ],
   "source": [
    "serv.place2nuts(whereamI)"
   ]
  },
  {
   "cell_type": "markdown",
   "metadata": {},
   "source": [
    "Similarly, we could have run the service on the already computed geographical coordinates:"
   ]
  },
  {
   "cell_type": "code",
   "execution_count": 14,
   "metadata": {},
   "outputs": [
    {
     "data": {
      "text/plain": [
       "{'attributes': {'CNTR_CODE': 'LU',\n",
       "  'LEVL_CODE': '2',\n",
       "  'NAME_LATN': 'Luxembourg',\n",
       "  'NUTS_ID': 'LU00',\n",
       "  'NUTS_NAME': 'Luxembourg',\n",
       "  'OBJECTID': '333',\n",
       "  'SHRT_ENGL': 'Luxembourg'},\n",
       " 'displayFieldName': 'NUTS_ID',\n",
       " 'layerId': 2,\n",
       " 'layerName': 'NUTS_2013',\n",
       " 'value': 'LU00'}"
      ]
     },
     "execution_count": 14,
     "metadata": {},
     "output_type": "execute_result"
    }
   ],
   "source": [
    "serv.coord2nuts(coord, level=2)"
   ]
  },
  {
   "cell_type": "markdown",
   "metadata": {},
   "source": [
    "That's is folks!"
   ]
  }
 ],
 "metadata": {
  "kernelspec": {
   "display_name": "Python 3",
   "language": "python",
   "name": "python3"
  },
  "language_info": {
   "codemirror_mode": {
    "name": "ipython",
    "version": 3
   },
   "file_extension": ".py",
   "mimetype": "text/x-python",
   "name": "python",
   "nbconvert_exporter": "python",
   "pygments_lexer": "ipython3",
   "version": "3.6.3"
  }
 },
 "nbformat": 4,
 "nbformat_minor": 2
}
