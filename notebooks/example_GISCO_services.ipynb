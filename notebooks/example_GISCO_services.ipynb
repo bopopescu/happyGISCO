{
 "cells": [
  {
   "cell_type": "markdown",
   "metadata": {},
   "source": [
    "### A very simple example of call/use of *GISCO* web-services..."
   ]
  },
  {
   "cell_type": "markdown",
   "metadata": {},
   "source": [
    "Let us run a very simple example using the [**`happyGISCO`**](https://github.com/eurostat/happyGISCO) module. One can refer anytime to the documentation available at this address:  http://happygisco.readthedocs.io."
   ]
  },
  {
   "cell_type": "code",
   "execution_count": 1,
   "metadata": {},
   "outputs": [
    {
     "name": "stdout",
     "output_type": "stream",
     "text": [
      "! missing FASTENERS package (https://pypi.org/project/fasteners/) <class 'ImportWarning'> !\n",
      "! missing SIMPLEJSON package (https://pypi.python.org/pypi/simplejson/) <class 'ImportWarning'> !\n",
      "! missing GOOGLEPLACES package (https://github.com/slimkrazy/python-google-places) !\n"
     ]
    }
   ],
   "source": [
    "import happygisco\n",
    "from happygisco import settings, base, services"
   ]
  },
  {
   "cell_type": "markdown",
   "metadata": {},
   "source": [
    "In this notebook, we will also show how the various services can be combined with other useful `Python` modules, _e.g._ [**`gdal`**](https://gdal.org/python/), [**`geopandas`**](https://geopandas.readthedocs.io/en/latest), [**`ipyleaflet`**](https://ipyleaflet.readthedocs.io/en/latest/) or [**`folium`**](https://github.com/python-visualization/folium):"
   ]
  },
  {
   "cell_type": "code",
   "execution_count": 2,
   "metadata": {
    "collapsed": true
   },
   "outputs": [],
   "source": [
    "try:\n",
    "    import gdal # from osgeo import gdal\n",
    "    import geopandas\n",
    "    import folium\n",
    "    import ipyleaflet\n",
    "except:\n",
    "    print('!ups...some useful modules are missing!')"
   ]
  },
  {
   "cell_type": "markdown",
   "metadata": {},
   "source": [
    "We first create an instance of a `GISCO`-based service, namely using the **`services.GISCOService`** class."
   ]
  },
  {
   "cell_type": "code",
   "execution_count": 3,
   "metadata": {
    "collapsed": true
   },
   "outputs": [],
   "source": [
    "serv = services.GISCOService()"
   ]
  },
  {
   "cell_type": "markdown",
   "metadata": {},
   "source": [
    "In the following, we will use this instance to perform various operations, calling everytim *GISCO* web-services. \n",
    "\n",
    "Let us simply define a geolocation by its common name:"
   ]
  },
  {
   "cell_type": "code",
   "execution_count": 4,
   "metadata": {
    "collapsed": true
   },
   "outputs": [],
   "source": [
    "whereamI = 'Luxembourg'"
   ]
  },
  {
   "cell_type": "markdown",
   "metadata": {},
   "source": [
    "We could also have chosen to actually use: `wheramI = \"Luxembourg, Luxembourg\"`. That is up to us actually...and to the service capability to resolve toponame ambibuity.\n",
    "\n",
    "One can already simply run the service to retrieve the geographical coordinates of the considered location, since the method `GISCOService.place2coord` can be used for that purpose:"
   ]
  },
  {
   "cell_type": "code",
   "execution_count": 5,
   "metadata": {},
   "outputs": [
    {
     "data": {
      "text/plain": [
       "[[49.8158683, 6.1296751],\n",
       " [49.6047585, 6.142580146666669],\n",
       " [48.3777152, 4.2576617],\n",
       " [49.6112768, 6.129799]]"
      ]
     },
     "execution_count": 5,
     "metadata": {},
     "output_type": "execute_result"
    }
   ],
   "source": [
    "coords = serv.place2coord(whereamI)\n",
    "coords"
   ]
  },
  {
   "cell_type": "markdown",
   "metadata": {},
   "source": [
    "Hence, we got this way all the geolocations that *\"potentially\"* correspond to the name `whereamI`. We can actually decide to retrieve one location instead of all of them, *e.g.* the first one in the list (rather arbitrarly):"
   ]
  },
  {
   "cell_type": "code",
   "execution_count": 6,
   "metadata": {},
   "outputs": [
    {
     "data": {
      "text/plain": [
       "[49.8158683, 6.1296751]"
      ]
     },
     "execution_count": 6,
     "metadata": {},
     "output_type": "execute_result"
    }
   ],
   "source": [
    "coord = serv.place2coord(whereamI, unique=True)\n",
    "coord"
   ]
  },
  {
   "cell_type": "markdown",
   "metadata": {},
   "source": [
    "Note that any time, we actually call the *GISCO* geoservice... there is **no caching** of the data fetched through the service!\n",
    "\n",
    "What if we *\"revert\"* the geocoding service to identify the name of the location, using the `GISCOService.coord2place` method for that purpose:"
   ]
  },
  {
   "cell_type": "code",
   "execution_count": 7,
   "metadata": {},
   "outputs": [
    {
     "data": {
      "text/plain": [
       "'Schieren, 7421, Luxembourg'"
      ]
     },
     "execution_count": 7,
     "metadata": {},
     "output_type": "execute_result"
    }
   ],
   "source": [
    "serv.coord2place(coord)"
   ]
  },
  {
   "cell_type": "markdown",
   "metadata": {},
   "source": [
    "Hence, it does not exactly correspond to the input location name... not so surprising. What if we run the same service on the whole collection of all retrieved geographical coordinates:"
   ]
  },
  {
   "cell_type": "code",
   "execution_count": 8,
   "metadata": {},
   "outputs": [
    {
     "data": {
      "text/plain": [
       "['Schieren, 7421, Luxembourg',\n",
       " \"Rue d'Itzig, Luxembourg, 1118, Luxembourg\",\n",
       " \"Rue de l'Église, Bouy-Luxembourg, (Grand Est), 10220, France\",\n",
       " 'Luxembourg, 2525, Luxembourg']"
      ]
     },
     "execution_count": 8,
     "metadata": {},
     "output_type": "execute_result"
    }
   ],
   "source": [
    "names = serv.coord2place(coords)\n",
    "names"
   ]
  },
  {
   "cell_type": "markdown",
   "metadata": {},
   "source": [
    "Hum... note that one of the places retrieved is actually...in France. That's the ambiguity related to the toponame. Note that this issue is actually not solved when passing the country as well (but that is specific to...Luxembourg):"
   ]
  },
  {
   "cell_type": "code",
   "execution_count": 9,
   "metadata": {},
   "outputs": [
    {
     "data": {
      "text/plain": [
       "['Schieren, 7421, Luxembourg',\n",
       " \"Rue d'Itzig, Luxembourg, 1118, Luxembourg\",\n",
       " \"Rue de l'Église, Bouy-Luxembourg, (Grand Est), 10220, France\",\n",
       " 'Luxembourg, 2525, Luxembourg']"
      ]
     },
     "execution_count": 9,
     "metadata": {},
     "output_type": "execute_result"
    }
   ],
   "source": [
    "serv.coord2place(serv.place2coord('Luxembourg, Luxembourg'))"
   ]
  },
  {
   "cell_type": "markdown",
   "metadata": {},
   "source": [
    "Note that we can run the service again to retrieve the actual `(Lon,lat)` locations of the toponames above:"
   ]
  },
  {
   "cell_type": "code",
   "execution_count": 10,
   "metadata": {},
   "outputs": [
    {
     "data": {
      "text/plain": [
       "[[6.1239744, 49.8198198],\n",
       " [6.1499308, 49.5980238],\n",
       " [4.2574905, 48.3761178],\n",
       " [6.125268, 49.6180953]]"
      ]
     },
     "execution_count": 10,
     "metadata": {},
     "output_type": "execute_result"
    }
   ],
   "source": [
    "serv.place2coord(names, order='Ll', unique=True)"
   ]
  },
  {
   "cell_type": "markdown",
   "metadata": {},
   "source": [
    "You could instead use the module `geopandas` when this is available on your local install. The module `geopandas` is actually based on the [**`geopy`**](http://geopy.readthedocs.io/) module (see this [page](https://geopandas.readthedocs.io/en/latest/geocoding.html)), itself available in **`happyGISCO`** through the **`services.APIService`** class. Run for instance the following and compare it with the previous output:"
   ]
  },
  {
   "cell_type": "code",
   "execution_count": 11,
   "metadata": {},
   "outputs": [
    {
     "data": {
      "text/html": [
       "<div>\n",
       "<style scoped>\n",
       "    .dataframe tbody tr th:only-of-type {\n",
       "        vertical-align: middle;\n",
       "    }\n",
       "\n",
       "    .dataframe tbody tr th {\n",
       "        vertical-align: top;\n",
       "    }\n",
       "\n",
       "    .dataframe thead th {\n",
       "        text-align: right;\n",
       "    }\n",
       "</style>\n",
       "<table border=\"1\" class=\"dataframe\">\n",
       "  <thead>\n",
       "    <tr style=\"text-align: right;\">\n",
       "      <th></th>\n",
       "      <th>address</th>\n",
       "      <th>geometry</th>\n",
       "    </tr>\n",
       "  </thead>\n",
       "  <tbody>\n",
       "    <tr>\n",
       "      <th>0</th>\n",
       "      <td>Schieren, Canton Diekirch, Lëtzebuerg</td>\n",
       "      <td>POINT (6.096622 49.8300396)</td>\n",
       "    </tr>\n",
       "    <tr>\n",
       "      <th>1</th>\n",
       "      <td>Rue d'Itzig, Bonnevoie, Luxembourg, Canton Lux...</td>\n",
       "      <td>POINT (6.1499308 49.5980238)</td>\n",
       "    </tr>\n",
       "    <tr>\n",
       "      <th>2</th>\n",
       "      <td>Rue de l'Église, Bouy-Luxembourg, Troyes, Aube...</td>\n",
       "      <td>POINT (4.2574905 48.3761178)</td>\n",
       "    </tr>\n",
       "    <tr>\n",
       "      <th>3</th>\n",
       "      <td>Luxembourg, Canton Luxembourg, Lëtzebuerg</td>\n",
       "      <td>POINT (6.129799 49.6112768)</td>\n",
       "    </tr>\n",
       "  </tbody>\n",
       "</table>\n",
       "</div>"
      ],
      "text/plain": [
       "                                             address  \\\n",
       "0              Schieren, Canton Diekirch, Lëtzebuerg   \n",
       "1  Rue d'Itzig, Bonnevoie, Luxembourg, Canton Lux...   \n",
       "2  Rue de l'Église, Bouy-Luxembourg, Troyes, Aube...   \n",
       "3          Luxembourg, Canton Luxembourg, Lëtzebuerg   \n",
       "\n",
       "                       geometry  \n",
       "0   POINT (6.096622 49.8300396)  \n",
       "1  POINT (6.1499308 49.5980238)  \n",
       "2  POINT (4.2574905 48.3761178)  \n",
       "3   POINT (6.129799 49.6112768)  "
      ]
     },
     "execution_count": 11,
     "metadata": {},
     "output_type": "execute_result"
    }
   ],
   "source": [
    "geopandas.tools.geocode(names, provider=\"nominatim\")"
   ]
  },
  {
   "cell_type": "markdown",
   "metadata": {},
   "source": [
    "We can exploit the outputs of the *GISCO* service, `names` and `coords` data, for visualisation. For that purpose, the module `folium`, that actually builds ontop of [**`Leaflet.js`**](https://leafletjs.com) can be used. To render the map in the notebook, we call the *\"blue marble\"* tiles (one of the [background view services](https://webgate.ec.europa.eu/fpfis/wikis/display/GISCO/Geospatial+information+services+for+the+European+Commission+and+other+EU+users) of *GISCO*) as background. Note the use of the `GISCOService.url_title` method for that purpose. "
   ]
  },
  {
   "cell_type": "code",
   "execution_count": 12,
   "metadata": {
    "scrolled": true
   },
   "outputs": [
    {
     "data": {
      "text/html": [
       "<div style=\"width:100%;\"><div style=\"position:relative;width:100%;height:0;padding-bottom:60%;\"><iframe src=\"data:text/html;charset=utf-8;base64,PCFET0NUWVBFIGh0bWw+CjxoZWFkPiAgICAKICAgIDxtZXRhIGh0dHAtZXF1aXY9ImNvbnRlbnQtdHlwZSIgY29udGVudD0idGV4dC9odG1sOyBjaGFyc2V0PVVURi04IiAvPgogICAgPHNjcmlwdD5MX1BSRUZFUl9DQU5WQVMgPSBmYWxzZTsgTF9OT19UT1VDSCA9IGZhbHNlOyBMX0RJU0FCTEVfM0QgPSBmYWxzZTs8L3NjcmlwdD4KICAgIDxzY3JpcHQgc3JjPSJodHRwczovL2Nkbi5qc2RlbGl2ci5uZXQvbnBtL2xlYWZsZXRAMS4yLjAvZGlzdC9sZWFmbGV0LmpzIj48L3NjcmlwdD4KICAgIDxzY3JpcHQgc3JjPSJodHRwczovL2FqYXguZ29vZ2xlYXBpcy5jb20vYWpheC9saWJzL2pxdWVyeS8xLjExLjEvanF1ZXJ5Lm1pbi5qcyI+PC9zY3JpcHQ+CiAgICA8c2NyaXB0IHNyYz0iaHR0cHM6Ly9tYXhjZG4uYm9vdHN0cmFwY2RuLmNvbS9ib290c3RyYXAvMy4yLjAvanMvYm9vdHN0cmFwLm1pbi5qcyI+PC9zY3JpcHQ+CiAgICA8c2NyaXB0IHNyYz0iaHR0cHM6Ly9jZG5qcy5jbG91ZGZsYXJlLmNvbS9hamF4L2xpYnMvTGVhZmxldC5hd2Vzb21lLW1hcmtlcnMvMi4wLjIvbGVhZmxldC5hd2Vzb21lLW1hcmtlcnMuanMiPjwvc2NyaXB0PgogICAgPGxpbmsgcmVsPSJzdHlsZXNoZWV0IiBocmVmPSJodHRwczovL2Nkbi5qc2RlbGl2ci5uZXQvbnBtL2xlYWZsZXRAMS4yLjAvZGlzdC9sZWFmbGV0LmNzcyIvPgogICAgPGxpbmsgcmVsPSJzdHlsZXNoZWV0IiBocmVmPSJodHRwczovL21heGNkbi5ib290c3RyYXBjZG4uY29tL2Jvb3RzdHJhcC8zLjIuMC9jc3MvYm9vdHN0cmFwLm1pbi5jc3MiLz4KICAgIDxsaW5rIHJlbD0ic3R5bGVzaGVldCIgaHJlZj0iaHR0cHM6Ly9tYXhjZG4uYm9vdHN0cmFwY2RuLmNvbS9ib290c3RyYXAvMy4yLjAvY3NzL2Jvb3RzdHJhcC10aGVtZS5taW4uY3NzIi8+CiAgICA8bGluayByZWw9InN0eWxlc2hlZXQiIGhyZWY9Imh0dHBzOi8vbWF4Y2RuLmJvb3RzdHJhcGNkbi5jb20vZm9udC1hd2Vzb21lLzQuNi4zL2Nzcy9mb250LWF3ZXNvbWUubWluLmNzcyIvPgogICAgPGxpbmsgcmVsPSJzdHlsZXNoZWV0IiBocmVmPSJodHRwczovL2NkbmpzLmNsb3VkZmxhcmUuY29tL2FqYXgvbGlicy9MZWFmbGV0LmF3ZXNvbWUtbWFya2Vycy8yLjAuMi9sZWFmbGV0LmF3ZXNvbWUtbWFya2Vycy5jc3MiLz4KICAgIDxsaW5rIHJlbD0ic3R5bGVzaGVldCIgaHJlZj0iaHR0cHM6Ly9yYXdnaXQuY29tL3B5dGhvbi12aXN1YWxpemF0aW9uL2ZvbGl1bS9tYXN0ZXIvZm9saXVtL3RlbXBsYXRlcy9sZWFmbGV0LmF3ZXNvbWUucm90YXRlLmNzcyIvPgogICAgPHN0eWxlPmh0bWwsIGJvZHkge3dpZHRoOiAxMDAlO2hlaWdodDogMTAwJTttYXJnaW46IDA7cGFkZGluZzogMDt9PC9zdHlsZT4KICAgIDxzdHlsZT4jbWFwIHtwb3NpdGlvbjphYnNvbHV0ZTt0b3A6MDtib3R0b206MDtyaWdodDowO2xlZnQ6MDt9PC9zdHlsZT4KICAgIAogICAgICAgICAgICA8c3R5bGU+ICNtYXBfZjUyZDc5YWE3ZWJhNDMzMmIzMzc1ZGZjN2YzNDU0NGIgewogICAgICAgICAgICAgICAgcG9zaXRpb24gOiByZWxhdGl2ZTsKICAgICAgICAgICAgICAgIHdpZHRoIDogMTAwLjAlOwogICAgICAgICAgICAgICAgaGVpZ2h0OiAxMDAuMCU7CiAgICAgICAgICAgICAgICBsZWZ0OiAwLjAlOwogICAgICAgICAgICAgICAgdG9wOiAwLjAlOwogICAgICAgICAgICAgICAgfQogICAgICAgICAgICA8L3N0eWxlPgogICAgICAgIAo8L2hlYWQ+Cjxib2R5PiAgICAKICAgIAogICAgICAgICAgICA8ZGl2IGNsYXNzPSJmb2xpdW0tbWFwIiBpZD0ibWFwX2Y1MmQ3OWFhN2ViYTQzMzJiMzM3NWRmYzdmMzQ1NDRiIiA+PC9kaXY+CiAgICAgICAgCjwvYm9keT4KPHNjcmlwdD4gICAgCiAgICAKCiAgICAgICAgICAgIAogICAgICAgICAgICAgICAgdmFyIGJvdW5kcyA9IG51bGw7CiAgICAgICAgICAgIAoKICAgICAgICAgICAgdmFyIG1hcF9mNTJkNzlhYTdlYmE0MzMyYjMzNzVkZmM3ZjM0NTQ0YiA9IEwubWFwKAogICAgICAgICAgICAgICAgICAgICAgICAgICAgICAgICAgJ21hcF9mNTJkNzlhYTdlYmE0MzMyYjMzNzVkZmM3ZjM0NTQ0YicsCiAgICAgICAgICAgICAgICAgICAgICAgICAgICAgICAgICB7Y2VudGVyOiBbNDkuODE1ODY4Myw2LjEyOTY3NTFdLAogICAgICAgICAgICAgICAgICAgICAgICAgICAgICAgICAgem9vbTogNiwKICAgICAgICAgICAgICAgICAgICAgICAgICAgICAgICAgIG1heEJvdW5kczogYm91bmRzLAogICAgICAgICAgICAgICAgICAgICAgICAgICAgICAgICAgbGF5ZXJzOiBbXSwKICAgICAgICAgICAgICAgICAgICAgICAgICAgICAgICAgIHdvcmxkQ29weUp1bXA6IGZhbHNlLAogICAgICAgICAgICAgICAgICAgICAgICAgICAgICAgICAgY3JzOiBMLkNSUy5FUFNHMzg1NwogICAgICAgICAgICAgICAgICAgICAgICAgICAgICAgICB9KTsKICAgICAgICAgICAgCiAgICAgICAgCiAgICAKICAgICAgICAgICAgdmFyIHRpbGVfbGF5ZXJfY2VlMjJkZDU5YTM0NDU1NWFjZjcyMDU5YThhNWVmMjQgPSBMLnRpbGVMYXllcigKICAgICAgICAgICAgICAgICdodHRwczovL2V1cm9wYS5ldS93ZWJ0b29scy9tYXBzL3RpbGVzL2JtYXJibGUvMzg1Ny97en0ve3l9L3t4fScsCiAgICAgICAgICAgICAgICB7CiAgImF0dHJpYnV0aW9uIjogIlx1MDBhOSBOQVNBXHUyMDE5cyBFYXJ0aCBPYnNlcnZhdG9yeSIsCiAgImRldGVjdFJldGluYSI6IGZhbHNlLAogICJtYXhab29tIjogMTgsCiAgIm1pblpvb20iOiAxLAogICJub1dyYXAiOiBmYWxzZSwKICAic3ViZG9tYWlucyI6ICJhYmMiCn0KICAgICAgICAgICAgICAgICkuYWRkVG8obWFwX2Y1MmQ3OWFhN2ViYTQzMzJiMzM3NWRmYzdmMzQ1NDRiKTsKICAgICAgICAKICAgIAoKICAgICAgICAgICAgdmFyIG1hcmtlcl9hY2MxNTA3MzVkNTg0NjU5ODZiMmZhZTBjNzY5ODE3ZCA9IEwubWFya2VyKAogICAgICAgICAgICAgICAgWzQ5LjgxNTg2ODMsNi4xMjk2NzUxXSwKICAgICAgICAgICAgICAgIHsKICAgICAgICAgICAgICAgICAgICBpY29uOiBuZXcgTC5JY29uLkRlZmF1bHQoKQogICAgICAgICAgICAgICAgICAgIH0KICAgICAgICAgICAgICAgICkKICAgICAgICAgICAgICAgIC5hZGRUbyhtYXBfZjUyZDc5YWE3ZWJhNDMzMmIzMzc1ZGZjN2YzNDU0NGIpOwogICAgICAgICAgICAKICAgIAogICAgICAgICAgICB2YXIgcG9wdXBfOTZjMTIyM2VhNWE1NDk1MzhhMWU0ZDZhMTkyNGFmYTEgPSBMLnBvcHVwKHttYXhXaWR0aDogJzMwMCd9KTsKCiAgICAgICAgICAgIAogICAgICAgICAgICAgICAgdmFyIGh0bWxfYzc3YjJlZTE3YmI1NGI4Mzg5NjhiMzAzODlhYzI5ZDcgPSAkKCc8ZGl2IGlkPSJodG1sX2M3N2IyZWUxN2JiNTRiODM4OTY4YjMwMzg5YWMyOWQ3IiBzdHlsZT0id2lkdGg6IDEwMC4wJTsgaGVpZ2h0OiAxMDAuMCU7Ij5TY2hpZXJlbiwgNzQyMSwgTHV4ZW1ib3VyZzwvZGl2PicpWzBdOwogICAgICAgICAgICAgICAgcG9wdXBfOTZjMTIyM2VhNWE1NDk1MzhhMWU0ZDZhMTkyNGFmYTEuc2V0Q29udGVudChodG1sX2M3N2IyZWUxN2JiNTRiODM4OTY4YjMwMzg5YWMyOWQ3KTsKICAgICAgICAgICAgCgogICAgICAgICAgICBtYXJrZXJfYWNjMTUwNzM1ZDU4NDY1OTg2YjJmYWUwYzc2OTgxN2QuYmluZFBvcHVwKHBvcHVwXzk2YzEyMjNlYTVhNTQ5NTM4YTFlNGQ2YTE5MjRhZmExKTsKCiAgICAgICAgICAgIAogICAgICAgIAogICAgCgogICAgICAgICAgICB2YXIgbWFya2VyX2FmOTZkNTgwYTlmNDRjNzQ5OTYxZGY3Zjc1YzFjODY2ID0gTC5tYXJrZXIoCiAgICAgICAgICAgICAgICBbNDkuNjA0NzU4NSw2LjE0MjU4MDE0NjY2NjY2OV0sCiAgICAgICAgICAgICAgICB7CiAgICAgICAgICAgICAgICAgICAgaWNvbjogbmV3IEwuSWNvbi5EZWZhdWx0KCkKICAgICAgICAgICAgICAgICAgICB9CiAgICAgICAgICAgICAgICApCiAgICAgICAgICAgICAgICAuYWRkVG8obWFwX2Y1MmQ3OWFhN2ViYTQzMzJiMzM3NWRmYzdmMzQ1NDRiKTsKICAgICAgICAgICAgCiAgICAKICAgICAgICAgICAgdmFyIHBvcHVwX2EyMDkxNWQ0MTcyNjRmZDdiOGYzNDBlOTIyYzg2YmVjID0gTC5wb3B1cCh7bWF4V2lkdGg6ICczMDAnfSk7CgogICAgICAgICAgICAKICAgICAgICAgICAgICAgIHZhciBodG1sXzQyOTRkNWU2NTZkMTQ1ZDNhMDA4YmZlNGFhYjIyODhkID0gJCgnPGRpdiBpZD0iaHRtbF80Mjk0ZDVlNjU2ZDE0NWQzYTAwOGJmZTRhYWIyMjg4ZCIgc3R5bGU9IndpZHRoOiAxMDAuMCU7IGhlaWdodDogMTAwLjAlOyI+UnVlIGQmIzM5O0l0emlnLCBMdXhlbWJvdXJnLCAxMTE4LCBMdXhlbWJvdXJnPC9kaXY+JylbMF07CiAgICAgICAgICAgICAgICBwb3B1cF9hMjA5MTVkNDE3MjY0ZmQ3YjhmMzQwZTkyMmM4NmJlYy5zZXRDb250ZW50KGh0bWxfNDI5NGQ1ZTY1NmQxNDVkM2EwMDhiZmU0YWFiMjI4OGQpOwogICAgICAgICAgICAKCiAgICAgICAgICAgIG1hcmtlcl9hZjk2ZDU4MGE5ZjQ0Yzc0OTk2MWRmN2Y3NWMxYzg2Ni5iaW5kUG9wdXAocG9wdXBfYTIwOTE1ZDQxNzI2NGZkN2I4ZjM0MGU5MjJjODZiZWMpOwoKICAgICAgICAgICAgCiAgICAgICAgCiAgICAKCiAgICAgICAgICAgIHZhciBtYXJrZXJfNjQ0N2I0ZjBkOWEwNGU0MTg1MmVkZWUxYzliNzNlNmMgPSBMLm1hcmtlcigKICAgICAgICAgICAgICAgIFs0OC4zNzc3MTUyLDQuMjU3NjYxN10sCiAgICAgICAgICAgICAgICB7CiAgICAgICAgICAgICAgICAgICAgaWNvbjogbmV3IEwuSWNvbi5EZWZhdWx0KCkKICAgICAgICAgICAgICAgICAgICB9CiAgICAgICAgICAgICAgICApCiAgICAgICAgICAgICAgICAuYWRkVG8obWFwX2Y1MmQ3OWFhN2ViYTQzMzJiMzM3NWRmYzdmMzQ1NDRiKTsKICAgICAgICAgICAgCiAgICAKICAgICAgICAgICAgdmFyIHBvcHVwX2M4N2QzYjM3M2Q3NzRkYTI4Yjk1YTViMWE0M2Q3M2RmID0gTC5wb3B1cCh7bWF4V2lkdGg6ICczMDAnfSk7CgogICAgICAgICAgICAKICAgICAgICAgICAgICAgIHZhciBodG1sX2EwZTE2Y2ExZDczZTQ1OTU5YzkzNmUyZTA5YzBiMDNiID0gJCgnPGRpdiBpZD0iaHRtbF9hMGUxNmNhMWQ3M2U0NTk1OWM5MzZlMmUwOWMwYjAzYiIgc3R5bGU9IndpZHRoOiAxMDAuMCU7IGhlaWdodDogMTAwLjAlOyI+UnVlIGRlIGwmIzM5O8OJZ2xpc2UsIEJvdXktTHV4ZW1ib3VyZywgKEdyYW5kIEVzdCksIDEwMjIwLCBGcmFuY2U8L2Rpdj4nKVswXTsKICAgICAgICAgICAgICAgIHBvcHVwX2M4N2QzYjM3M2Q3NzRkYTI4Yjk1YTViMWE0M2Q3M2RmLnNldENvbnRlbnQoaHRtbF9hMGUxNmNhMWQ3M2U0NTk1OWM5MzZlMmUwOWMwYjAzYik7CiAgICAgICAgICAgIAoKICAgICAgICAgICAgbWFya2VyXzY0NDdiNGYwZDlhMDRlNDE4NTJlZGVlMWM5YjczZTZjLmJpbmRQb3B1cChwb3B1cF9jODdkM2IzNzNkNzc0ZGEyOGI5NWE1YjFhNDNkNzNkZik7CgogICAgICAgICAgICAKICAgICAgICAKICAgIAoKICAgICAgICAgICAgdmFyIG1hcmtlcl9kZTdmNGRjMmRlMWM0ODhjYjM3MDZjY2U3NmU3ZDYwNiA9IEwubWFya2VyKAogICAgICAgICAgICAgICAgWzQ5LjYxMTI3NjgsNi4xMjk3OTldLAogICAgICAgICAgICAgICAgewogICAgICAgICAgICAgICAgICAgIGljb246IG5ldyBMLkljb24uRGVmYXVsdCgpCiAgICAgICAgICAgICAgICAgICAgfQogICAgICAgICAgICAgICAgKQogICAgICAgICAgICAgICAgLmFkZFRvKG1hcF9mNTJkNzlhYTdlYmE0MzMyYjMzNzVkZmM3ZjM0NTQ0Yik7CiAgICAgICAgICAgIAogICAgCiAgICAgICAgICAgIHZhciBwb3B1cF9hODAzYzljODJlOTY0ZThiYWY1ZjQ2NzU2ZGE4Y2VlMiA9IEwucG9wdXAoe21heFdpZHRoOiAnMzAwJ30pOwoKICAgICAgICAgICAgCiAgICAgICAgICAgICAgICB2YXIgaHRtbF8wMGRlMjU3MDMwZmE0ZjU1YmIxYzcxZTI0NDllNzdkZiA9ICQoJzxkaXYgaWQ9Imh0bWxfMDBkZTI1NzAzMGZhNGY1NWJiMWM3MWUyNDQ5ZTc3ZGYiIHN0eWxlPSJ3aWR0aDogMTAwLjAlOyBoZWlnaHQ6IDEwMC4wJTsiPkx1eGVtYm91cmcsIDI1MjUsIEx1eGVtYm91cmc8L2Rpdj4nKVswXTsKICAgICAgICAgICAgICAgIHBvcHVwX2E4MDNjOWM4MmU5NjRlOGJhZjVmNDY3NTZkYThjZWUyLnNldENvbnRlbnQoaHRtbF8wMGRlMjU3MDMwZmE0ZjU1YmIxYzcxZTI0NDllNzdkZik7CiAgICAgICAgICAgIAoKICAgICAgICAgICAgbWFya2VyX2RlN2Y0ZGMyZGUxYzQ4OGNiMzcwNmNjZTc2ZTdkNjA2LmJpbmRQb3B1cChwb3B1cF9hODAzYzljODJlOTY0ZThiYWY1ZjQ2NzU2ZGE4Y2VlMik7CgogICAgICAgICAgICAKICAgICAgICAKPC9zY3JpcHQ+\" style=\"position:absolute;width:100%;height:100%;left:0;top:0;border:none !important;\" allowfullscreen webkitallowfullscreen mozallowfullscreen></iframe></div></div>"
      ],
      "text/plain": [
       "<folium.folium.Map at 0x31fd6b860>"
      ]
     },
     "execution_count": 12,
     "metadata": {},
     "output_type": "execute_result"
    }
   ],
   "source": [
    "tiles, attr = serv.url_tile('bmarble')\n",
    "map_display = folium.Map(location=coord, tiles=tiles, attr=attr, zoom_start=6)\n",
    "[folium.Marker(coords[i], popup=folium.Popup('%s' % names[i], parse_html=True)).add_to(map_display) \\\n",
    "     for i in range(len(names))]\n",
    "map_display"
   ]
  },
  {
   "cell_type": "markdown",
   "metadata": {},
   "source": [
    "Now you can zoom in/out on the map, check the location designatd by the marker....\n",
    "\n",
    "We can further use the *GISCO* service to retrieve the *geometry* associated to the location, using the `GISCOService.place2geom` method for that purpose:"
   ]
  },
  {
   "cell_type": "code",
   "execution_count": 13,
   "metadata": {},
   "outputs": [
    {
     "data": {
      "text/plain": [
       "[{'geometry': {'coordinates': [6.1296751, 49.8158683], 'type': 'Point'},\n",
       "  'properties': {'country': 'Luxembourg',\n",
       "   'extent': [5.7357006, 50.1827724, 6.5312481, 49.4478539],\n",
       "   'name': 'Luxembourg',\n",
       "   'osm_id': 2171347,\n",
       "   'osm_key': 'place',\n",
       "   'osm_type': 'R',\n",
       "   'osm_value': 'country'},\n",
       "  'type': 'Feature'},\n",
       " {'geometry': {'coordinates': [5.439918625407589, 49.963667], 'type': 'Point'},\n",
       "  'properties': {'country': 'Belgium',\n",
       "   'extent': [4.9684415, 50.430377, 6.0344254, 49.4969821],\n",
       "   'name': 'Luxembourg',\n",
       "   'osm_id': 1412581,\n",
       "   'osm_key': 'boundary',\n",
       "   'osm_type': 'R',\n",
       "   'osm_value': 'administrative',\n",
       "   'state': 'Wallonia'},\n",
       "  'type': 'Feature'},\n",
       " {'geometry': {'coordinates': [6.142580146666669, 49.6047585],\n",
       "   'type': 'Point'},\n",
       "  'properties': {'country': 'Luxembourg',\n",
       "   'extent': [5.998434, 49.692307, 6.3096867, 49.516975],\n",
       "   'name': 'Canton Luxembourg',\n",
       "   'osm_id': 407824,\n",
       "   'osm_key': 'place',\n",
       "   'osm_type': 'R',\n",
       "   'osm_value': 'county'},\n",
       "  'type': 'Feature'},\n",
       " {'geometry': {'coordinates': [4.2576617, 48.3777152], 'type': 'Point'},\n",
       "  'properties': {'country': 'France',\n",
       "   'extent': [4.209766, 48.3980548, 4.276576, 48.35692],\n",
       "   'name': 'Bouy-Luxembourg',\n",
       "   'osm_id': 2996989,\n",
       "   'osm_key': 'place',\n",
       "   'osm_type': 'R',\n",
       "   'osm_value': 'village',\n",
       "   'postcode': '10220',\n",
       "   'state': 'Grand Est'},\n",
       "  'type': 'Feature'},\n",
       " {'geometry': {'coordinates': [6.129799, 49.6112768], 'type': 'Point'},\n",
       "  'properties': {'country': 'Luxembourg',\n",
       "   'extent': [6.06917, 49.65487, 6.2036457, 49.560986],\n",
       "   'name': 'Luxembourg',\n",
       "   'osm_id': 407489,\n",
       "   'osm_key': 'place',\n",
       "   'osm_type': 'R',\n",
       "   'osm_value': 'city'},\n",
       "  'type': 'Feature'},\n",
       " {'geometry': {'coordinates': [6.1342493, 49.5999681], 'type': 'Point'},\n",
       "  'properties': {'city': 'Luxembourg',\n",
       "   'country': 'Luxembourg',\n",
       "   'housenumber': '13',\n",
       "   'name': 'Luxembourg Central Station',\n",
       "   'osm_id': 3964570119,\n",
       "   'osm_key': 'railway',\n",
       "   'osm_type': 'N',\n",
       "   'osm_value': 'station',\n",
       "   'postcode': '1118',\n",
       "   'street': 'Parvis de la Gare'},\n",
       "  'type': 'Feature'},\n",
       " {'geometry': {'coordinates': [6.209392715990956, 49.62637155],\n",
       "   'type': 'Point'},\n",
       "  'properties': {'city': 'Sandweiler',\n",
       "   'country': 'Luxembourg',\n",
       "   'extent': [6.1810013, 49.6386542, 6.2418142, 49.6141208],\n",
       "   'name': 'Luxembourg Airport',\n",
       "   'osm_id': 389958279,\n",
       "   'osm_key': 'aeroway',\n",
       "   'osm_type': 'W',\n",
       "   'osm_value': 'aerodrome',\n",
       "   'postcode': '2632',\n",
       "   'street': 'Périmètre'},\n",
       "  'type': 'Feature'},\n",
       " {'geometry': {'coordinates': [6.2166985870777385, 49.634411150000005],\n",
       "   'type': 'Point'},\n",
       "  'properties': {'city': 'Niederanven',\n",
       "   'country': 'Luxembourg',\n",
       "   'extent': [6.2154528, 49.6351458, 6.2178197, 49.6336171],\n",
       "   'name': 'Luxembourg Airport',\n",
       "   'osm_id': 87845533,\n",
       "   'osm_key': 'aeroway',\n",
       "   'osm_type': 'W',\n",
       "   'osm_value': 'terminal',\n",
       "   'postcode': '2016',\n",
       "   'street': 'Route de Trèves'},\n",
       "  'type': 'Feature'},\n",
       " {'geometry': {'coordinates': [6.106976945353978, 49.6021683],\n",
       "   'type': 'Point'},\n",
       "  'properties': {'city': 'Luxembourg',\n",
       "   'country': 'Luxembourg',\n",
       "   'extent': [6.1061359, 49.6028234, 6.1077042, 49.6015296],\n",
       "   'housenumber': '33',\n",
       "   'name': 'Conservatoire de Luxembourg',\n",
       "   'osm_id': 37826860,\n",
       "   'osm_key': 'building',\n",
       "   'osm_type': 'W',\n",
       "   'osm_value': 'yes',\n",
       "   'postcode': '2134',\n",
       "   'street': 'Rue Charles Martel'},\n",
       "  'type': 'Feature'},\n",
       " {'geometry': {'coordinates': [2.3368362795441913, 48.848558100000005],\n",
       "   'type': 'Point'},\n",
       "  'properties': {'city': 'Paris',\n",
       "   'country': 'France',\n",
       "   'extent': [2.3363295, 48.8492399, 2.3379549, 48.8478664],\n",
       "   'name': 'Palais du Luxembourg',\n",
       "   'osm_id': 975955,\n",
       "   'osm_key': 'historic',\n",
       "   'osm_type': 'R',\n",
       "   'osm_value': 'castle',\n",
       "   'postcode': '75006',\n",
       "   'state': 'Ile-de-France',\n",
       "   'street': 'Cour de Jonction'},\n",
       "  'type': 'Feature'},\n",
       " {'geometry': {'coordinates': [2.3368362795441913, 48.848558100000005],\n",
       "   'type': 'Point'},\n",
       "  'properties': {'city': 'Paris',\n",
       "   'country': 'France',\n",
       "   'extent': [2.3363295, 48.8492399, 2.3379549, 48.8478664],\n",
       "   'name': 'Palais du Luxembourg',\n",
       "   'osm_id': 975955,\n",
       "   'osm_key': 'amenity',\n",
       "   'osm_type': 'R',\n",
       "   'osm_value': 'public_building',\n",
       "   'postcode': '75006',\n",
       "   'state': 'Ile-de-France',\n",
       "   'street': 'Cour de Jonction'},\n",
       "  'type': 'Feature'},\n",
       " {'geometry': {'coordinates': [2.3364130302022517, 48.846722850000006],\n",
       "   'type': 'Point'},\n",
       "  'properties': {'city': 'Paris',\n",
       "   'country': 'France',\n",
       "   'extent': [2.3324598, 48.8490677, 2.34027, 48.8443604],\n",
       "   'name': 'Jardin du Luxembourg',\n",
       "   'osm_id': 128206209,\n",
       "   'osm_key': 'leisure',\n",
       "   'osm_type': 'W',\n",
       "   'osm_value': 'park',\n",
       "   'postcode': '75006',\n",
       "   'state': 'Ile-de-France'},\n",
       "  'type': 'Feature'},\n",
       " {'geometry': {'coordinates': [2.3364130302022517, 48.846722850000006],\n",
       "   'type': 'Point'},\n",
       "  'properties': {'city': 'Paris',\n",
       "   'country': 'France',\n",
       "   'extent': [2.3324598, 48.8490677, 2.34027, 48.8443604],\n",
       "   'name': 'Jardin du Luxembourg',\n",
       "   'osm_id': 128206209,\n",
       "   'osm_key': 'tourism',\n",
       "   'osm_type': 'W',\n",
       "   'osm_value': 'attraction',\n",
       "   'postcode': '75006',\n",
       "   'state': 'Ile-de-France',\n",
       "   'street': 'Cour de Jonction'},\n",
       "  'type': 'Feature'},\n",
       " {'geometry': {'coordinates': [2.3402917, 48.8463852], 'type': 'Point'},\n",
       "  'properties': {'city': 'Paris',\n",
       "   'country': 'France',\n",
       "   'name': 'Luxembourg',\n",
       "   'osm_id': 327432589,\n",
       "   'osm_key': 'railway',\n",
       "   'osm_type': 'N',\n",
       "   'osm_value': 'station',\n",
       "   'postcode': '75006',\n",
       "   'state': 'Ile-de-France',\n",
       "   'street': 'Boulevard Saint-Michel'},\n",
       "  'type': 'Feature'},\n",
       " {'geometry': {'coordinates': [6.1858803660816735, 49.6116947],\n",
       "   'type': 'Point'},\n",
       "  'properties': {'city': 'Luxembourg',\n",
       "   'country': 'Luxembourg',\n",
       "   'extent': [6.182987, 49.6129326, 6.1885075, 49.6105058],\n",
       "   'name': 'Luxembourg American Cemetery and Memorial',\n",
       "   'osm_id': 9387630,\n",
       "   'osm_key': 'landuse',\n",
       "   'osm_type': 'W',\n",
       "   'osm_value': 'cemetery',\n",
       "   'postcode': '1718'},\n",
       "  'type': 'Feature'}]"
      ]
     },
     "execution_count": 13,
     "metadata": {},
     "output_type": "execute_result"
    }
   ],
   "source": [
    "serv.place2geom(whereamI)"
   ]
  },
  {
   "cell_type": "markdown",
   "metadata": {},
   "source": [
    "or we are lazy:"
   ]
  },
  {
   "cell_type": "code",
   "execution_count": 14,
   "metadata": {},
   "outputs": [
    {
     "data": {
      "text/plain": [
       "{'geometry': {'coordinates': [6.1296751, 49.8158683], 'type': 'Point'},\n",
       " 'properties': {'country': 'Luxembourg',\n",
       "  'extent': [5.7357006, 50.1827724, 6.5312481, 49.4478539],\n",
       "  'name': 'Luxembourg',\n",
       "  'osm_id': 2171347,\n",
       "  'osm_key': 'place',\n",
       "  'osm_type': 'R',\n",
       "  'osm_value': 'country'},\n",
       " 'type': 'Feature'}"
      ]
     },
     "execution_count": 14,
     "metadata": {},
     "output_type": "execute_result"
    }
   ],
   "source": [
    "area = serv.place2geom(whereamI, unique=True)\n",
    "area"
   ]
  },
  {
   "cell_type": "markdown",
   "metadata": {},
   "source": [
    "We are more interested in retrieving/identifying the NUTS value, say at level 2, associated to the geolocation. We can use the method `findnuts` for that purpose:"
   ]
  },
  {
   "cell_type": "code",
   "execution_count": 15,
   "metadata": {},
   "outputs": [
    {
     "data": {
      "text/plain": [
       "{'attributes': {'CNTR_CODE': 'LU',\n",
       "  'LEVL_CODE': '2',\n",
       "  'NAME_LATN': 'Luxembourg',\n",
       "  'NUTS_ID': 'LU00',\n",
       "  'NUTS_NAME': 'Luxembourg',\n",
       "  'OBJECTID': '333',\n",
       "  'SHRT_ENGL': 'Luxembourg'},\n",
       " 'displayFieldName': 'NUTS_ID',\n",
       " 'layerId': 2,\n",
       " 'layerName': 'NUTS_2013',\n",
       " 'value': 'LU00'}"
      ]
     },
     "execution_count": 15,
     "metadata": {},
     "output_type": "execute_result"
    }
   ],
   "source": [
    "serv.place2nuts(whereamI, level=2)"
   ]
  },
  {
   "cell_type": "markdown",
   "metadata": {},
   "source": [
    "or if we are actually interested in retrieving all the NUTS levels (from 0 to 3):"
   ]
  },
  {
   "cell_type": "code",
   "execution_count": 16,
   "metadata": {},
   "outputs": [
    {
     "data": {
      "text/plain": [
       "[{'attributes': {'CNTR_CODE': 'LU',\n",
       "   'LEVL_CODE': '0',\n",
       "   'NAME_LATN': 'LUXEMBOURG',\n",
       "   'NUTS_ID': 'LU',\n",
       "   'NUTS_NAME': 'LUXEMBOURG',\n",
       "   'OBJECTID': '20',\n",
       "   'SHRT_ENGL': 'Luxembourg'},\n",
       "  'displayFieldName': 'NUTS_ID',\n",
       "  'layerId': 2,\n",
       "  'layerName': 'NUTS_2013',\n",
       "  'value': 'LU'},\n",
       " {'attributes': {'CNTR_CODE': 'LU',\n",
       "   'LEVL_CODE': '1',\n",
       "   'NAME_LATN': 'LUXEMBOURG',\n",
       "   'NUTS_ID': 'LU0',\n",
       "   'NUTS_NAME': 'LUXEMBOURG',\n",
       "   'OBJECTID': '97',\n",
       "   'SHRT_ENGL': 'Luxembourg'},\n",
       "  'displayFieldName': 'NUTS_ID',\n",
       "  'layerId': 2,\n",
       "  'layerName': 'NUTS_2013',\n",
       "  'value': 'LU0'},\n",
       " {'attributes': {'CNTR_CODE': 'LU',\n",
       "   'LEVL_CODE': '2',\n",
       "   'NAME_LATN': 'Luxembourg',\n",
       "   'NUTS_ID': 'LU00',\n",
       "   'NUTS_NAME': 'Luxembourg',\n",
       "   'OBJECTID': '333',\n",
       "   'SHRT_ENGL': 'Luxembourg'},\n",
       "  'displayFieldName': 'NUTS_ID',\n",
       "  'layerId': 2,\n",
       "  'layerName': 'NUTS_2013',\n",
       "  'value': 'LU00'},\n",
       " {'attributes': {'CNTR_CODE': 'LU',\n",
       "   'LEVL_CODE': '3',\n",
       "   'NAME_LATN': 'Luxembourg',\n",
       "   'NUTS_ID': 'LU000',\n",
       "   'NUTS_NAME': 'Luxembourg',\n",
       "   'OBJECTID': '1067',\n",
       "   'SHRT_ENGL': 'Luxembourg'},\n",
       "  'displayFieldName': 'NUTS_ID',\n",
       "  'layerId': 2,\n",
       "  'layerName': 'NUTS_2013',\n",
       "  'value': 'LU000'}]"
      ]
     },
     "execution_count": 16,
     "metadata": {},
     "output_type": "execute_result"
    }
   ],
   "source": [
    "serv.place2nuts(whereamI)"
   ]
  },
  {
   "cell_type": "markdown",
   "metadata": {},
   "source": [
    "Similarly, we could have run the service on the already computed geographical coordinates:"
   ]
  },
  {
   "cell_type": "code",
   "execution_count": 17,
   "metadata": {},
   "outputs": [
    {
     "data": {
      "text/plain": [
       "{'attributes': {'CNTR_CODE': 'LU',\n",
       "  'LEVL_CODE': '2',\n",
       "  'NAME_LATN': 'Luxembourg',\n",
       "  'NUTS_ID': 'LU00',\n",
       "  'NUTS_NAME': 'Luxembourg',\n",
       "  'OBJECTID': '333',\n",
       "  'SHRT_ENGL': 'Luxembourg'},\n",
       " 'displayFieldName': 'NUTS_ID',\n",
       " 'layerId': 2,\n",
       " 'layerName': 'NUTS_2013',\n",
       " 'value': 'LU00'}"
      ]
     },
     "execution_count": 17,
     "metadata": {},
     "output_type": "execute_result"
    }
   ],
   "source": [
    "serv.coord2nuts(coord, level=2)"
   ]
  },
  {
   "cell_type": "markdown",
   "metadata": {},
   "source": [
    "Investing more into NUTS, let's use some of the other available services, for instance the `GISCOService.nuts_info` to retrieve the NUTS areas for a given county:"
   ]
  },
  {
   "cell_type": "code",
   "execution_count": 18,
   "metadata": {},
   "outputs": [
    {
     "data": {
      "text/plain": [
       "['BE',\n",
       " 'BE1',\n",
       " 'BE10',\n",
       " 'BE100',\n",
       " 'BE2',\n",
       " 'BE21',\n",
       " 'BE211',\n",
       " 'BE212',\n",
       " 'BE213',\n",
       " 'BE22',\n",
       " 'BE221',\n",
       " 'BE222',\n",
       " 'BE223',\n",
       " 'BE23',\n",
       " 'BE231',\n",
       " 'BE232',\n",
       " 'BE233',\n",
       " 'BE234',\n",
       " 'BE235',\n",
       " 'BE236',\n",
       " 'BE24',\n",
       " 'BE241',\n",
       " 'BE242',\n",
       " 'BE25',\n",
       " 'BE251',\n",
       " 'BE252',\n",
       " 'BE253',\n",
       " 'BE254',\n",
       " 'BE255',\n",
       " 'BE256',\n",
       " 'BE257',\n",
       " 'BE258',\n",
       " 'BE3',\n",
       " 'BE31',\n",
       " 'BE310',\n",
       " 'BE32',\n",
       " 'BE321',\n",
       " 'BE322',\n",
       " 'BE323',\n",
       " 'BE324',\n",
       " 'BE325',\n",
       " 'BE326',\n",
       " 'BE327',\n",
       " 'BE33',\n",
       " 'BE331',\n",
       " 'BE332',\n",
       " 'BE334',\n",
       " 'BE335',\n",
       " 'BE336',\n",
       " 'BE34',\n",
       " 'BE341',\n",
       " 'BE342',\n",
       " 'BE343',\n",
       " 'BE344',\n",
       " 'BE345',\n",
       " 'BE35',\n",
       " 'BE351',\n",
       " 'BE352',\n",
       " 'BE353']"
      ]
     },
     "execution_count": 18,
     "metadata": {},
     "output_type": "execute_result"
    }
   ],
   "source": [
    "serv.nuts_info(info='UNITS', unit='BE')"
   ]
  },
  {
   "cell_type": "markdown",
   "metadata": {},
   "source": [
    "but also restricting the search for a given level:"
   ]
  },
  {
   "cell_type": "code",
   "execution_count": 19,
   "metadata": {},
   "outputs": [
    {
     "data": {
      "text/plain": [
       "['AT11', 'AT12', 'AT13', 'AT21', 'AT22', 'AT31', 'AT32', 'AT33', 'AT34']"
      ]
     },
     "execution_count": 19,
     "metadata": {},
     "output_type": "execute_result"
    }
   ],
   "source": [
    "units = serv.nuts_info(info='UNITS', unit='AT', level=2)\n",
    "units"
   ]
  },
  {
   "cell_type": "markdown",
   "metadata": {},
   "source": [
    "It is then possible to fetch the responses from _GISCO_ API associated to these areas. One still needs to define some additional parameters regarding the retrieved data:"
   ]
  },
  {
   "cell_type": "code",
   "execution_count": 20,
   "metadata": {},
   "outputs": [
    {
     "data": {
      "text/plain": [
       "{'AT11': {2013: {4326: {'20m': {'RG': {'geojson': <Response [200]>}}}}}, 'AT12': {2013: {4326: {'20m': {'RG': {'geojson': <Response [200]>}}}}}, 'AT13': {2013: {4326: {'20m': {'RG': {'geojson': <Response [200]>}}}}}, 'AT21': {2013: {4326: {'20m': {'RG': {'geojson': <Response [200]>}}}}}, 'AT22': {2013: {4326: {'20m': {'RG': {'geojson': <Response [200]>}}}}}, 'AT31': {2013: {4326: {'20m': {'RG': {'geojson': <Response [200]>}}}}}, 'AT32': {2013: {4326: {'20m': {'RG': {'geojson': <Response [200]>}}}}}, 'AT33': {2013: {4326: {'20m': {'RG': {'geojson': <Response [200]>}}}}}, 'AT34': {2013: {4326: {'20m': {'RG': {'geojson': <Response [200]>}}}}}}"
      ]
     },
     "execution_count": 20,
     "metadata": {},
     "output_type": "execute_result"
    }
   ],
   "source": [
    "resp = serv.nuts_response(unit=units, year=2013, scale='20m', vector='region')\n",
    "resp"
   ]
  },
  {
   "cell_type": "markdown",
   "metadata": {},
   "source": [
    "This is indeed a nested dictionary structure (from `base._NestedDict` class):"
   ]
  },
  {
   "cell_type": "code",
   "execution_count": 21,
   "metadata": {},
   "outputs": [
    {
     "name": "stdout",
     "output_type": "stream",
     "text": [
      "<class 'happygisco.base._NestedDict'>\n",
      "OrderedDict([('source', ['AT11', 'AT12', 'AT13', 'AT21', 'AT22', 'AT31', 'AT32', 'AT33', 'AT34']), ('year', 2013), ('proj', 4326), ('scale', '20m'), ('vector', 'RG'), ('ifmt', 'geojson')])\n",
      "<Response [200]>\n"
     ]
    }
   ],
   "source": [
    "print(type(resp))\n",
    "print(resp.dimensions)\n",
    "print(resp.xget(source='AT32'))"
   ]
  },
  {
   "cell_type": "markdown",
   "metadata": {},
   "source": [
    "From this response, we can easily retrieve the data themselves, again stored in a nested dictionary structure:"
   ]
  },
  {
   "cell_type": "code",
   "execution_count": 22,
   "metadata": {},
   "outputs": [
    {
     "data": {
      "text/plain": [
       "True"
      ]
     },
     "execution_count": 22,
     "metadata": {},
     "output_type": "execute_result"
    }
   ],
   "source": [
    "data = serv.nuts_geometry(resp=resp)\n",
    "type(data) == base._NestedDict"
   ]
  },
  {
   "cell_type": "markdown",
   "metadata": {},
   "source": [
    "which could actually be run directly using a command similar to that use for fetching the response:"
   ]
  },
  {
   "cell_type": "code",
   "execution_count": 23,
   "metadata": {},
   "outputs": [
    {
     "data": {
      "text/plain": [
       "True"
      ]
     },
     "execution_count": 23,
     "metadata": {},
     "output_type": "execute_result"
    }
   ],
   "source": [
    "data == serv.nuts_geometry(unit=units, year=2013, scale='20m', vector='region')"
   ]
  },
  {
   "cell_type": "markdown",
   "metadata": {},
   "source": [
    "The actual geometries can be extracted from the dictionary easily:"
   ]
  },
  {
   "cell_type": "code",
   "execution_count": 24,
   "metadata": {},
   "outputs": [
    {
     "data": {
      "text/plain": [
       "[{'crs': {'properties': {'name': 'urn:ogc:def:crs:EPSG::4326'},\n",
       "   'type': 'name'},\n",
       "  'features': [{'geometry': {'coordinates': [[[17.1608, 48.00666],\n",
       "       [17.09466, 47.97087],\n",
       "       [17.08519, 47.87444],\n",
       "       [17.00995, 47.85834],\n",
       "       [17.07445, 47.80826],\n",
       "       [17.09307, 47.70824],\n",
       "       [16.74903, 47.68142],\n",
       "       [16.61229, 47.76023],\n",
       "       [16.42185, 47.6647],\n",
       "       [16.65208, 47.6229],\n",
       "       [16.71451, 47.53963],\n",
       "       [16.64622, 47.4466],\n",
       "       [16.44546, 47.40721],\n",
       "       [16.43376, 47.35292],\n",
       "       [16.48374, 47.2876],\n",
       "       [16.41949, 47.19492],\n",
       "       [16.52933, 47.12723],\n",
       "       [16.46333, 47.09496],\n",
       "       [16.52057, 47.05618],\n",
       "       [16.43888, 47.0297],\n",
       "       [16.50827, 47.00126],\n",
       "       [16.30226, 46.99843],\n",
       "       [16.11385, 46.86907],\n",
       "       [15.99624, 46.8354],\n",
       "       [16.12172, 46.99067],\n",
       "       [16.08651, 47.07421],\n",
       "       [16.11346, 47.16184],\n",
       "       [16.01516, 47.36713],\n",
       "       [16.17177, 47.4224],\n",
       "       [16.28108, 47.45513],\n",
       "       [16.3725, 47.64249],\n",
       "       [16.26905, 47.79641],\n",
       "       [16.37719, 47.82732],\n",
       "       [16.38889, 47.8816],\n",
       "       [16.48692, 47.94262],\n",
       "       [16.58028, 47.88861],\n",
       "       [16.7021, 48.01165],\n",
       "       [16.89, 48.07464],\n",
       "       [16.97924, 48.02345],\n",
       "       [17.0163, 48.07352],\n",
       "       [16.97108, 48.10057],\n",
       "       [17.06674, 48.11868],\n",
       "       [17.06741, 48.03144],\n",
       "       [17.1608, 48.00666]]],\n",
       "     'type': 'Polygon'},\n",
       "    'id': 'AT11',\n",
       "    'properties': {'CNTR_CODE': 'AT',\n",
       "     'FID': 'AT11',\n",
       "     'LEVL_CODE': 2,\n",
       "     'NUTS_ID': 'AT11',\n",
       "     'NUTS_NAME': 'Burgenland (AT)'},\n",
       "    'type': 'Feature'}],\n",
       "  'type': 'FeatureCollection'},\n",
       " {'crs': {'properties': {'name': 'urn:ogc:def:crs:EPSG::4326'},\n",
       "   'type': 'name'},\n",
       "  'features': [{'geometry': {'coordinates': [[[15.54245, 48.9077],\n",
       "       [15.75363, 48.85218],\n",
       "       [15.84331, 48.87339],\n",
       "       [16.10288, 48.7454],\n",
       "       [16.64849, 48.78521],\n",
       "       [16.90202, 48.71798],\n",
       "       [16.94028, 48.61725],\n",
       "       [16.94978, 48.53579],\n",
       "       [16.85111, 48.43864],\n",
       "       [16.84237, 48.35333],\n",
       "       [16.95718, 48.26348],\n",
       "       [16.9762, 48.17224],\n",
       "       [17.06674, 48.11868],\n",
       "       [16.97108, 48.10057],\n",
       "       [17.0163, 48.07352],\n",
       "       [16.97924, 48.02345],\n",
       "       [16.89, 48.07464],\n",
       "       [16.7021, 48.01165],\n",
       "       [16.58028, 47.88861],\n",
       "       [16.48692, 47.94262],\n",
       "       [16.38889, 47.8816],\n",
       "       [16.37719, 47.82732],\n",
       "       [16.26905, 47.79641],\n",
       "       [16.3725, 47.64249],\n",
       "       [16.28108, 47.45513],\n",
       "       [16.17177, 47.4224],\n",
       "       [16.0874, 47.50716],\n",
       "       [15.84701, 47.56779],\n",
       "       [15.82178, 47.63796],\n",
       "       [15.7251, 47.64646],\n",
       "       [15.71915, 47.70988],\n",
       "       [15.61171, 47.75109],\n",
       "       [15.37488, 47.82456],\n",
       "       [15.21731, 47.79603],\n",
       "       [15.08925, 47.74147],\n",
       "       [14.73846, 47.74872],\n",
       "       [14.70999, 47.85064],\n",
       "       [14.77172, 47.88378],\n",
       "       [14.49363, 47.9978],\n",
       "       [14.45612, 48.04304],\n",
       "       [14.47904, 48.10441],\n",
       "       [14.52118, 48.23761],\n",
       "       [14.68837, 48.15729],\n",
       "       [14.82884, 48.18908],\n",
       "       [14.99205, 48.25593],\n",
       "       [14.98645, 48.31931],\n",
       "       [14.94369, 48.32365],\n",
       "       [14.96445, 48.37851],\n",
       "       [14.87373, 48.45924],\n",
       "       [14.91246, 48.51396],\n",
       "       [14.69101, 48.5843],\n",
       "       [14.80867, 48.7788],\n",
       "       [14.97933, 48.77235],\n",
       "       [14.99045, 49.00965],\n",
       "       [15.15733, 48.99178],\n",
       "       [15.16025, 48.94169],\n",
       "       [15.36588, 48.98171],\n",
       "       [15.54245, 48.9077]],\n",
       "      [[16.1819, 48.17103],\n",
       "       [16.2181, 48.12807],\n",
       "       [16.57699, 48.14444],\n",
       "       [16.53638, 48.17461],\n",
       "       [16.54698, 48.263],\n",
       "       [16.43804, 48.31627],\n",
       "       [16.20516, 48.26206],\n",
       "       [16.1819, 48.17103]]],\n",
       "     'type': 'Polygon'},\n",
       "    'id': 'AT12',\n",
       "    'properties': {'CNTR_CODE': 'AT',\n",
       "     'FID': 'AT12',\n",
       "     'LEVL_CODE': 2,\n",
       "     'NUTS_ID': 'AT12',\n",
       "     'NUTS_NAME': 'Niederösterreich'},\n",
       "    'type': 'Feature'}],\n",
       "  'type': 'FeatureCollection'},\n",
       " {'crs': {'properties': {'name': 'urn:ogc:def:crs:EPSG::4326'},\n",
       "   'type': 'name'},\n",
       "  'features': [{'geometry': {'coordinates': [[[16.57699, 48.14444],\n",
       "       [16.2181, 48.12807],\n",
       "       [16.1819, 48.17103],\n",
       "       [16.20516, 48.26206],\n",
       "       [16.43804, 48.31627],\n",
       "       [16.54698, 48.263],\n",
       "       [16.53638, 48.17461],\n",
       "       [16.57699, 48.14444]]],\n",
       "     'type': 'Polygon'},\n",
       "    'id': 'AT13',\n",
       "    'properties': {'CNTR_CODE': 'AT',\n",
       "     'FID': 'AT13',\n",
       "     'LEVL_CODE': 2,\n",
       "     'NUTS_ID': 'AT13',\n",
       "     'NUTS_NAME': 'Wien'},\n",
       "    'type': 'Feature'}],\n",
       "  'type': 'FeatureCollection'},\n",
       " {'crs': {'properties': {'name': 'urn:ogc:def:crs:EPSG::4326'},\n",
       "   'type': 'name'},\n",
       "  'features': [{'geometry': {'coordinates': [[[13.35452, 47.0971],\n",
       "       [13.68654, 47.03982],\n",
       "       [13.78453, 46.94388],\n",
       "       [13.94672, 46.94063],\n",
       "       [14.13256, 47.06234],\n",
       "       [14.39619, 46.9807],\n",
       "       [14.84448, 47.0481],\n",
       "       [15.02701, 46.90973],\n",
       "       [14.97627, 46.78478],\n",
       "       [15.03015, 46.76979],\n",
       "       [15.06512, 46.65211],\n",
       "       [14.87967, 46.61125],\n",
       "       [14.81861, 46.50938],\n",
       "       [14.67458, 46.45069],\n",
       "       [14.56518, 46.37245],\n",
       "       [14.4345, 46.44294],\n",
       "       [13.71418, 46.5227],\n",
       "       [13.50425, 46.5663],\n",
       "       [12.73139, 46.63429],\n",
       "       [12.69064, 46.65697],\n",
       "       [12.72496, 46.74344],\n",
       "       [12.966, 46.78955],\n",
       "       [12.84116, 46.86098],\n",
       "       [12.72464, 46.99579],\n",
       "       [12.75782, 47.04582],\n",
       "       [12.65683, 47.09952],\n",
       "       [12.7309, 47.13099],\n",
       "       [13.07302, 47.01341],\n",
       "       [13.35452, 47.0971]]],\n",
       "     'type': 'Polygon'},\n",
       "    'id': 'AT21',\n",
       "    'properties': {'CNTR_CODE': 'AT',\n",
       "     'FID': 'AT21',\n",
       "     'LEVL_CODE': 2,\n",
       "     'NUTS_ID': 'AT21',\n",
       "     'NUTS_NAME': 'Kärnten'},\n",
       "    'type': 'Feature'}],\n",
       "  'type': 'FeatureCollection'},\n",
       " {'crs': {'properties': {'name': 'urn:ogc:def:crs:EPSG::4326'},\n",
       "   'type': 'name'},\n",
       "  'features': [{'geometry': {'coordinates': [[[15.84701, 47.56779],\n",
       "       [16.0874, 47.50716],\n",
       "       [16.17177, 47.4224],\n",
       "       [16.01516, 47.36713],\n",
       "       [16.11346, 47.16184],\n",
       "       [16.08651, 47.07421],\n",
       "       [16.12172, 46.99067],\n",
       "       [15.99624, 46.8354],\n",
       "       [15.98475, 46.75221],\n",
       "       [16.03809, 46.65615],\n",
       "       [15.78642, 46.70747],\n",
       "       [15.64999, 46.70576],\n",
       "       [15.50885, 46.61623],\n",
       "       [15.40198, 46.65355],\n",
       "       [15.06512, 46.65211],\n",
       "       [15.03015, 46.76979],\n",
       "       [14.97627, 46.78478],\n",
       "       [15.02701, 46.90973],\n",
       "       [14.84448, 47.0481],\n",
       "       [14.39619, 46.9807],\n",
       "       [14.13256, 47.06234],\n",
       "       [13.94672, 46.94063],\n",
       "       [13.78453, 46.94388],\n",
       "       [13.90357, 47.06291],\n",
       "       [13.88316, 47.10958],\n",
       "       [13.99612, 47.13281],\n",
       "       [13.86418, 47.25217],\n",
       "       [13.6076, 47.28356],\n",
       "       [13.56334, 47.42046],\n",
       "       [13.58566, 47.4748],\n",
       "       [13.72256, 47.46211],\n",
       "       [13.75593, 47.55273],\n",
       "       [13.69406, 47.62321],\n",
       "       [13.77742, 47.71453],\n",
       "       [14.0106, 47.70089],\n",
       "       [14.05078, 47.61716],\n",
       "       [14.20579, 47.65254],\n",
       "       [14.3264, 47.60755],\n",
       "       [14.73846, 47.74872],\n",
       "       [15.08925, 47.74147],\n",
       "       [15.21731, 47.79603],\n",
       "       [15.37488, 47.82456],\n",
       "       [15.61171, 47.75109],\n",
       "       [15.71915, 47.70988],\n",
       "       [15.7251, 47.64646],\n",
       "       [15.82178, 47.63796],\n",
       "       [15.84701, 47.56779]]],\n",
       "     'type': 'Polygon'},\n",
       "    'id': 'AT22',\n",
       "    'properties': {'CNTR_CODE': 'AT',\n",
       "     'FID': 'AT22',\n",
       "     'LEVL_CODE': 2,\n",
       "     'NUTS_ID': 'AT22',\n",
       "     'NUTS_NAME': 'Steiermark'},\n",
       "    'type': 'Feature'}],\n",
       "  'type': 'FeatureCollection'},\n",
       " {'crs': {'properties': {'name': 'urn:ogc:def:crs:EPSG::4326'},\n",
       "   'type': 'name'},\n",
       "  'features': [{'geometry': {'coordinates': [[[14.69101, 48.5843],\n",
       "       [14.91246, 48.51396],\n",
       "       [14.87373, 48.45924],\n",
       "       [14.96445, 48.37851],\n",
       "       [14.94369, 48.32365],\n",
       "       [14.98645, 48.31931],\n",
       "       [14.99205, 48.25593],\n",
       "       [14.82884, 48.18908],\n",
       "       [14.68837, 48.15729],\n",
       "       [14.52118, 48.23761],\n",
       "       [14.47904, 48.10441],\n",
       "       [14.45612, 48.04304],\n",
       "       [14.49363, 47.9978],\n",
       "       [14.77172, 47.88378],\n",
       "       [14.70999, 47.85064],\n",
       "       [14.73846, 47.74872],\n",
       "       [14.3264, 47.60755],\n",
       "       [14.20579, 47.65254],\n",
       "       [14.05078, 47.61716],\n",
       "       [14.0106, 47.70089],\n",
       "       [13.77742, 47.71453],\n",
       "       [13.69406, 47.62321],\n",
       "       [13.75593, 47.55273],\n",
       "       [13.72256, 47.46211],\n",
       "       [13.58566, 47.4748],\n",
       "       [13.51617, 47.4965],\n",
       "       [13.47674, 47.54125],\n",
       "       [13.5233, 47.61833],\n",
       "       [13.48409, 47.64154],\n",
       "       [13.55087, 47.71412],\n",
       "       [13.43627, 47.73855],\n",
       "       [13.53869, 47.78235],\n",
       "       [13.28971, 47.82437],\n",
       "       [13.28029, 47.95471],\n",
       "       [13.37343, 47.96581],\n",
       "       [13.30393, 48.00787],\n",
       "       [12.86018, 47.99664],\n",
       "       [12.75156, 48.11281],\n",
       "       [12.94468, 48.20669],\n",
       "       [13.17704, 48.29439],\n",
       "       [13.40784, 48.37216],\n",
       "       [13.43843, 48.5489],\n",
       "       [13.51337, 48.59098],\n",
       "       [13.72709, 48.51302],\n",
       "       [13.82576, 48.61862],\n",
       "       [13.79611, 48.7136],\n",
       "       [13.83951, 48.77161],\n",
       "       [14.11594, 48.58917],\n",
       "       [14.32452, 48.56234],\n",
       "       [14.47007, 48.64844],\n",
       "       [14.69101, 48.5843]]],\n",
       "     'type': 'Polygon'},\n",
       "    'id': 'AT31',\n",
       "    'properties': {'CNTR_CODE': 'AT',\n",
       "     'FID': 'AT31',\n",
       "     'LEVL_CODE': 2,\n",
       "     'NUTS_ID': 'AT31',\n",
       "     'NUTS_NAME': 'Oberösterreich'},\n",
       "    'type': 'Feature'}],\n",
       "  'type': 'FeatureCollection'},\n",
       " {'crs': {'properties': {'name': 'urn:ogc:def:crs:EPSG::4326'},\n",
       "   'type': 'name'},\n",
       "  'features': [{'geometry': {'coordinates': [[[13.58566, 47.4748],\n",
       "       [13.56334, 47.42046],\n",
       "       [13.6076, 47.28356],\n",
       "       [13.86418, 47.25217],\n",
       "       [13.99612, 47.13281],\n",
       "       [13.88316, 47.10958],\n",
       "       [13.90357, 47.06291],\n",
       "       [13.78453, 46.94388],\n",
       "       [13.68654, 47.03982],\n",
       "       [13.35452, 47.0971],\n",
       "       [13.07302, 47.01341],\n",
       "       [12.7309, 47.13099],\n",
       "       [12.65683, 47.09952],\n",
       "       [12.39952, 47.1528],\n",
       "       [12.24075, 47.06917],\n",
       "       [12.13601, 47.08067],\n",
       "       [12.08186, 47.19437],\n",
       "       [12.11455, 47.30644],\n",
       "       [12.4698, 47.32377],\n",
       "       [12.50609, 47.39413],\n",
       "       [12.69959, 47.47789],\n",
       "       [12.64163, 47.5545],\n",
       "       [12.6666, 47.57863],\n",
       "       [12.57503, 47.63232],\n",
       "       [12.6958, 47.68222],\n",
       "       [12.8073, 47.61023],\n",
       "       [12.77926, 47.57929],\n",
       "       [12.81025, 47.54706],\n",
       "       [13.00329, 47.46337],\n",
       "       [13.04606, 47.5205],\n",
       "       [13.09795, 47.63372],\n",
       "       [13.04797, 47.70912],\n",
       "       [12.90505, 47.72364],\n",
       "       [13.0039, 47.84797],\n",
       "       [12.87579, 47.96261],\n",
       "       [12.86018, 47.99664],\n",
       "       [13.30393, 48.00787],\n",
       "       [13.37343, 47.96581],\n",
       "       [13.28029, 47.95471],\n",
       "       [13.28971, 47.82437],\n",
       "       [13.53869, 47.78235],\n",
       "       [13.43627, 47.73855],\n",
       "       [13.55087, 47.71412],\n",
       "       [13.48409, 47.64154],\n",
       "       [13.5233, 47.61833],\n",
       "       [13.47674, 47.54125],\n",
       "       [13.51617, 47.4965],\n",
       "       [13.58566, 47.4748]]],\n",
       "     'type': 'Polygon'},\n",
       "    'id': 'AT32',\n",
       "    'properties': {'CNTR_CODE': 'AT',\n",
       "     'FID': 'AT32',\n",
       "     'LEVL_CODE': 2,\n",
       "     'NUTS_ID': 'AT32',\n",
       "     'NUTS_NAME': 'Salzburg'},\n",
       "    'type': 'Feature'}],\n",
       "  'type': 'FeatureCollection'},\n",
       " {'crs': {'properties': {'name': 'urn:ogc:def:crs:EPSG::4326'},\n",
       "   'type': 'name'},\n",
       "  'features': [{'geometry': {'coordinates': [[[[12.33805, 47.69709],\n",
       "        [12.57503, 47.63232],\n",
       "        [12.6666, 47.57863],\n",
       "        [12.64163, 47.5545],\n",
       "        [12.69959, 47.47789],\n",
       "        [12.50609, 47.39413],\n",
       "        [12.4698, 47.32377],\n",
       "        [12.11455, 47.30644],\n",
       "        [12.08186, 47.19437],\n",
       "        [12.13601, 47.08067],\n",
       "        [11.74703, 46.96887],\n",
       "        [11.6272, 47.0133],\n",
       "        [11.16428, 46.96572],\n",
       "        [11.02225, 46.76541],\n",
       "        [10.75759, 46.78519],\n",
       "        [10.66737, 46.87549],\n",
       "        [10.46965, 46.85491],\n",
       "        [10.48935, 46.93779],\n",
       "        [10.38932, 47.00052],\n",
       "        [10.14497, 46.85101],\n",
       "        [10.09822, 46.92736],\n",
       "        [10.15981, 46.98375],\n",
       "        [10.13423, 47.08386],\n",
       "        [10.21299, 47.15758],\n",
       "        [10.17835, 47.27011],\n",
       "        [10.47541, 47.4317],\n",
       "        [10.43132, 47.50368],\n",
       "        [10.45444, 47.5558],\n",
       "        [10.8862, 47.53685],\n",
       "        [10.87104, 47.48188],\n",
       "        [10.9912, 47.39613],\n",
       "        [11.0165, 47.39637],\n",
       "        [11.42143, 47.44485],\n",
       "        [11.38381, 47.47221],\n",
       "        [11.41022, 47.49532],\n",
       "        [11.57243, 47.51464],\n",
       "        [11.63288, 47.59245],\n",
       "        [12.06066, 47.61874],\n",
       "        [12.20732, 47.60984],\n",
       "        [12.18393, 47.70037],\n",
       "        [12.26489, 47.73248],\n",
       "        [12.25718, 47.6791],\n",
       "        [12.33805, 47.69709]]],\n",
       "      [[[12.69064, 46.65697],\n",
       "        [12.47792, 46.67984],\n",
       "        [12.31281, 46.78387],\n",
       "        [12.2737, 46.88439],\n",
       "        [12.14381, 46.91378],\n",
       "        [12.12134, 47.007],\n",
       "        [12.24075, 47.06917],\n",
       "        [12.39952, 47.1528],\n",
       "        [12.65683, 47.09952],\n",
       "        [12.75782, 47.04582],\n",
       "        [12.72464, 46.99579],\n",
       "        [12.84116, 46.86098],\n",
       "        [12.966, 46.78955],\n",
       "        [12.72496, 46.74344],\n",
       "        [12.69064, 46.65697]]]],\n",
       "     'type': 'MultiPolygon'},\n",
       "    'id': 'AT33',\n",
       "    'properties': {'CNTR_CODE': 'AT',\n",
       "     'FID': 'AT33',\n",
       "     'LEVL_CODE': 2,\n",
       "     'NUTS_ID': 'AT33',\n",
       "     'NUTS_NAME': 'Tirol'},\n",
       "    'type': 'Feature'}],\n",
       "  'type': 'FeatureCollection'},\n",
       " {'crs': {'properties': {'name': 'urn:ogc:def:crs:EPSG::4326'},\n",
       "   'type': 'name'},\n",
       "  'features': [{'geometry': {'coordinates': [[[9.96781, 47.54624],\n",
       "       [9.99953, 47.48302],\n",
       "       [10.09147, 47.45908],\n",
       "       [10.09985, 47.35476],\n",
       "       [10.23393, 47.38329],\n",
       "       [10.17835, 47.27011],\n",
       "       [10.21299, 47.15758],\n",
       "       [10.13423, 47.08386],\n",
       "       [10.15981, 46.98375],\n",
       "       [10.09822, 46.92736],\n",
       "       [10.14497, 46.85101],\n",
       "       [9.87615, 46.93464],\n",
       "       [9.87942, 47.01956],\n",
       "       [9.60708, 47.06077],\n",
       "       [9.62058, 47.15165],\n",
       "       [9.53075, 47.27058],\n",
       "       [9.67337, 47.38151],\n",
       "       [9.55872, 47.54189],\n",
       "       [9.73657, 47.53491],\n",
       "       [9.76547, 47.58886],\n",
       "       [9.96781, 47.54624]]],\n",
       "     'type': 'Polygon'},\n",
       "    'id': 'AT34',\n",
       "    'properties': {'CNTR_CODE': 'AT',\n",
       "     'FID': 'AT34',\n",
       "     'LEVL_CODE': 2,\n",
       "     'NUTS_ID': 'AT34',\n",
       "     'NUTS_NAME': 'Vorarlberg'},\n",
       "    'type': 'Feature'}],\n",
       "  'type': 'FeatureCollection'}]"
      ]
     },
     "execution_count": 24,
     "metadata": {},
     "output_type": "execute_result"
    }
   ],
   "source": [
    "geometries = data.xvalues()\n",
    "geometries"
   ]
  },
  {
   "cell_type": "markdown",
   "metadata": {},
   "source": [
    "Let us display the data using `ipyleaflet` this time:"
   ]
  },
  {
   "cell_type": "code",
   "execution_count": 25,
   "metadata": {},
   "outputs": [
    {
     "name": "stdout",
     "output_type": "stream",
     "text": [
      "{'center': [50.033333, 10.35], 'zoom': 4, 'url': 'https://europa.eu/webtools/maps/tiles/osm-ec/{z}/{y}/{x}', 'attr': '© OpenStreetMap'}\n"
     ]
    },
    {
     "data": {
      "application/vnd.jupyter.widget-view+json": {
       "model_id": "66ed52eac8f74e80a92c19e5f79a329b",
       "version_major": 2,
       "version_minor": 0
      },
      "text/plain": [
       "Map(basemap={'url': 'https://{s}.tile.openstreetmap.org/{z}/{x}/{y}.png', 'max_zoom': 19, 'attribution': 'Map …"
      ]
     },
     "metadata": {},
     "output_type": "display_data"
    }
   ],
   "source": [
    "tile_info = serv.tile_info(tile='osmec')\n",
    "print(tile_info)\n",
    "map_display = ipyleaflet.Map(center=tile_info['center'], zoom=tile_info['zoom'])\n",
    "map_display.add_layer(ipyleaflet.TileLayer(url=tile_info['url'], attribution=tile_info['attr']))\n",
    "[map_display.add_layer(ipyleaflet.GeoJSON(data=g, hover_style={'fillColor': 'red'})) for g in geometries]\n",
    "map_display"
   ]
  },
  {
   "cell_type": "markdown",
   "metadata": {},
   "source": [
    "To enable \"interoperability\", the geometries can then be parsed into a `geopandas.GeoDataFrame` structure using the following:"
   ]
  },
  {
   "cell_type": "code",
   "execution_count": 26,
   "metadata": {},
   "outputs": [
    {
     "data": {
      "text/html": [
       "<div>\n",
       "<style scoped>\n",
       "    .dataframe tbody tr th:only-of-type {\n",
       "        vertical-align: middle;\n",
       "    }\n",
       "\n",
       "    .dataframe tbody tr th {\n",
       "        vertical-align: top;\n",
       "    }\n",
       "\n",
       "    .dataframe thead th {\n",
       "        text-align: right;\n",
       "    }\n",
       "</style>\n",
       "<table border=\"1\" class=\"dataframe\">\n",
       "  <thead>\n",
       "    <tr style=\"text-align: right;\">\n",
       "      <th></th>\n",
       "      <th>CNTR_CODE</th>\n",
       "      <th>FID</th>\n",
       "      <th>LEVL_CODE</th>\n",
       "      <th>NUTS_ID</th>\n",
       "      <th>NUTS_NAME</th>\n",
       "      <th>geometry</th>\n",
       "    </tr>\n",
       "  </thead>\n",
       "  <tbody>\n",
       "    <tr>\n",
       "      <th>0</th>\n",
       "      <td>AT</td>\n",
       "      <td>AT11</td>\n",
       "      <td>2</td>\n",
       "      <td>AT11</td>\n",
       "      <td>Burgenland (AT)</td>\n",
       "      <td>POLYGON ((17.1608 48.00666, 17.09466 47.97087,...</td>\n",
       "    </tr>\n",
       "    <tr>\n",
       "      <th>1</th>\n",
       "      <td>AT</td>\n",
       "      <td>AT12</td>\n",
       "      <td>2</td>\n",
       "      <td>AT12</td>\n",
       "      <td>Niederösterreich</td>\n",
       "      <td>POLYGON ((15.54245 48.9077, 15.75363 48.85218,...</td>\n",
       "    </tr>\n",
       "    <tr>\n",
       "      <th>2</th>\n",
       "      <td>AT</td>\n",
       "      <td>AT13</td>\n",
       "      <td>2</td>\n",
       "      <td>AT13</td>\n",
       "      <td>Wien</td>\n",
       "      <td>POLYGON ((16.57699 48.14444, 16.2181 48.12807,...</td>\n",
       "    </tr>\n",
       "    <tr>\n",
       "      <th>3</th>\n",
       "      <td>AT</td>\n",
       "      <td>AT21</td>\n",
       "      <td>2</td>\n",
       "      <td>AT21</td>\n",
       "      <td>Kärnten</td>\n",
       "      <td>POLYGON ((13.35452 47.0971, 13.68654 47.03982,...</td>\n",
       "    </tr>\n",
       "    <tr>\n",
       "      <th>4</th>\n",
       "      <td>AT</td>\n",
       "      <td>AT22</td>\n",
       "      <td>2</td>\n",
       "      <td>AT22</td>\n",
       "      <td>Steiermark</td>\n",
       "      <td>POLYGON ((15.84701 47.56779, 16.0874 47.50716,...</td>\n",
       "    </tr>\n",
       "  </tbody>\n",
       "</table>\n",
       "</div>"
      ],
      "text/plain": [
       "  CNTR_CODE   FID  LEVL_CODE NUTS_ID         NUTS_NAME  \\\n",
       "0        AT  AT11          2    AT11   Burgenland (AT)   \n",
       "1        AT  AT12          2    AT12  Niederösterreich   \n",
       "2        AT  AT13          2    AT13              Wien   \n",
       "3        AT  AT21          2    AT21           Kärnten   \n",
       "4        AT  AT22          2    AT22        Steiermark   \n",
       "\n",
       "                                            geometry  \n",
       "0  POLYGON ((17.1608 48.00666, 17.09466 47.97087,...  \n",
       "1  POLYGON ((15.54245 48.9077, 15.75363 48.85218,...  \n",
       "2  POLYGON ((16.57699 48.14444, 16.2181 48.12807,...  \n",
       "3  POLYGON ((13.35452 47.0971, 13.68654 47.03982,...  \n",
       "4  POLYGON ((15.84701 47.56779, 16.0874 47.50716,...  "
      ]
     },
     "execution_count": 26,
     "metadata": {},
     "output_type": "execute_result"
    }
   ],
   "source": [
    "gdf = geopandas.GeoDataFrame.from_features([g['features'][0] for g in geometries], crs=geometries[0]['crs'])\n",
    "gdf.head()"
   ]
  },
  {
   "cell_type": "markdown",
   "metadata": {},
   "source": [
    "The dataframe structure can be plotted directly:"
   ]
  },
  {
   "cell_type": "code",
   "execution_count": 27,
   "metadata": {},
   "outputs": [
    {
     "data": {
      "text/plain": [
       "<matplotlib.axes._subplots.AxesSubplot at 0x3206be860>"
      ]
     },
     "execution_count": 27,
     "metadata": {},
     "output_type": "execute_result"
    },
    {
     "data": {
      "image/png": "[encoded data removed]",
      "text/plain": [
       "<matplotlib.figure.Figure at 0x32037ff28>"
      ]
     },
     "metadata": {},
     "output_type": "display_data"
    }
   ],
   "source": [
    "%matplotlib inline\n",
    "gdf.plot()"
   ]
  },
  {
   "cell_type": "markdown",
   "metadata": {},
   "source": [
    "Similarly, let's repeat the whole operation when considering all NUTS boundaries over Europe:"
   ]
  },
  {
   "cell_type": "code",
   "execution_count": 28,
   "metadata": {},
   "outputs": [
    {
     "data": {
      "text/plain": [
       "<matplotlib.axes._subplots.AxesSubplot at 0x3280f3358>"
      ]
     },
     "execution_count": 28,
     "metadata": {},
     "output_type": "execute_result"
    },
    {
     "data": {
      "image/png": "[encoded data removed]",
      "text/plain": [
       "<matplotlib.figure.Figure at 0x31ffcea90>"
      ]
     },
     "metadata": {},
     "output_type": "display_data"
    }
   ],
   "source": [
    "data = serv.nuts_geometry(source='NUTS', year=2016, scale='60m', vector='boundary')\n",
    "geometries = data.xvalues(_force_list_=True)\n",
    "gdf = geopandas.GeoDataFrame.from_features(geometries[0], crs=geometries[0]['crs'])\n",
    "%matplotlib inline\n",
    "gdf.plot()"
   ]
  },
  {
   "cell_type": "markdown",
   "metadata": {},
   "source": [
    "That's is folks!"
   ]
  }
 ],
 "metadata": {
  "kernelspec": {
   "display_name": "Python 3",
   "language": "python",
   "name": "python3"
  },
  "language_info": {
   "codemirror_mode": {
    "name": "ipython",
    "version": 3
   },
   "file_extension": ".py",
   "mimetype": "text/x-python",
   "name": "python",
   "nbconvert_exporter": "python",
   "pygments_lexer": "ipython3",
   "version": "3.6.3"
  }
 },
 "nbformat": 4,
 "nbformat_minor": 2
}
