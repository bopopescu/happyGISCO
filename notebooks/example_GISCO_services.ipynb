{
 "cells": [
  {
   "cell_type": "markdown",
   "metadata": {},
   "source": [
    "### A very simple example of call/use of *GISCO* web-services..."
   ]
  },
  {
   "cell_type": "markdown",
   "metadata": {},
   "source": [
    "Let us run a very simple example using the [**`happyGISCO`**](https://github.com/eurostat/happyGISCO) module. One can refer anytime to the documentation available at this address:  http://happygisco.readthedocs.io."
   ]
  },
  {
   "cell_type": "code",
   "execution_count": 1,
   "metadata": {},
   "outputs": [
    {
     "name": "stdout",
     "output_type": "stream",
     "text": [
      "! missing FASTENERS package (https://pypi.org/project/fasteners/) <class 'ImportWarning'> !\n",
      "! missing SIMPLEJSON package (https://pypi.python.org/pypi/simplejson/) <class 'ImportWarning'> !\n",
      "! missing GOOGLEPLACES package (https://github.com/slimkrazy/python-google-places) !\n"
     ]
    }
   ],
   "source": [
    "import happygisco\n",
    "from happygisco import services"
   ]
  },
  {
   "cell_type": "markdown",
   "metadata": {},
   "source": [
    "We first create an instance of a `GISCO`-based service, namely using the **`services.GISCOService`** class."
   ]
  },
  {
   "cell_type": "code",
   "execution_count": 2,
   "metadata": {
    "collapsed": true
   },
   "outputs": [],
   "source": [
    "serv = services.GISCOService()"
   ]
  },
  {
   "cell_type": "markdown",
   "metadata": {},
   "source": [
    "In the following, we will use this instance to perform various operations, calling everytim *GISCO* web-services. \n",
    "\n",
    "Let us simply define a geolocation by its common name:"
   ]
  },
  {
   "cell_type": "code",
   "execution_count": 3,
   "metadata": {
    "collapsed": true
   },
   "outputs": [],
   "source": [
    "whereamI = 'Luxembourg'"
   ]
  },
  {
   "cell_type": "markdown",
   "metadata": {},
   "source": [
    "We could also have chosen to actually use: `wheramI = \"Luxembourg, Luxembourg\"`. That is up to us actually...and to the service capability to resolve toponame ambibuity.\n",
    "\n",
    "One can already simply run the service to retrieve the geographical coordinates of the considered location, since the method `GISCOService.place2coord` can be used for that purpose:"
   ]
  },
  {
   "cell_type": "code",
   "execution_count": 4,
   "metadata": {},
   "outputs": [
    {
     "data": {
      "text/plain": [
       "[[49.8158683, 6.1296751],\n",
       " [49.6047585, 6.142580146666669],\n",
       " [48.3777152, 4.2576617],\n",
       " [49.6112768, 6.129799]]"
      ]
     },
     "execution_count": 4,
     "metadata": {},
     "output_type": "execute_result"
    }
   ],
   "source": [
    "coords = serv.place2coord(whereamI)\n",
    "coords"
   ]
  },
  {
   "cell_type": "markdown",
   "metadata": {},
   "source": [
    "Hence, we got this way all the geolocations that *\"potentially\"* correspond to the name `whereamI`. We can actually decide to retrieve one location instead of all of them, *e.g.* the first one in the list (rather arbitrarly):"
   ]
  },
  {
   "cell_type": "code",
   "execution_count": 5,
   "metadata": {},
   "outputs": [
    {
     "data": {
      "text/plain": [
       "[49.8158683, 6.1296751]"
      ]
     },
     "execution_count": 5,
     "metadata": {},
     "output_type": "execute_result"
    }
   ],
   "source": [
    "coord = serv.place2coord(whereamI, unique=True)\n",
    "coord"
   ]
  },
  {
   "cell_type": "markdown",
   "metadata": {},
   "source": [
    "Note that any time, we actually call the *GISCO* geoservice... there is **no caching** of the data fetched through the service!\n",
    "\n",
    "What if we *\"revert\"* the geocoding service to identify the name of the location, using the `GISCOService.coord2place` method for that purpose:"
   ]
  },
  {
   "cell_type": "code",
   "execution_count": 6,
   "metadata": {},
   "outputs": [
    {
     "data": {
      "text/plain": [
       "'Schieren, 7421, Luxembourg'"
      ]
     },
     "execution_count": 6,
     "metadata": {},
     "output_type": "execute_result"
    }
   ],
   "source": [
    "serv.coord2place(coord)"
   ]
  },
  {
   "cell_type": "markdown",
   "metadata": {},
   "source": [
    "Hence, it does not exactly correspond to the input location name... not so surprising. What if we run the same service on the whole collection of all retrieved geographical coordinates:"
   ]
  },
  {
   "cell_type": "code",
   "execution_count": 7,
   "metadata": {},
   "outputs": [
    {
     "data": {
      "text/plain": [
       "['Schieren, 7421, Luxembourg',\n",
       " \"Rue d'Itzig, Luxembourg, 1118, Luxembourg\",\n",
       " \"Rue de l'Église, Bouy-Luxembourg, (Grand Est), 10220, France\",\n",
       " 'Luxembourg, 2525, Luxembourg']"
      ]
     },
     "execution_count": 7,
     "metadata": {},
     "output_type": "execute_result"
    }
   ],
   "source": [
    "names = serv.coord2place(coords)\n",
    "names"
   ]
  },
  {
   "cell_type": "markdown",
   "metadata": {},
   "source": [
    "Hum... note that one of the places retrieved is actually...in France. That's the ambiguity related to the toponame. Note that this issue is actually not solved when passing the country as well (but that is specific to...Luxembourg):"
   ]
  },
  {
   "cell_type": "code",
   "execution_count": 8,
   "metadata": {},
   "outputs": [
    {
     "data": {
      "text/plain": [
       "['Schieren, 7421, Luxembourg',\n",
       " \"Rue d'Itzig, Luxembourg, 1118, Luxembourg\",\n",
       " \"Rue de l'Église, Bouy-Luxembourg, (Grand Est), 10220, France\",\n",
       " 'Luxembourg, 2525, Luxembourg']"
      ]
     },
     "execution_count": 8,
     "metadata": {},
     "output_type": "execute_result"
    }
   ],
   "source": [
    "serv.coord2place(serv.place2coord('Luxembourg, Luxembourg'))"
   ]
  },
  {
   "cell_type": "markdown",
   "metadata": {},
   "source": [
    "Note that we can run the service again to retrieve the actual `(Lon,lat)` locations of the toponames above:"
   ]
  },
  {
   "cell_type": "code",
   "execution_count": 9,
   "metadata": {},
   "outputs": [
    {
     "data": {
      "text/plain": [
       "[[6.1239744, 49.8198198],\n",
       " [6.1499308, 49.5980238],\n",
       " [4.2574905, 48.3761178],\n",
       " [6.125268, 49.6180953]]"
      ]
     },
     "execution_count": 9,
     "metadata": {},
     "output_type": "execute_result"
    }
   ],
   "source": [
    "serv.place2coord(names, order='Ll', unique=True)"
   ]
  },
  {
   "cell_type": "markdown",
   "metadata": {},
   "source": [
    "You could instead use the module [**`geopandas`**](https://geopandas.readthedocs.io/en/latest) if this is available on your local install. The module `geopandas` is actually based on the [**`geopy`**](http://geopy.readthedocs.io/) module (see this [page](https://geopandas.readthedocs.io/en/latest/geocoding.html)), itself available in **`happyGISCO`** through the **`services.APIService`** class. Run for instance the following and compare it with the previous output:"
   ]
  },
  {
   "cell_type": "code",
   "execution_count": 10,
   "metadata": {},
   "outputs": [
    {
     "data": {
      "text/html": [
       "<div>\n",
       "<style scoped>\n",
       "    .dataframe tbody tr th:only-of-type {\n",
       "        vertical-align: middle;\n",
       "    }\n",
       "\n",
       "    .dataframe tbody tr th {\n",
       "        vertical-align: top;\n",
       "    }\n",
       "\n",
       "    .dataframe thead th {\n",
       "        text-align: right;\n",
       "    }\n",
       "</style>\n",
       "<table border=\"1\" class=\"dataframe\">\n",
       "  <thead>\n",
       "    <tr style=\"text-align: right;\">\n",
       "      <th></th>\n",
       "      <th>address</th>\n",
       "      <th>geometry</th>\n",
       "    </tr>\n",
       "  </thead>\n",
       "  <tbody>\n",
       "    <tr>\n",
       "      <th>0</th>\n",
       "      <td>Schieren, Canton Diekirch, Lëtzebuerg</td>\n",
       "      <td>POINT (6.096622 49.8300396)</td>\n",
       "    </tr>\n",
       "    <tr>\n",
       "      <th>1</th>\n",
       "      <td>Rue d'Itzig, Bonnevoie, Luxembourg, Canton Lux...</td>\n",
       "      <td>POINT (6.1499308 49.5980238)</td>\n",
       "    </tr>\n",
       "    <tr>\n",
       "      <th>2</th>\n",
       "      <td>Rue de l'Église, Bouy-Luxembourg, Troyes, Aube...</td>\n",
       "      <td>POINT (4.2574905 48.3761178)</td>\n",
       "    </tr>\n",
       "    <tr>\n",
       "      <th>3</th>\n",
       "      <td>Luxembourg, Canton Luxembourg, Lëtzebuerg</td>\n",
       "      <td>POINT (6.129799 49.6112768)</td>\n",
       "    </tr>\n",
       "  </tbody>\n",
       "</table>\n",
       "</div>"
      ],
      "text/plain": [
       "                                             address  \\\n",
       "0              Schieren, Canton Diekirch, Lëtzebuerg   \n",
       "1  Rue d'Itzig, Bonnevoie, Luxembourg, Canton Lux...   \n",
       "2  Rue de l'Église, Bouy-Luxembourg, Troyes, Aube...   \n",
       "3          Luxembourg, Canton Luxembourg, Lëtzebuerg   \n",
       "\n",
       "                       geometry  \n",
       "0   POINT (6.096622 49.8300396)  \n",
       "1  POINT (6.1499308 49.5980238)  \n",
       "2  POINT (4.2574905 48.3761178)  \n",
       "3   POINT (6.129799 49.6112768)  "
      ]
     },
     "execution_count": 10,
     "metadata": {},
     "output_type": "execute_result"
    }
   ],
   "source": [
    "try:\n",
    "    import geopandas\n",
    "except:\n",
    "    output_loc = '!ups... nothing to output - geopandas not available!'\n",
    "else:\n",
    "    output_loc = geopandas.tools.geocode(names, provider=\"nominatim\")\n",
    "output_loc"
   ]
  },
  {
   "cell_type": "markdown",
   "metadata": {},
   "source": [
    "We can exploit the outputs of the *GISCO* service, `names` and `coords` data, for visualisation. For that purpose, the module [**`folium`**](https://github.com/python-visualization/folium) that builds ontop of [**`Leaflet.js`**](https://leafletjs.com) can be used. To render the map in the notebook, we call the *\"blue marble\"* tiles (one of the [background view services](https://webgate.ec.europa.eu/fpfis/wikis/display/GISCO/Geospatial+information+services+for+the+European+Commission+and+other+EU+users) of *GISCO*) as background. Note the use of the `GISCOService.url_title` method for that purpose. "
   ]
  },
  {
   "cell_type": "code",
   "execution_count": 11,
   "metadata": {
    "scrolled": true
   },
   "outputs": [
    {
     "data": {
      "text/html": [
       "<div style=\"width:100%;\"><div style=\"position:relative;width:100%;height:0;padding-bottom:60%;\"><iframe src=\"data:text/html;charset=utf-8;base64,PCFET0NUWVBFIGh0bWw+CjxoZWFkPiAgICAKICAgIDxtZXRhIGh0dHAtZXF1aXY9ImNvbnRlbnQtdHlwZSIgY29udGVudD0idGV4dC9odG1sOyBjaGFyc2V0PVVURi04IiAvPgogICAgPHNjcmlwdD5MX1BSRUZFUl9DQU5WQVMgPSBmYWxzZTsgTF9OT19UT1VDSCA9IGZhbHNlOyBMX0RJU0FCTEVfM0QgPSBmYWxzZTs8L3NjcmlwdD4KICAgIDxzY3JpcHQgc3JjPSJodHRwczovL2Nkbi5qc2RlbGl2ci5uZXQvbnBtL2xlYWZsZXRAMS4yLjAvZGlzdC9sZWFmbGV0LmpzIj48L3NjcmlwdD4KICAgIDxzY3JpcHQgc3JjPSJodHRwczovL2FqYXguZ29vZ2xlYXBpcy5jb20vYWpheC9saWJzL2pxdWVyeS8xLjExLjEvanF1ZXJ5Lm1pbi5qcyI+PC9zY3JpcHQ+CiAgICA8c2NyaXB0IHNyYz0iaHR0cHM6Ly9tYXhjZG4uYm9vdHN0cmFwY2RuLmNvbS9ib290c3RyYXAvMy4yLjAvanMvYm9vdHN0cmFwLm1pbi5qcyI+PC9zY3JpcHQ+CiAgICA8c2NyaXB0IHNyYz0iaHR0cHM6Ly9jZG5qcy5jbG91ZGZsYXJlLmNvbS9hamF4L2xpYnMvTGVhZmxldC5hd2Vzb21lLW1hcmtlcnMvMi4wLjIvbGVhZmxldC5hd2Vzb21lLW1hcmtlcnMuanMiPjwvc2NyaXB0PgogICAgPGxpbmsgcmVsPSJzdHlsZXNoZWV0IiBocmVmPSJodHRwczovL2Nkbi5qc2RlbGl2ci5uZXQvbnBtL2xlYWZsZXRAMS4yLjAvZGlzdC9sZWFmbGV0LmNzcyIvPgogICAgPGxpbmsgcmVsPSJzdHlsZXNoZWV0IiBocmVmPSJodHRwczovL21heGNkbi5ib290c3RyYXBjZG4uY29tL2Jvb3RzdHJhcC8zLjIuMC9jc3MvYm9vdHN0cmFwLm1pbi5jc3MiLz4KICAgIDxsaW5rIHJlbD0ic3R5bGVzaGVldCIgaHJlZj0iaHR0cHM6Ly9tYXhjZG4uYm9vdHN0cmFwY2RuLmNvbS9ib290c3RyYXAvMy4yLjAvY3NzL2Jvb3RzdHJhcC10aGVtZS5taW4uY3NzIi8+CiAgICA8bGluayByZWw9InN0eWxlc2hlZXQiIGhyZWY9Imh0dHBzOi8vbWF4Y2RuLmJvb3RzdHJhcGNkbi5jb20vZm9udC1hd2Vzb21lLzQuNi4zL2Nzcy9mb250LWF3ZXNvbWUubWluLmNzcyIvPgogICAgPGxpbmsgcmVsPSJzdHlsZXNoZWV0IiBocmVmPSJodHRwczovL2NkbmpzLmNsb3VkZmxhcmUuY29tL2FqYXgvbGlicy9MZWFmbGV0LmF3ZXNvbWUtbWFya2Vycy8yLjAuMi9sZWFmbGV0LmF3ZXNvbWUtbWFya2Vycy5jc3MiLz4KICAgIDxsaW5rIHJlbD0ic3R5bGVzaGVldCIgaHJlZj0iaHR0cHM6Ly9yYXdnaXQuY29tL3B5dGhvbi12aXN1YWxpemF0aW9uL2ZvbGl1bS9tYXN0ZXIvZm9saXVtL3RlbXBsYXRlcy9sZWFmbGV0LmF3ZXNvbWUucm90YXRlLmNzcyIvPgogICAgPHN0eWxlPmh0bWwsIGJvZHkge3dpZHRoOiAxMDAlO2hlaWdodDogMTAwJTttYXJnaW46IDA7cGFkZGluZzogMDt9PC9zdHlsZT4KICAgIDxzdHlsZT4jbWFwIHtwb3NpdGlvbjphYnNvbHV0ZTt0b3A6MDtib3R0b206MDtyaWdodDowO2xlZnQ6MDt9PC9zdHlsZT4KICAgIAogICAgICAgICAgICA8c3R5bGU+ICNtYXBfNGZkZDRkNDYwNDZiNGZiOTk2OWMxYjZhOTE0ODMwYWEgewogICAgICAgICAgICAgICAgcG9zaXRpb24gOiByZWxhdGl2ZTsKICAgICAgICAgICAgICAgIHdpZHRoIDogMTAwLjAlOwogICAgICAgICAgICAgICAgaGVpZ2h0OiAxMDAuMCU7CiAgICAgICAgICAgICAgICBsZWZ0OiAwLjAlOwogICAgICAgICAgICAgICAgdG9wOiAwLjAlOwogICAgICAgICAgICAgICAgfQogICAgICAgICAgICA8L3N0eWxlPgogICAgICAgIAo8L2hlYWQ+Cjxib2R5PiAgICAKICAgIAogICAgICAgICAgICA8ZGl2IGNsYXNzPSJmb2xpdW0tbWFwIiBpZD0ibWFwXzRmZGQ0ZDQ2MDQ2YjRmYjk5NjljMWI2YTkxNDgzMGFhIiA+PC9kaXY+CiAgICAgICAgCjwvYm9keT4KPHNjcmlwdD4gICAgCiAgICAKCiAgICAgICAgICAgIAogICAgICAgICAgICAgICAgdmFyIGJvdW5kcyA9IG51bGw7CiAgICAgICAgICAgIAoKICAgICAgICAgICAgdmFyIG1hcF80ZmRkNGQ0NjA0NmI0ZmI5OTY5YzFiNmE5MTQ4MzBhYSA9IEwubWFwKAogICAgICAgICAgICAgICAgICAgICAgICAgICAgICAgICAgJ21hcF80ZmRkNGQ0NjA0NmI0ZmI5OTY5YzFiNmE5MTQ4MzBhYScsCiAgICAgICAgICAgICAgICAgICAgICAgICAgICAgICAgICB7Y2VudGVyOiBbNDkuODE1ODY4Myw2LjEyOTY3NTFdLAogICAgICAgICAgICAgICAgICAgICAgICAgICAgICAgICAgem9vbTogNiwKICAgICAgICAgICAgICAgICAgICAgICAgICAgICAgICAgIG1heEJvdW5kczogYm91bmRzLAogICAgICAgICAgICAgICAgICAgICAgICAgICAgICAgICAgbGF5ZXJzOiBbXSwKICAgICAgICAgICAgICAgICAgICAgICAgICAgICAgICAgIHdvcmxkQ29weUp1bXA6IGZhbHNlLAogICAgICAgICAgICAgICAgICAgICAgICAgICAgICAgICAgY3JzOiBMLkNSUy5FUFNHMzg1NwogICAgICAgICAgICAgICAgICAgICAgICAgICAgICAgICB9KTsKICAgICAgICAgICAgCiAgICAgICAgCiAgICAKICAgICAgICAgICAgdmFyIHRpbGVfbGF5ZXJfYjNmMTFhMGRjNTMyNDUxZTk3MzY3MzBiMmVjM2QxNjYgPSBMLnRpbGVMYXllcigKICAgICAgICAgICAgICAgICdodHRwczovL2V1cm9wYS5ldS93ZWJ0b29scy9tYXBzL3RpbGVzL2JtYXJibGUvMzg1Ny97en0ve3l9L3t4fScsCiAgICAgICAgICAgICAgICB7CiAgImF0dHJpYnV0aW9uIjogIlx1MDBhOSBOQVNBXHUyMDE5cyBFYXJ0aCBPYnNlcnZhdG9yeSIsCiAgImRldGVjdFJldGluYSI6IGZhbHNlLAogICJtYXhab29tIjogMTgsCiAgIm1pblpvb20iOiAxLAogICJub1dyYXAiOiBmYWxzZSwKICAic3ViZG9tYWlucyI6ICJhYmMiCn0KICAgICAgICAgICAgICAgICkuYWRkVG8obWFwXzRmZGQ0ZDQ2MDQ2YjRmYjk5NjljMWI2YTkxNDgzMGFhKTsKICAgICAgICAKICAgIAoKICAgICAgICAgICAgdmFyIG1hcmtlcl85OGU5NTAxYTA3ZDg0Njc2YjgxOTFmZDllYWNlN2Q5YiA9IEwubWFya2VyKAogICAgICAgICAgICAgICAgWzQ5LjgxNTg2ODMsNi4xMjk2NzUxXSwKICAgICAgICAgICAgICAgIHsKICAgICAgICAgICAgICAgICAgICBpY29uOiBuZXcgTC5JY29uLkRlZmF1bHQoKQogICAgICAgICAgICAgICAgICAgIH0KICAgICAgICAgICAgICAgICkKICAgICAgICAgICAgICAgIC5hZGRUbyhtYXBfNGZkZDRkNDYwNDZiNGZiOTk2OWMxYjZhOTE0ODMwYWEpOwogICAgICAgICAgICAKICAgIAogICAgICAgICAgICB2YXIgcG9wdXBfMjk3ODE1NTNhZWE2NGMyZWI4Nzg1Y2Q3MTY3NzM4M2IgPSBMLnBvcHVwKHttYXhXaWR0aDogJzMwMCd9KTsKCiAgICAgICAgICAgIAogICAgICAgICAgICAgICAgdmFyIGh0bWxfYTQ0ZWMyZGQxODBlNDliMmIxZjc0OWI4OTU2Mjc1NGMgPSAkKCc8ZGl2IGlkPSJodG1sX2E0NGVjMmRkMTgwZTQ5YjJiMWY3NDliODk1NjI3NTRjIiBzdHlsZT0id2lkdGg6IDEwMC4wJTsgaGVpZ2h0OiAxMDAuMCU7Ij5TY2hpZXJlbiwgNzQyMSwgTHV4ZW1ib3VyZzwvZGl2PicpWzBdOwogICAgICAgICAgICAgICAgcG9wdXBfMjk3ODE1NTNhZWE2NGMyZWI4Nzg1Y2Q3MTY3NzM4M2Iuc2V0Q29udGVudChodG1sX2E0NGVjMmRkMTgwZTQ5YjJiMWY3NDliODk1NjI3NTRjKTsKICAgICAgICAgICAgCgogICAgICAgICAgICBtYXJrZXJfOThlOTUwMWEwN2Q4NDY3NmI4MTkxZmQ5ZWFjZTdkOWIuYmluZFBvcHVwKHBvcHVwXzI5NzgxNTUzYWVhNjRjMmViODc4NWNkNzE2NzczODNiKTsKCiAgICAgICAgICAgIAogICAgICAgIAogICAgCgogICAgICAgICAgICB2YXIgbWFya2VyXzljYzIwYjVhY2NjZDRhMTM4ZTgyNDM5MGI5ZGEzMWZhID0gTC5tYXJrZXIoCiAgICAgICAgICAgICAgICBbNDkuNjA0NzU4NSw2LjE0MjU4MDE0NjY2NjY2OV0sCiAgICAgICAgICAgICAgICB7CiAgICAgICAgICAgICAgICAgICAgaWNvbjogbmV3IEwuSWNvbi5EZWZhdWx0KCkKICAgICAgICAgICAgICAgICAgICB9CiAgICAgICAgICAgICAgICApCiAgICAgICAgICAgICAgICAuYWRkVG8obWFwXzRmZGQ0ZDQ2MDQ2YjRmYjk5NjljMWI2YTkxNDgzMGFhKTsKICAgICAgICAgICAgCiAgICAKICAgICAgICAgICAgdmFyIHBvcHVwXzAyZDZmMmFiNTQ3YjQ0NmE4ZTFkZTMyNjllMWMzY2U3ID0gTC5wb3B1cCh7bWF4V2lkdGg6ICczMDAnfSk7CgogICAgICAgICAgICAKICAgICAgICAgICAgICAgIHZhciBodG1sXzY4YjliMThkZjhlMTQ3MDY4YTY1ODQ5ZDQyYjAyOGNlID0gJCgnPGRpdiBpZD0iaHRtbF82OGI5YjE4ZGY4ZTE0NzA2OGE2NTg0OWQ0MmIwMjhjZSIgc3R5bGU9IndpZHRoOiAxMDAuMCU7IGhlaWdodDogMTAwLjAlOyI+UnVlIGQmIzM5O0l0emlnLCBMdXhlbWJvdXJnLCAxMTE4LCBMdXhlbWJvdXJnPC9kaXY+JylbMF07CiAgICAgICAgICAgICAgICBwb3B1cF8wMmQ2ZjJhYjU0N2I0NDZhOGUxZGUzMjY5ZTFjM2NlNy5zZXRDb250ZW50KGh0bWxfNjhiOWIxOGRmOGUxNDcwNjhhNjU4NDlkNDJiMDI4Y2UpOwogICAgICAgICAgICAKCiAgICAgICAgICAgIG1hcmtlcl85Y2MyMGI1YWNjY2Q0YTEzOGU4MjQzOTBiOWRhMzFmYS5iaW5kUG9wdXAocG9wdXBfMDJkNmYyYWI1NDdiNDQ2YThlMWRlMzI2OWUxYzNjZTcpOwoKICAgICAgICAgICAgCiAgICAgICAgCiAgICAKCiAgICAgICAgICAgIHZhciBtYXJrZXJfOTYxOWVjOTJmMzE3NDBlY2E1MTMyMWE1NWVhMjMxZmMgPSBMLm1hcmtlcigKICAgICAgICAgICAgICAgIFs0OC4zNzc3MTUyLDQuMjU3NjYxN10sCiAgICAgICAgICAgICAgICB7CiAgICAgICAgICAgICAgICAgICAgaWNvbjogbmV3IEwuSWNvbi5EZWZhdWx0KCkKICAgICAgICAgICAgICAgICAgICB9CiAgICAgICAgICAgICAgICApCiAgICAgICAgICAgICAgICAuYWRkVG8obWFwXzRmZGQ0ZDQ2MDQ2YjRmYjk5NjljMWI2YTkxNDgzMGFhKTsKICAgICAgICAgICAgCiAgICAKICAgICAgICAgICAgdmFyIHBvcHVwXzExNWRlZDIyM2Q1NzQ4Mzg4ZWZhMmYyZTc2YTY0ZjEwID0gTC5wb3B1cCh7bWF4V2lkdGg6ICczMDAnfSk7CgogICAgICAgICAgICAKICAgICAgICAgICAgICAgIHZhciBodG1sX2EzODM1ZGUxOWJiZDQ4NjlhNWJjNzJiZTk4YzlkZWY3ID0gJCgnPGRpdiBpZD0iaHRtbF9hMzgzNWRlMTliYmQ0ODY5YTViYzcyYmU5OGM5ZGVmNyIgc3R5bGU9IndpZHRoOiAxMDAuMCU7IGhlaWdodDogMTAwLjAlOyI+UnVlIGRlIGwmIzM5O8OJZ2xpc2UsIEJvdXktTHV4ZW1ib3VyZywgKEdyYW5kIEVzdCksIDEwMjIwLCBGcmFuY2U8L2Rpdj4nKVswXTsKICAgICAgICAgICAgICAgIHBvcHVwXzExNWRlZDIyM2Q1NzQ4Mzg4ZWZhMmYyZTc2YTY0ZjEwLnNldENvbnRlbnQoaHRtbF9hMzgzNWRlMTliYmQ0ODY5YTViYzcyYmU5OGM5ZGVmNyk7CiAgICAgICAgICAgIAoKICAgICAgICAgICAgbWFya2VyXzk2MTllYzkyZjMxNzQwZWNhNTEzMjFhNTVlYTIzMWZjLmJpbmRQb3B1cChwb3B1cF8xMTVkZWQyMjNkNTc0ODM4OGVmYTJmMmU3NmE2NGYxMCk7CgogICAgICAgICAgICAKICAgICAgICAKICAgIAoKICAgICAgICAgICAgdmFyIG1hcmtlcl9mNTU5MDFjMGNiOGY0MGRmYjIzNTBmNjM3YTA5OGMwMyA9IEwubWFya2VyKAogICAgICAgICAgICAgICAgWzQ5LjYxMTI3NjgsNi4xMjk3OTldLAogICAgICAgICAgICAgICAgewogICAgICAgICAgICAgICAgICAgIGljb246IG5ldyBMLkljb24uRGVmYXVsdCgpCiAgICAgICAgICAgICAgICAgICAgfQogICAgICAgICAgICAgICAgKQogICAgICAgICAgICAgICAgLmFkZFRvKG1hcF80ZmRkNGQ0NjA0NmI0ZmI5OTY5YzFiNmE5MTQ4MzBhYSk7CiAgICAgICAgICAgIAogICAgCiAgICAgICAgICAgIHZhciBwb3B1cF9kNzMyMmExYWZiMjk0YjA3YWVlMGYyNjM0ODg0NDc2YiA9IEwucG9wdXAoe21heFdpZHRoOiAnMzAwJ30pOwoKICAgICAgICAgICAgCiAgICAgICAgICAgICAgICB2YXIgaHRtbF9kNzQ4MTE2YzViMDA0Y2Q5ODYyNGM5M2E1YThhNTllOSA9ICQoJzxkaXYgaWQ9Imh0bWxfZDc0ODExNmM1YjAwNGNkOTg2MjRjOTNhNWE4YTU5ZTkiIHN0eWxlPSJ3aWR0aDogMTAwLjAlOyBoZWlnaHQ6IDEwMC4wJTsiPkx1eGVtYm91cmcsIDI1MjUsIEx1eGVtYm91cmc8L2Rpdj4nKVswXTsKICAgICAgICAgICAgICAgIHBvcHVwX2Q3MzIyYTFhZmIyOTRiMDdhZWUwZjI2MzQ4ODQ0NzZiLnNldENvbnRlbnQoaHRtbF9kNzQ4MTE2YzViMDA0Y2Q5ODYyNGM5M2E1YThhNTllOSk7CiAgICAgICAgICAgIAoKICAgICAgICAgICAgbWFya2VyX2Y1NTkwMWMwY2I4ZjQwZGZiMjM1MGY2MzdhMDk4YzAzLmJpbmRQb3B1cChwb3B1cF9kNzMyMmExYWZiMjk0YjA3YWVlMGYyNjM0ODg0NDc2Yik7CgogICAgICAgICAgICAKICAgICAgICAKPC9zY3JpcHQ+\" style=\"position:absolute;width:100%;height:100%;left:0;top:0;border:none !important;\" allowfullscreen webkitallowfullscreen mozallowfullscreen></iframe></div></div>"
      ],
      "text/plain": [
       "<folium.folium.Map at 0x11b1b1668>"
      ]
     },
     "execution_count": 11,
     "metadata": {},
     "output_type": "execute_result"
    }
   ],
   "source": [
    "try:\n",
    "    import folium\n",
    "except:\n",
    "    map_display = '!ups... nothing to display - folium not available!'\n",
    "    # pass\n",
    "else:\n",
    "    tiles, attr = serv.url_tile('bmarble')\n",
    "    map_display = folium.Map(location=coord, \n",
    "                   tiles=tiles, attr=attr, \n",
    "                   zoom_start=6)\n",
    "    [folium.Marker(coords[i], popup=folium.Popup('%s' % names[i], parse_html=True)).add_to(map_display) for i in range(len(names))]\n",
    "map_display"
   ]
  },
  {
   "cell_type": "markdown",
   "metadata": {},
   "source": [
    "Now you can zoom in/out on the map, check the location designatd by the marker....\n",
    "\n",
    "We can further use the *GISCO* service to retrieve the *geometry* associated to the location, using the `GISCOService.place2geom` method for that purpose:"
   ]
  },
  {
   "cell_type": "code",
   "execution_count": 12,
   "metadata": {},
   "outputs": [
    {
     "data": {
      "text/plain": [
       "[{'geometry': {'coordinates': [6.1296751, 49.8158683], 'type': 'Point'},\n",
       "  'properties': {'country': 'Luxembourg',\n",
       "   'extent': [5.7357006, 50.1827724, 6.5312481, 49.4478539],\n",
       "   'name': 'Luxembourg',\n",
       "   'osm_id': 2171347,\n",
       "   'osm_key': 'place',\n",
       "   'osm_type': 'R',\n",
       "   'osm_value': 'country'},\n",
       "  'type': 'Feature'},\n",
       " {'geometry': {'coordinates': [5.439918625407589, 49.963667], 'type': 'Point'},\n",
       "  'properties': {'country': 'Belgium',\n",
       "   'extent': [4.9684415, 50.430377, 6.0344254, 49.4969821],\n",
       "   'name': 'Luxembourg',\n",
       "   'osm_id': 1412581,\n",
       "   'osm_key': 'boundary',\n",
       "   'osm_type': 'R',\n",
       "   'osm_value': 'administrative',\n",
       "   'state': 'Wallonia'},\n",
       "  'type': 'Feature'},\n",
       " {'geometry': {'coordinates': [6.142580146666669, 49.6047585],\n",
       "   'type': 'Point'},\n",
       "  'properties': {'country': 'Luxembourg',\n",
       "   'extent': [5.998434, 49.692307, 6.3096867, 49.516975],\n",
       "   'name': 'Canton Luxembourg',\n",
       "   'osm_id': 407824,\n",
       "   'osm_key': 'place',\n",
       "   'osm_type': 'R',\n",
       "   'osm_value': 'county'},\n",
       "  'type': 'Feature'},\n",
       " {'geometry': {'coordinates': [4.2576617, 48.3777152], 'type': 'Point'},\n",
       "  'properties': {'country': 'France',\n",
       "   'extent': [4.209766, 48.3980548, 4.276576, 48.35692],\n",
       "   'name': 'Bouy-Luxembourg',\n",
       "   'osm_id': 2996989,\n",
       "   'osm_key': 'place',\n",
       "   'osm_type': 'R',\n",
       "   'osm_value': 'village',\n",
       "   'postcode': '10220',\n",
       "   'state': 'Grand Est'},\n",
       "  'type': 'Feature'},\n",
       " {'geometry': {'coordinates': [6.129799, 49.6112768], 'type': 'Point'},\n",
       "  'properties': {'country': 'Luxembourg',\n",
       "   'extent': [6.06917, 49.65487, 6.2036457, 49.560986],\n",
       "   'name': 'Luxembourg',\n",
       "   'osm_id': 407489,\n",
       "   'osm_key': 'place',\n",
       "   'osm_type': 'R',\n",
       "   'osm_value': 'city'},\n",
       "  'type': 'Feature'},\n",
       " {'geometry': {'coordinates': [6.1342493, 49.5999681], 'type': 'Point'},\n",
       "  'properties': {'city': 'Luxembourg',\n",
       "   'country': 'Luxembourg',\n",
       "   'housenumber': '13',\n",
       "   'name': 'Luxembourg Central Station',\n",
       "   'osm_id': 3964570119,\n",
       "   'osm_key': 'railway',\n",
       "   'osm_type': 'N',\n",
       "   'osm_value': 'station',\n",
       "   'postcode': '1118',\n",
       "   'street': 'Parvis de la Gare'},\n",
       "  'type': 'Feature'},\n",
       " {'geometry': {'coordinates': [6.209392715990956, 49.62637155],\n",
       "   'type': 'Point'},\n",
       "  'properties': {'city': 'Sandweiler',\n",
       "   'country': 'Luxembourg',\n",
       "   'extent': [6.1810013, 49.6386542, 6.2418142, 49.6141208],\n",
       "   'name': 'Luxembourg Airport',\n",
       "   'osm_id': 389958279,\n",
       "   'osm_key': 'aeroway',\n",
       "   'osm_type': 'W',\n",
       "   'osm_value': 'aerodrome',\n",
       "   'postcode': '2632',\n",
       "   'street': 'Périmètre'},\n",
       "  'type': 'Feature'},\n",
       " {'geometry': {'coordinates': [6.2166985870777385, 49.634411150000005],\n",
       "   'type': 'Point'},\n",
       "  'properties': {'city': 'Niederanven',\n",
       "   'country': 'Luxembourg',\n",
       "   'extent': [6.2154528, 49.6351458, 6.2178197, 49.6336171],\n",
       "   'name': 'Luxembourg Airport',\n",
       "   'osm_id': 87845533,\n",
       "   'osm_key': 'aeroway',\n",
       "   'osm_type': 'W',\n",
       "   'osm_value': 'terminal',\n",
       "   'postcode': '2016',\n",
       "   'street': 'Route de Trèves'},\n",
       "  'type': 'Feature'},\n",
       " {'geometry': {'coordinates': [6.106976945353978, 49.6021683],\n",
       "   'type': 'Point'},\n",
       "  'properties': {'city': 'Luxembourg',\n",
       "   'country': 'Luxembourg',\n",
       "   'extent': [6.1061359, 49.6028234, 6.1077042, 49.6015296],\n",
       "   'housenumber': '33',\n",
       "   'name': 'Conservatoire de Luxembourg',\n",
       "   'osm_id': 37826860,\n",
       "   'osm_key': 'building',\n",
       "   'osm_type': 'W',\n",
       "   'osm_value': 'yes',\n",
       "   'postcode': '2134',\n",
       "   'street': 'Rue Charles Martel'},\n",
       "  'type': 'Feature'},\n",
       " {'geometry': {'coordinates': [2.3368362795441913, 48.848558100000005],\n",
       "   'type': 'Point'},\n",
       "  'properties': {'city': 'Paris',\n",
       "   'country': 'France',\n",
       "   'extent': [2.3363295, 48.8492399, 2.3379549, 48.8478664],\n",
       "   'name': 'Palais du Luxembourg',\n",
       "   'osm_id': 975955,\n",
       "   'osm_key': 'historic',\n",
       "   'osm_type': 'R',\n",
       "   'osm_value': 'castle',\n",
       "   'postcode': '75006',\n",
       "   'state': 'Ile-de-France',\n",
       "   'street': 'Cour de Jonction'},\n",
       "  'type': 'Feature'},\n",
       " {'geometry': {'coordinates': [2.3368362795441913, 48.848558100000005],\n",
       "   'type': 'Point'},\n",
       "  'properties': {'city': 'Paris',\n",
       "   'country': 'France',\n",
       "   'extent': [2.3363295, 48.8492399, 2.3379549, 48.8478664],\n",
       "   'name': 'Palais du Luxembourg',\n",
       "   'osm_id': 975955,\n",
       "   'osm_key': 'amenity',\n",
       "   'osm_type': 'R',\n",
       "   'osm_value': 'public_building',\n",
       "   'postcode': '75006',\n",
       "   'state': 'Ile-de-France',\n",
       "   'street': 'Cour de Jonction'},\n",
       "  'type': 'Feature'},\n",
       " {'geometry': {'coordinates': [2.3364130302022517, 48.846722850000006],\n",
       "   'type': 'Point'},\n",
       "  'properties': {'city': 'Paris',\n",
       "   'country': 'France',\n",
       "   'extent': [2.3324598, 48.8490677, 2.34027, 48.8443604],\n",
       "   'name': 'Jardin du Luxembourg',\n",
       "   'osm_id': 128206209,\n",
       "   'osm_key': 'leisure',\n",
       "   'osm_type': 'W',\n",
       "   'osm_value': 'park',\n",
       "   'postcode': '75006',\n",
       "   'state': 'Ile-de-France'},\n",
       "  'type': 'Feature'},\n",
       " {'geometry': {'coordinates': [2.3364130302022517, 48.846722850000006],\n",
       "   'type': 'Point'},\n",
       "  'properties': {'city': 'Paris',\n",
       "   'country': 'France',\n",
       "   'extent': [2.3324598, 48.8490677, 2.34027, 48.8443604],\n",
       "   'name': 'Jardin du Luxembourg',\n",
       "   'osm_id': 128206209,\n",
       "   'osm_key': 'tourism',\n",
       "   'osm_type': 'W',\n",
       "   'osm_value': 'attraction',\n",
       "   'postcode': '75006',\n",
       "   'state': 'Ile-de-France',\n",
       "   'street': 'Cour de Jonction'},\n",
       "  'type': 'Feature'},\n",
       " {'geometry': {'coordinates': [2.3402917, 48.8463852], 'type': 'Point'},\n",
       "  'properties': {'city': 'Paris',\n",
       "   'country': 'France',\n",
       "   'name': 'Luxembourg',\n",
       "   'osm_id': 327432589,\n",
       "   'osm_key': 'railway',\n",
       "   'osm_type': 'N',\n",
       "   'osm_value': 'station',\n",
       "   'postcode': '75006',\n",
       "   'state': 'Ile-de-France',\n",
       "   'street': 'Boulevard Saint-Michel'},\n",
       "  'type': 'Feature'},\n",
       " {'geometry': {'coordinates': [6.1858803660816735, 49.6116947],\n",
       "   'type': 'Point'},\n",
       "  'properties': {'city': 'Luxembourg',\n",
       "   'country': 'Luxembourg',\n",
       "   'extent': [6.182987, 49.6129326, 6.1885075, 49.6105058],\n",
       "   'name': 'Luxembourg American Cemetery and Memorial',\n",
       "   'osm_id': 9387630,\n",
       "   'osm_key': 'landuse',\n",
       "   'osm_type': 'W',\n",
       "   'osm_value': 'cemetery',\n",
       "   'postcode': '1718'},\n",
       "  'type': 'Feature'}]"
      ]
     },
     "execution_count": 12,
     "metadata": {},
     "output_type": "execute_result"
    }
   ],
   "source": [
    "serv.place2geom(whereamI)"
   ]
  },
  {
   "cell_type": "markdown",
   "metadata": {},
   "source": [
    "or we are lazy:"
   ]
  },
  {
   "cell_type": "code",
   "execution_count": 13,
   "metadata": {},
   "outputs": [
    {
     "data": {
      "text/plain": [
       "{'geometry': {'coordinates': [6.1296751, 49.8158683], 'type': 'Point'},\n",
       " 'properties': {'country': 'Luxembourg',\n",
       "  'extent': [5.7357006, 50.1827724, 6.5312481, 49.4478539],\n",
       "  'name': 'Luxembourg',\n",
       "  'osm_id': 2171347,\n",
       "  'osm_key': 'place',\n",
       "  'osm_type': 'R',\n",
       "  'osm_value': 'country'},\n",
       " 'type': 'Feature'}"
      ]
     },
     "execution_count": 13,
     "metadata": {},
     "output_type": "execute_result"
    }
   ],
   "source": [
    "area = serv.place2geom(whereamI, unique=True)\n",
    "area"
   ]
  },
  {
   "cell_type": "markdown",
   "metadata": {},
   "source": [
    "We are more interested in retrieving/identifying the NUTS value, say at level 2, associated to the geolocation. We can use the method `findnuts` for that purpose:"
   ]
  },
  {
   "cell_type": "code",
   "execution_count": 14,
   "metadata": {},
   "outputs": [
    {
     "data": {
      "text/plain": [
       "{'attributes': {'CNTR_CODE': 'LU',\n",
       "  'LEVL_CODE': '2',\n",
       "  'NAME_LATN': 'Luxembourg',\n",
       "  'NUTS_ID': 'LU00',\n",
       "  'NUTS_NAME': 'Luxembourg',\n",
       "  'OBJECTID': '333',\n",
       "  'SHRT_ENGL': 'Luxembourg'},\n",
       " 'displayFieldName': 'NUTS_ID',\n",
       " 'layerId': 2,\n",
       " 'layerName': 'NUTS_2013',\n",
       " 'value': 'LU00'}"
      ]
     },
     "execution_count": 14,
     "metadata": {},
     "output_type": "execute_result"
    }
   ],
   "source": [
    "serv.place2nuts(whereamI, level=2)"
   ]
  },
  {
   "cell_type": "markdown",
   "metadata": {},
   "source": [
    "or if we are actually interested in retrieving all the NUTS levels (from 0 to 3):"
   ]
  },
  {
   "cell_type": "code",
   "execution_count": 15,
   "metadata": {},
   "outputs": [
    {
     "data": {
      "text/plain": [
       "[{'attributes': {'CNTR_CODE': 'LU',\n",
       "   'LEVL_CODE': '0',\n",
       "   'NAME_LATN': 'LUXEMBOURG',\n",
       "   'NUTS_ID': 'LU',\n",
       "   'NUTS_NAME': 'LUXEMBOURG',\n",
       "   'OBJECTID': '20',\n",
       "   'SHRT_ENGL': 'Luxembourg'},\n",
       "  'displayFieldName': 'NUTS_ID',\n",
       "  'layerId': 2,\n",
       "  'layerName': 'NUTS_2013',\n",
       "  'value': 'LU'},\n",
       " {'attributes': {'CNTR_CODE': 'LU',\n",
       "   'LEVL_CODE': '1',\n",
       "   'NAME_LATN': 'LUXEMBOURG',\n",
       "   'NUTS_ID': 'LU0',\n",
       "   'NUTS_NAME': 'LUXEMBOURG',\n",
       "   'OBJECTID': '97',\n",
       "   'SHRT_ENGL': 'Luxembourg'},\n",
       "  'displayFieldName': 'NUTS_ID',\n",
       "  'layerId': 2,\n",
       "  'layerName': 'NUTS_2013',\n",
       "  'value': 'LU0'},\n",
       " {'attributes': {'CNTR_CODE': 'LU',\n",
       "   'LEVL_CODE': '2',\n",
       "   'NAME_LATN': 'Luxembourg',\n",
       "   'NUTS_ID': 'LU00',\n",
       "   'NUTS_NAME': 'Luxembourg',\n",
       "   'OBJECTID': '333',\n",
       "   'SHRT_ENGL': 'Luxembourg'},\n",
       "  'displayFieldName': 'NUTS_ID',\n",
       "  'layerId': 2,\n",
       "  'layerName': 'NUTS_2013',\n",
       "  'value': 'LU00'},\n",
       " {'attributes': {'CNTR_CODE': 'LU',\n",
       "   'LEVL_CODE': '3',\n",
       "   'NAME_LATN': 'Luxembourg',\n",
       "   'NUTS_ID': 'LU000',\n",
       "   'NUTS_NAME': 'Luxembourg',\n",
       "   'OBJECTID': '1067',\n",
       "   'SHRT_ENGL': 'Luxembourg'},\n",
       "  'displayFieldName': 'NUTS_ID',\n",
       "  'layerId': 2,\n",
       "  'layerName': 'NUTS_2013',\n",
       "  'value': 'LU000'}]"
      ]
     },
     "execution_count": 15,
     "metadata": {},
     "output_type": "execute_result"
    }
   ],
   "source": [
    "serv.place2nuts(whereamI)"
   ]
  },
  {
   "cell_type": "markdown",
   "metadata": {},
   "source": [
    "Similarly, we could have run the service on the already computed geographical coordinates:"
   ]
  },
  {
   "cell_type": "code",
   "execution_count": 16,
   "metadata": {},
   "outputs": [
    {
     "data": {
      "text/plain": [
       "{'attributes': {'CNTR_CODE': 'LU',\n",
       "  'LEVL_CODE': '2',\n",
       "  'NAME_LATN': 'Luxembourg',\n",
       "  'NUTS_ID': 'LU00',\n",
       "  'NUTS_NAME': 'Luxembourg',\n",
       "  'OBJECTID': '333',\n",
       "  'SHRT_ENGL': 'Luxembourg'},\n",
       " 'displayFieldName': 'NUTS_ID',\n",
       " 'layerId': 2,\n",
       " 'layerName': 'NUTS_2013',\n",
       " 'value': 'LU00'}"
      ]
     },
     "execution_count": 16,
     "metadata": {},
     "output_type": "execute_result"
    }
   ],
   "source": [
    "serv.coord2nuts(coord, level=2)"
   ]
  },
  {
   "cell_type": "markdown",
   "metadata": {},
   "source": [
    "That's is folks!"
   ]
  }
 ],
 "metadata": {
  "kernelspec": {
   "display_name": "Python 3",
   "language": "python",
   "name": "python3"
  },
  "language_info": {
   "codemirror_mode": {
    "name": "ipython",
    "version": 3
   },
   "file_extension": ".py",
   "mimetype": "text/x-python",
   "name": "python",
   "nbconvert_exporter": "python",
   "pygments_lexer": "ipython3",
   "version": "3.6.3"
  }
 },
 "nbformat": 4,
 "nbformat_minor": 2
}
