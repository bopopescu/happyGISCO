{
 "cells": [
  {
   "cell_type": "markdown",
   "metadata": {},
   "source": [
    "## A basic example of use of *GISCO* vector features..."
   ]
  },
  {
   "cell_type": "code",
   "execution_count": null,
   "metadata": {
    "collapsed": true
   },
   "outputs": [],
   "source": [
    "#!jupyter nbextension enable --py widgetsnbextension --sys-prefix\n",
    "#!jupyter nbextension enable --py --sys-prefix ipyleaflet"
   ]
  },
  {
   "cell_type": "code",
   "execution_count": 1,
   "metadata": {},
   "outputs": [
    {
     "name": "stdout",
     "output_type": "stream",
     "text": [
      "! missing FASTENERS package (https://pypi.org/project/fasteners/) <class 'ImportWarning'> !\n",
      "! missing SIMPLEJSON package (https://pypi.python.org/pypi/simplejson/) <class 'ImportWarning'> !\n",
      "! missing GOOGLEPLACES package (https://github.com/slimkrazy/python-google-places) !\n"
     ]
    }
   ],
   "source": [
    "import happygisco\n",
    "from happygisco import settings, base, tools, services, features"
   ]
  },
  {
   "cell_type": "markdown",
   "metadata": {},
   "source": [
    "Note the following error parsed _'!!! HTTPError: wrong request - 404 status (\"Not Found\") returned !!!'_"
   ]
  },
  {
   "cell_type": "code",
   "execution_count": 2,
   "metadata": {},
   "outputs": [
    {
     "name": "stdout",
     "output_type": "stream",
     "text": [
      "===== requesting NUTS data for area AT01 ===============\n",
      "* requested url is: https://ec.europa.eu/eurostat/cache/GISCO/distribution/v2/nuts/distribution/AT01-region-60m-4326-2013.geojson\n",
      "!!! HTTPError: wrong request - 404 status (\"Not Found\") returned !!!\n",
      "===== requesting NUTS data for area AT1 ===============\n",
      "* requested url is: https://ec.europa.eu/eurostat/cache/GISCO/distribution/v2/nuts/distribution/AT1-region-60m-4326-2013.geojson\n",
      "* fetched geometry is: {'crs': {'type': 'name', 'properties': {'name': 'urn:ogc:def:crs:EPSG::4326'}}, 'type': 'FeatureCollection', 'features': [{'geometry': {'type': 'Polygon', 'coordinates': [[[16.94, 48.617], [16.95, 48.536], [16.851, 48.439], [16.976, 48.172], [17.067, 48.119], [17.161, 48.007], [17.093, 47.708], [16.422, 47.665], [16.652, 47.623], [16.646, 47.447], [16.434, 47.353], [16.508, 47.001], [16.114, 46.869], [15.996, 46.835], [16.122, 46.991], [16.015, 47.367], [16.172, 47.422], [15.847, 47.568], [15.217, 47.796], [15.089, 47.741], [14.738, 47.749], [14.479, 48.104], [14.521, 48.238], [14.829, 48.189], [14.964, 48.379], [14.691, 48.584], [14.99, 49.01], [15.542, 48.908], [15.754, 48.852], [16.94, 48.617]]]}, 'type': 'Feature', 'properties': {'CNTR_CODE': 'AT', 'NUTS_NAME': 'OSTÖSTERREICH', 'LEVL_CODE': 1, 'FID': 'AT1', 'NUTS_ID': 'AT1'}, 'id': 'AT1'}]}\n",
      "* name of area is: OSTÖSTERREICH\n",
      "* level of area is: 1\n"
     ]
    }
   ],
   "source": [
    "for unit in (\"AT01\",\"AT1\"):\n",
    "    print(\"===== requesting NUTS data for area %s ===============\" % unit)\n",
    "    nuts = features.NUTS(unit=unit)\n",
    "    try:\n",
    "        url = nuts.url\n",
    "    except happygisco.happyError as e:\n",
    "        print(e)\n",
    "    else:\n",
    "        print('* requested url is: %s' % url)\n",
    "    try:\n",
    "        geom = nuts.geometry\n",
    "    except happygisco.happyError as e:\n",
    "        print(e)\n",
    "    else:\n",
    "        print('* fetched geometry is: %s' % geom)\n",
    "        print('* name of area is: %s' % nuts.name)\n",
    "        print('* level of area is: %s' % nuts.level)        "
   ]
  },
  {
   "cell_type": "code",
   "execution_count": 3,
   "metadata": {},
   "outputs": [
    {
     "name": "stdout",
     "output_type": "stream",
     "text": [
      "2013\n"
     ]
    }
   ],
   "source": [
    "print(nuts.year)"
   ]
  },
  {
   "cell_type": "code",
   "execution_count": 4,
   "metadata": {},
   "outputs": [
    {
     "data": {
      "text/plain": [
       "OrderedDict([('source', 'AT1'),\n",
       "             ('proj', '4326'),\n",
       "             ('vector', 'RG'),\n",
       "             ('level', 1)])"
      ]
     },
     "execution_count": 4,
     "metadata": {},
     "output_type": "execute_result"
    }
   ],
   "source": [
    "nuts.service.geom2dimension(nuts.geometry)"
   ]
  },
  {
   "cell_type": "code",
   "execution_count": 5,
   "metadata": {},
   "outputs": [
    {
     "data": {
      "text/plain": [
       "OrderedDict([('source', 'AT1'),\n",
       "             ('year', 2013),\n",
       "             ('proj', 4326),\n",
       "             ('scale', '60m'),\n",
       "             ('vector', 'RG'),\n",
       "             ('level', 1),\n",
       "             ('ifmt', 'geojson')])"
      ]
     },
     "execution_count": 5,
     "metadata": {},
     "output_type": "execute_result"
    }
   ],
   "source": [
    "nuts.service.url2dimension(nuts.url)"
   ]
  },
  {
   "cell_type": "code",
   "execution_count": 6,
   "metadata": {},
   "outputs": [
    {
     "data": {
      "text/plain": [
       "('AT1',\n",
       " {'ifmt': 'geojson',\n",
       "  'level': 1,\n",
       "  'proj': 4326,\n",
       "  'scale': '60m',\n",
       "  'vector': 'RG',\n",
       "  'year': 2013})"
      ]
     },
     "execution_count": 6,
     "metadata": {},
     "output_type": "execute_result"
    }
   ],
   "source": [
    "nuts.unit, nuts._dimensions"
   ]
  },
  {
   "cell_type": "code",
   "execution_count": 2,
   "metadata": {},
   "outputs": [
    {
     "data": {
      "application/vnd.jupyter.widget-view+json": {
       "model_id": "eb706a119282446b8acbd1e12eb7099e",
       "version_major": 2,
       "version_minor": 0
      },
      "text/plain": [
       "Map(basemap={'url': 'https://{s}.tile.openstreetmap.org/{z}/{x}/{y}.png', 'max_zoom': 19, 'attribution': 'Map …"
      ]
     },
     "metadata": {},
     "output_type": "display_data"
    }
   ],
   "source": [
    "nuts = features.NUTS(unit=['AT11', 'AT12', 'AT13', 'AT21'],tile='osmec')\n",
    "nuts.carto(_no_widget_=True)"
   ]
  },
  {
   "cell_type": "code",
   "execution_count": 3,
   "metadata": {},
   "outputs": [
    {
     "data": {
      "application/vnd.jupyter.widget-view+json": {
       "model_id": "622823c28aa646648979a283f0835365",
       "version_major": 2,
       "version_minor": 0
      },
      "text/plain": [
       "VBox(children=(Map(basemap={'url': 'https://{s}.tile.openstreetmap.org/{z}/{x}/{y}.png', 'max_zoom': 19, 'attr…"
      ]
     },
     "metadata": {},
     "output_type": "display_data"
    }
   ],
   "source": [
    "nuts.unit = nuts.unit + ['AT22', 'AT31', 'AT32', 'AT33', 'AT34']\n",
    "nuts.carto()"
   ]
  },
  {
   "cell_type": "code",
   "execution_count": 2,
   "metadata": {},
   "outputs": [],
   "source": [
    "nuts = features.NUTS(unit=['AT11', 'AT12', 'AT13', 'AT21', 'AT22', 'AT31', 'AT32', 'AT33', 'AT34'],tile='bmarble')\n",
    "# nuts.load(unit='FR')"
   ]
  },
  {
   "cell_type": "code",
   "execution_count": 3,
   "metadata": {},
   "outputs": [
    {
     "data": {
      "application/vnd.jupyter.widget-view+json": {
       "model_id": "f723ecc733a349a9b2d491465d5d6fd8",
       "version_major": 2,
       "version_minor": 0
      },
      "text/plain": [
       "Map(basemap={'url': 'https://{s}.tile.openstreetmap.org/{z}/{x}/{y}.png', 'max_zoom': 19, 'attribution': 'Map …"
      ]
     },
     "metadata": {},
     "output_type": "display_data"
    }
   ],
   "source": [
    "# import ipywidgets as ipyw\n",
    "# nuts.mapping.Map\n",
    "nuts.carto(_no_widget_=True)\n",
    "# ipyw.VBox(nuts.carto())"
   ]
  },
  {
   "cell_type": "code",
   "execution_count": 8,
   "metadata": {},
   "outputs": [
    {
     "name": "stdout",
     "output_type": "stream",
     "text": [
      "['AT11', 'AT12', 'AT13', 'AT21', 'AT22', 'AT31', 'AT32', 'AT33', 'AT34']\n"
     ]
    }
   ],
   "source": [
    "units = nuts.service.nuts_info(info='UNITS', unit='AT', level=2)\n",
    "print(units)"
   ]
  },
  {
   "cell_type": "code",
   "execution_count": 9,
   "metadata": {
    "collapsed": true
   },
   "outputs": [],
   "source": [
    "nuts.unit = units"
   ]
  },
  {
   "cell_type": "code",
   "execution_count": 10,
   "metadata": {},
   "outputs": [
    {
     "data": {
      "text/plain": [
       "[{'crs': {'properties': {'name': 'urn:ogc:def:crs:EPSG::4326'},\n",
       "   'type': 'name'},\n",
       "  'features': [{'geometry': {'coordinates': [[[17.161, 48.007],\n",
       "       [17.093, 47.708],\n",
       "       [16.422, 47.665],\n",
       "       [16.652, 47.623],\n",
       "       [16.646, 47.447],\n",
       "       [16.434, 47.353],\n",
       "       [16.508, 47.001],\n",
       "       [16.114, 46.869],\n",
       "       [15.996, 46.835],\n",
       "       [16.122, 46.991],\n",
       "       [16.015, 47.367],\n",
       "       [16.172, 47.422],\n",
       "       [16.281, 47.455],\n",
       "       [16.373, 47.642],\n",
       "       [16.269, 47.796],\n",
       "       [16.389, 47.882],\n",
       "       [17.067, 48.119],\n",
       "       [17.161, 48.007]]],\n",
       "     'type': 'Polygon'},\n",
       "    'id': 'AT11',\n",
       "    'properties': {'CNTR_CODE': 'AT',\n",
       "     'FID': 'AT11',\n",
       "     'LEVL_CODE': 2,\n",
       "     'NUTS_ID': 'AT11',\n",
       "     'NUTS_NAME': 'Burgenland (AT)'},\n",
       "    'type': 'Feature'}],\n",
       "  'type': 'FeatureCollection'},\n",
       " {'crs': {'properties': {'name': 'urn:ogc:def:crs:EPSG::4326'},\n",
       "   'type': 'name'},\n",
       "  'features': [{'geometry': {'coordinates': [[[15.542, 48.908],\n",
       "       [15.754, 48.852],\n",
       "       [16.94, 48.617],\n",
       "       [16.95, 48.536],\n",
       "       [16.851, 48.439],\n",
       "       [16.976, 48.172],\n",
       "       [17.067, 48.119],\n",
       "       [16.389, 47.882],\n",
       "       [16.269, 47.796],\n",
       "       [16.373, 47.642],\n",
       "       [16.281, 47.455],\n",
       "       [16.172, 47.422],\n",
       "       [15.847, 47.568],\n",
       "       [15.217, 47.796],\n",
       "       [15.089, 47.741],\n",
       "       [14.738, 47.749],\n",
       "       [14.479, 48.104],\n",
       "       [14.521, 48.238],\n",
       "       [14.829, 48.189],\n",
       "       [14.964, 48.379],\n",
       "       [14.691, 48.584],\n",
       "       [14.99, 49.01],\n",
       "       [15.542, 48.908]],\n",
       "      [[16.182, 48.171],\n",
       "       [16.577, 48.144],\n",
       "       [16.438, 48.316],\n",
       "       [16.182, 48.171]]],\n",
       "     'type': 'Polygon'},\n",
       "    'id': 'AT12',\n",
       "    'properties': {'CNTR_CODE': 'AT',\n",
       "     'FID': 'AT12',\n",
       "     'LEVL_CODE': 2,\n",
       "     'NUTS_ID': 'AT12',\n",
       "     'NUTS_NAME': 'Niederösterreich'},\n",
       "    'type': 'Feature'}],\n",
       "  'type': 'FeatureCollection'},\n",
       " {'crs': {'properties': {'name': 'urn:ogc:def:crs:EPSG::4326'},\n",
       "   'type': 'name'},\n",
       "  'features': [{'geometry': {'coordinates': [[[16.577, 48.144],\n",
       "       [16.182, 48.171],\n",
       "       [16.438, 48.316],\n",
       "       [16.577, 48.144]]],\n",
       "     'type': 'Polygon'},\n",
       "    'id': 'AT13',\n",
       "    'properties': {'CNTR_CODE': 'AT',\n",
       "     'FID': 'AT13',\n",
       "     'LEVL_CODE': 2,\n",
       "     'NUTS_ID': 'AT13',\n",
       "     'NUTS_NAME': 'Wien'},\n",
       "    'type': 'Feature'}],\n",
       "  'type': 'FeatureCollection'},\n",
       " {'crs': {'properties': {'name': 'urn:ogc:def:crs:EPSG::4326'},\n",
       "   'type': 'name'},\n",
       "  'features': [{'geometry': {'coordinates': [[[13.785, 46.944],\n",
       "       [13.947, 46.941],\n",
       "       [14.844, 47.048],\n",
       "       [15.065, 46.652],\n",
       "       [14.675, 46.451],\n",
       "       [14.565, 46.372],\n",
       "       [14.435, 46.443],\n",
       "       [13.714, 46.523],\n",
       "       [13.504, 46.566],\n",
       "       [12.731, 46.634],\n",
       "       [12.691, 46.657],\n",
       "       [12.841, 46.861],\n",
       "       [12.657, 47.1],\n",
       "       [13.355, 47.097],\n",
       "       [13.785, 46.944]]],\n",
       "     'type': 'Polygon'},\n",
       "    'id': 'AT21',\n",
       "    'properties': {'CNTR_CODE': 'AT',\n",
       "     'FID': 'AT21',\n",
       "     'LEVL_CODE': 2,\n",
       "     'NUTS_ID': 'AT21',\n",
       "     'NUTS_NAME': 'Kärnten'},\n",
       "    'type': 'Feature'}],\n",
       "  'type': 'FeatureCollection'},\n",
       " {'crs': {'properties': {'name': 'urn:ogc:def:crs:EPSG::4326'},\n",
       "   'type': 'name'},\n",
       "  'features': [{'geometry': {'coordinates': [[[16.172, 47.422],\n",
       "       [16.015, 47.367],\n",
       "       [16.122, 46.991],\n",
       "       [15.996, 46.835],\n",
       "       [16.038, 46.656],\n",
       "       [15.786, 46.707],\n",
       "       [15.65, 46.706],\n",
       "       [15.402, 46.654],\n",
       "       [15.065, 46.652],\n",
       "       [14.844, 47.048],\n",
       "       [13.947, 46.941],\n",
       "       [13.785, 46.944],\n",
       "       [13.864, 47.252],\n",
       "       [13.608, 47.284],\n",
       "       [13.586, 47.475],\n",
       "       [13.723, 47.462],\n",
       "       [13.777, 47.715],\n",
       "       [14.011, 47.701],\n",
       "       [14.738, 47.749],\n",
       "       [15.089, 47.741],\n",
       "       [15.217, 47.796],\n",
       "       [15.847, 47.568],\n",
       "       [16.172, 47.422]]],\n",
       "     'type': 'Polygon'},\n",
       "    'id': 'AT22',\n",
       "    'properties': {'CNTR_CODE': 'AT',\n",
       "     'FID': 'AT22',\n",
       "     'LEVL_CODE': 2,\n",
       "     'NUTS_ID': 'AT22',\n",
       "     'NUTS_NAME': 'Steiermark'},\n",
       "    'type': 'Feature'}],\n",
       "  'type': 'FeatureCollection'},\n",
       " {'crs': {'properties': {'name': 'urn:ogc:def:crs:EPSG::4326'},\n",
       "   'type': 'name'},\n",
       "  'features': [{'geometry': {'coordinates': [[[14.691, 48.584],\n",
       "       [14.964, 48.379],\n",
       "       [14.829, 48.189],\n",
       "       [14.521, 48.238],\n",
       "       [14.479, 48.104],\n",
       "       [14.738, 47.749],\n",
       "       [14.011, 47.701],\n",
       "       [13.777, 47.715],\n",
       "       [13.723, 47.462],\n",
       "       [13.586, 47.475],\n",
       "       [13.516, 47.497],\n",
       "       [13.304, 48.008],\n",
       "       [12.86, 47.997],\n",
       "       [12.752, 48.113],\n",
       "       [12.945, 48.207],\n",
       "       [13.177, 48.294],\n",
       "       [13.408, 48.372],\n",
       "       [13.438, 48.549],\n",
       "       [13.513, 48.591],\n",
       "       [13.727, 48.513],\n",
       "       [13.796, 48.714],\n",
       "       [13.84, 48.772],\n",
       "       [14.691, 48.584]]],\n",
       "     'type': 'Polygon'},\n",
       "    'id': 'AT31',\n",
       "    'properties': {'CNTR_CODE': 'AT',\n",
       "     'FID': 'AT31',\n",
       "     'LEVL_CODE': 2,\n",
       "     'NUTS_ID': 'AT31',\n",
       "     'NUTS_NAME': 'Oberösterreich'},\n",
       "    'type': 'Feature'}],\n",
       "  'type': 'FeatureCollection'},\n",
       " {'crs': {'properties': {'name': 'urn:ogc:def:crs:EPSG::4326'},\n",
       "   'type': 'name'},\n",
       "  'features': [{'geometry': {'coordinates': [[[13.586, 47.475],\n",
       "       [13.608, 47.284],\n",
       "       [13.864, 47.252],\n",
       "       [13.785, 46.944],\n",
       "       [13.355, 47.097],\n",
       "       [12.657, 47.1],\n",
       "       [12.241, 47.069],\n",
       "       [12.136, 47.081],\n",
       "       [12.115, 47.306],\n",
       "       [12.7, 47.478],\n",
       "       [12.575, 47.632],\n",
       "       [12.696, 47.682],\n",
       "       [13.046, 47.521],\n",
       "       [12.876, 47.963],\n",
       "       [12.86, 47.997],\n",
       "       [13.304, 48.008],\n",
       "       [13.516, 47.497],\n",
       "       [13.586, 47.475]]],\n",
       "     'type': 'Polygon'},\n",
       "    'id': 'AT32',\n",
       "    'properties': {'CNTR_CODE': 'AT',\n",
       "     'FID': 'AT32',\n",
       "     'LEVL_CODE': 2,\n",
       "     'NUTS_ID': 'AT32',\n",
       "     'NUTS_NAME': 'Salzburg'},\n",
       "    'type': 'Feature'}],\n",
       "  'type': 'FeatureCollection'},\n",
       " {'crs': {'properties': {'name': 'urn:ogc:def:crs:EPSG::4326'},\n",
       "   'type': 'name'},\n",
       "  'features': [{'geometry': {'coordinates': [[[[12.136, 47.081],\n",
       "        [11.627, 47.013],\n",
       "        [11.164, 46.966],\n",
       "        [11.022, 46.765],\n",
       "        [10.47, 46.855],\n",
       "        [10.389, 47.001],\n",
       "        [10.145, 46.851],\n",
       "        [10.213, 47.158],\n",
       "        [10.178, 47.27],\n",
       "        [10.454, 47.556],\n",
       "        [10.886, 47.537],\n",
       "        [10.991, 47.396],\n",
       "        [11.017, 47.396],\n",
       "        [11.421, 47.445],\n",
       "        [11.41, 47.495],\n",
       "        [11.633, 47.592],\n",
       "        [12.061, 47.619],\n",
       "        [12.338, 47.697],\n",
       "        [12.575, 47.632],\n",
       "        [12.7, 47.478],\n",
       "        [12.115, 47.306],\n",
       "        [12.136, 47.081]]],\n",
       "      [[[12.691, 46.657],\n",
       "        [12.478, 46.68],\n",
       "        [12.144, 46.914],\n",
       "        [12.241, 47.069],\n",
       "        [12.657, 47.1],\n",
       "        [12.841, 46.861],\n",
       "        [12.691, 46.657]]]],\n",
       "     'type': 'MultiPolygon'},\n",
       "    'id': 'AT33',\n",
       "    'properties': {'CNTR_CODE': 'AT',\n",
       "     'FID': 'AT33',\n",
       "     'LEVL_CODE': 2,\n",
       "     'NUTS_ID': 'AT33',\n",
       "     'NUTS_NAME': 'Tirol'},\n",
       "    'type': 'Feature'}],\n",
       "  'type': 'FeatureCollection'},\n",
       " {'crs': {'properties': {'name': 'urn:ogc:def:crs:EPSG::4326'},\n",
       "   'type': 'name'},\n",
       "  'features': [{'geometry': {'coordinates': [[[10.178, 47.27],\n",
       "       [10.213, 47.158],\n",
       "       [10.145, 46.851],\n",
       "       [9.607, 47.061],\n",
       "       [9.621, 47.152],\n",
       "       [9.531, 47.271],\n",
       "       [9.673, 47.382],\n",
       "       [9.559, 47.542],\n",
       "       [9.968, 47.546],\n",
       "       [10, 47.483],\n",
       "       [10.178, 47.27]]],\n",
       "     'type': 'Polygon'},\n",
       "    'id': 'AT34',\n",
       "    'properties': {'CNTR_CODE': 'AT',\n",
       "     'FID': 'AT34',\n",
       "     'LEVL_CODE': 2,\n",
       "     'NUTS_ID': 'AT34',\n",
       "     'NUTS_NAME': 'Vorarlberg'},\n",
       "    'type': 'Feature'}],\n",
       "  'type': 'FeatureCollection'}]"
      ]
     },
     "execution_count": 10,
     "metadata": {},
     "output_type": "execute_result"
    }
   ],
   "source": [
    "nuts.geometry"
   ]
  },
  {
   "cell_type": "code",
   "execution_count": 21,
   "metadata": {
    "scrolled": true
   },
   "outputs": [
    {
     "data": {
      "text/plain": [
       "{'crs': {'properties': {'name': 'urn:ogc:def:crs:EPSG::4326'}, 'type': 'name'},\n",
       " 'features': [{'geometry': {'coordinates': [[[13.785, 46.944],\n",
       "      [13.947, 46.941],\n",
       "      [14.844, 47.048],\n",
       "      [15.065, 46.652],\n",
       "      [14.675, 46.451],\n",
       "      [14.565, 46.372],\n",
       "      [14.435, 46.443],\n",
       "      [13.714, 46.523],\n",
       "      [13.504, 46.566],\n",
       "      [12.731, 46.634],\n",
       "      [12.691, 46.657],\n",
       "      [12.841, 46.861],\n",
       "      [12.657, 47.1],\n",
       "      [13.355, 47.097],\n",
       "      [13.785, 46.944]]],\n",
       "    'type': 'Polygon'},\n",
       "   'id': 'AT21',\n",
       "   'properties': {'CNTR_CODE': 'AT',\n",
       "    'FID': 'AT21',\n",
       "    'LEVL_CODE': 2,\n",
       "    'NUTS_ID': 'AT21',\n",
       "    'NUTS_NAME': 'Kärnten'},\n",
       "   'type': 'Feature'}],\n",
       " 'type': 'FeatureCollection'}"
      ]
     },
     "execution_count": 21,
     "metadata": {},
     "output_type": "execute_result"
    }
   ],
   "source": [
    "nuts.load(unit='AT21')"
   ]
  },
  {
   "cell_type": "code",
   "execution_count": 4,
   "metadata": {
    "collapsed": true
   },
   "outputs": [],
   "source": [
    "data = nuts.load(unit=['AT21', 'AT22'])"
   ]
  },
  {
   "cell_type": "code",
   "execution_count": 5,
   "metadata": {},
   "outputs": [
    {
     "data": {
      "application/vnd.jupyter.widget-view+json": {
       "model_id": "f3bc34121ad74684abc1183eb1bd6966",
       "version_major": 2,
       "version_minor": 0
      },
      "text/plain": [
       "Map(basemap={'url': 'https://{s}.tile.openstreetmap.org/{z}/{x}/{y}.png', 'max_zoom': 19, 'attribution': 'Map …"
      ]
     },
     "metadata": {},
     "output_type": "display_data"
    }
   ],
   "source": [
    "nuts.mapping.Map"
   ]
  },
  {
   "cell_type": "code",
   "execution_count": 5,
   "metadata": {
    "collapsed": true
   },
   "outputs": [],
   "source": [
    "import ipyleaflet as ipyl\n",
    "import ipywidgets as ipyw\n",
    "import json"
   ]
  },
  {
   "cell_type": "code",
   "execution_count": null,
   "metadata": {
    "collapsed": true
   },
   "outputs": [],
   "source": []
  },
  {
   "cell_type": "code",
   "execution_count": null,
   "metadata": {
    "collapsed": true
   },
   "outputs": [],
   "source": []
  }
 ],
 "metadata": {
  "kernelspec": {
   "display_name": "Python 3",
   "language": "python",
   "name": "python3"
  },
  "language_info": {
   "codemirror_mode": {
    "name": "ipython",
    "version": 3
   },
   "file_extension": ".py",
   "mimetype": "text/x-python",
   "name": "python",
   "nbconvert_exporter": "python",
   "pygments_lexer": "ipython3",
   "version": "3.6.3"
  }
 },
 "nbformat": 4,
 "nbformat_minor": 2
}
